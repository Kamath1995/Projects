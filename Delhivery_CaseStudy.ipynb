{
 "cells": [
  {
   "cell_type": "markdown",
   "id": "8d023adb",
   "metadata": {},
   "source": [
    "# Problem Statement\n",
    "### - To Help the Data team at Delhivery to understand and process the data coming out of data engineering pipelines.\n",
    "###   - Cleaning, manipulating the data to get useful data out of raw fields\n",
    "###   - Make sense out of the raw data and help the data science team to build forecasting models on it"
   ]
  },
  {
   "cell_type": "code",
   "execution_count": 1,
   "id": "356cec06",
   "metadata": {},
   "outputs": [],
   "source": [
    "import pandas as pd\n",
    "import numpy as np\n",
    "import seaborn as sns\n",
    "from matplotlib import pyplot as plt\n",
    "from scipy.stats import ttest_ind\n",
    "from scipy.stats import f_oneway\n",
    "import datetime\n",
    "from sklearn.preprocessing import LabelEncoder\n",
    "from sklearn.preprocessing import MinMaxScaler"
   ]
  },
  {
   "cell_type": "code",
   "execution_count": 2,
   "id": "002dfb33",
   "metadata": {},
   "outputs": [
    {
     "data": {
      "text/html": [
       "<div>\n",
       "<style scoped>\n",
       "    .dataframe tbody tr th:only-of-type {\n",
       "        vertical-align: middle;\n",
       "    }\n",
       "\n",
       "    .dataframe tbody tr th {\n",
       "        vertical-align: top;\n",
       "    }\n",
       "\n",
       "    .dataframe thead th {\n",
       "        text-align: right;\n",
       "    }\n",
       "</style>\n",
       "<table border=\"1\" class=\"dataframe\">\n",
       "  <thead>\n",
       "    <tr style=\"text-align: right;\">\n",
       "      <th></th>\n",
       "      <th>data</th>\n",
       "      <th>trip_creation_time</th>\n",
       "      <th>route_schedule_uuid</th>\n",
       "      <th>route_type</th>\n",
       "      <th>trip_uuid</th>\n",
       "      <th>source_center</th>\n",
       "      <th>source_name</th>\n",
       "      <th>destination_center</th>\n",
       "      <th>destination_name</th>\n",
       "      <th>od_start_time</th>\n",
       "      <th>...</th>\n",
       "      <th>cutoff_timestamp</th>\n",
       "      <th>actual_distance_to_destination</th>\n",
       "      <th>actual_time</th>\n",
       "      <th>osrm_time</th>\n",
       "      <th>osrm_distance</th>\n",
       "      <th>factor</th>\n",
       "      <th>segment_actual_time</th>\n",
       "      <th>segment_osrm_time</th>\n",
       "      <th>segment_osrm_distance</th>\n",
       "      <th>segment_factor</th>\n",
       "    </tr>\n",
       "  </thead>\n",
       "  <tbody>\n",
       "    <tr>\n",
       "      <th>0</th>\n",
       "      <td>training</td>\n",
       "      <td>2018-09-20 02:35:36.476840</td>\n",
       "      <td>thanos::sroute:eb7bfc78-b351-4c0e-a951-fa3d5c3...</td>\n",
       "      <td>Carting</td>\n",
       "      <td>trip-153741093647649320</td>\n",
       "      <td>IND388121AAA</td>\n",
       "      <td>Anand_VUNagar_DC (Gujarat)</td>\n",
       "      <td>IND388620AAB</td>\n",
       "      <td>Khambhat_MotvdDPP_D (Gujarat)</td>\n",
       "      <td>2018-09-20 03:21:32.418600</td>\n",
       "      <td>...</td>\n",
       "      <td>2018-09-20 04:27:55</td>\n",
       "      <td>10.435660</td>\n",
       "      <td>14.0</td>\n",
       "      <td>11.0</td>\n",
       "      <td>11.9653</td>\n",
       "      <td>1.272727</td>\n",
       "      <td>14.0</td>\n",
       "      <td>11.0</td>\n",
       "      <td>11.9653</td>\n",
       "      <td>1.272727</td>\n",
       "    </tr>\n",
       "    <tr>\n",
       "      <th>1</th>\n",
       "      <td>training</td>\n",
       "      <td>2018-09-20 02:35:36.476840</td>\n",
       "      <td>thanos::sroute:eb7bfc78-b351-4c0e-a951-fa3d5c3...</td>\n",
       "      <td>Carting</td>\n",
       "      <td>trip-153741093647649320</td>\n",
       "      <td>IND388121AAA</td>\n",
       "      <td>Anand_VUNagar_DC (Gujarat)</td>\n",
       "      <td>IND388620AAB</td>\n",
       "      <td>Khambhat_MotvdDPP_D (Gujarat)</td>\n",
       "      <td>2018-09-20 03:21:32.418600</td>\n",
       "      <td>...</td>\n",
       "      <td>2018-09-20 04:17:55</td>\n",
       "      <td>18.936842</td>\n",
       "      <td>24.0</td>\n",
       "      <td>20.0</td>\n",
       "      <td>21.7243</td>\n",
       "      <td>1.200000</td>\n",
       "      <td>10.0</td>\n",
       "      <td>9.0</td>\n",
       "      <td>9.7590</td>\n",
       "      <td>1.111111</td>\n",
       "    </tr>\n",
       "    <tr>\n",
       "      <th>2</th>\n",
       "      <td>training</td>\n",
       "      <td>2018-09-20 02:35:36.476840</td>\n",
       "      <td>thanos::sroute:eb7bfc78-b351-4c0e-a951-fa3d5c3...</td>\n",
       "      <td>Carting</td>\n",
       "      <td>trip-153741093647649320</td>\n",
       "      <td>IND388121AAA</td>\n",
       "      <td>Anand_VUNagar_DC (Gujarat)</td>\n",
       "      <td>IND388620AAB</td>\n",
       "      <td>Khambhat_MotvdDPP_D (Gujarat)</td>\n",
       "      <td>2018-09-20 03:21:32.418600</td>\n",
       "      <td>...</td>\n",
       "      <td>2018-09-20 04:01:19.505586</td>\n",
       "      <td>27.637279</td>\n",
       "      <td>40.0</td>\n",
       "      <td>28.0</td>\n",
       "      <td>32.5395</td>\n",
       "      <td>1.428571</td>\n",
       "      <td>16.0</td>\n",
       "      <td>7.0</td>\n",
       "      <td>10.8152</td>\n",
       "      <td>2.285714</td>\n",
       "    </tr>\n",
       "    <tr>\n",
       "      <th>3</th>\n",
       "      <td>training</td>\n",
       "      <td>2018-09-20 02:35:36.476840</td>\n",
       "      <td>thanos::sroute:eb7bfc78-b351-4c0e-a951-fa3d5c3...</td>\n",
       "      <td>Carting</td>\n",
       "      <td>trip-153741093647649320</td>\n",
       "      <td>IND388121AAA</td>\n",
       "      <td>Anand_VUNagar_DC (Gujarat)</td>\n",
       "      <td>IND388620AAB</td>\n",
       "      <td>Khambhat_MotvdDPP_D (Gujarat)</td>\n",
       "      <td>2018-09-20 03:21:32.418600</td>\n",
       "      <td>...</td>\n",
       "      <td>2018-09-20 03:39:57</td>\n",
       "      <td>36.118028</td>\n",
       "      <td>62.0</td>\n",
       "      <td>40.0</td>\n",
       "      <td>45.5620</td>\n",
       "      <td>1.550000</td>\n",
       "      <td>21.0</td>\n",
       "      <td>12.0</td>\n",
       "      <td>13.0224</td>\n",
       "      <td>1.750000</td>\n",
       "    </tr>\n",
       "    <tr>\n",
       "      <th>4</th>\n",
       "      <td>training</td>\n",
       "      <td>2018-09-20 02:35:36.476840</td>\n",
       "      <td>thanos::sroute:eb7bfc78-b351-4c0e-a951-fa3d5c3...</td>\n",
       "      <td>Carting</td>\n",
       "      <td>trip-153741093647649320</td>\n",
       "      <td>IND388121AAA</td>\n",
       "      <td>Anand_VUNagar_DC (Gujarat)</td>\n",
       "      <td>IND388620AAB</td>\n",
       "      <td>Khambhat_MotvdDPP_D (Gujarat)</td>\n",
       "      <td>2018-09-20 03:21:32.418600</td>\n",
       "      <td>...</td>\n",
       "      <td>2018-09-20 03:33:55</td>\n",
       "      <td>39.386040</td>\n",
       "      <td>68.0</td>\n",
       "      <td>44.0</td>\n",
       "      <td>54.2181</td>\n",
       "      <td>1.545455</td>\n",
       "      <td>6.0</td>\n",
       "      <td>5.0</td>\n",
       "      <td>3.9153</td>\n",
       "      <td>1.200000</td>\n",
       "    </tr>\n",
       "  </tbody>\n",
       "</table>\n",
       "<p>5 rows × 24 columns</p>\n",
       "</div>"
      ],
      "text/plain": [
       "       data          trip_creation_time  \\\n",
       "0  training  2018-09-20 02:35:36.476840   \n",
       "1  training  2018-09-20 02:35:36.476840   \n",
       "2  training  2018-09-20 02:35:36.476840   \n",
       "3  training  2018-09-20 02:35:36.476840   \n",
       "4  training  2018-09-20 02:35:36.476840   \n",
       "\n",
       "                                 route_schedule_uuid route_type  \\\n",
       "0  thanos::sroute:eb7bfc78-b351-4c0e-a951-fa3d5c3...    Carting   \n",
       "1  thanos::sroute:eb7bfc78-b351-4c0e-a951-fa3d5c3...    Carting   \n",
       "2  thanos::sroute:eb7bfc78-b351-4c0e-a951-fa3d5c3...    Carting   \n",
       "3  thanos::sroute:eb7bfc78-b351-4c0e-a951-fa3d5c3...    Carting   \n",
       "4  thanos::sroute:eb7bfc78-b351-4c0e-a951-fa3d5c3...    Carting   \n",
       "\n",
       "                 trip_uuid source_center                 source_name  \\\n",
       "0  trip-153741093647649320  IND388121AAA  Anand_VUNagar_DC (Gujarat)   \n",
       "1  trip-153741093647649320  IND388121AAA  Anand_VUNagar_DC (Gujarat)   \n",
       "2  trip-153741093647649320  IND388121AAA  Anand_VUNagar_DC (Gujarat)   \n",
       "3  trip-153741093647649320  IND388121AAA  Anand_VUNagar_DC (Gujarat)   \n",
       "4  trip-153741093647649320  IND388121AAA  Anand_VUNagar_DC (Gujarat)   \n",
       "\n",
       "  destination_center               destination_name  \\\n",
       "0       IND388620AAB  Khambhat_MotvdDPP_D (Gujarat)   \n",
       "1       IND388620AAB  Khambhat_MotvdDPP_D (Gujarat)   \n",
       "2       IND388620AAB  Khambhat_MotvdDPP_D (Gujarat)   \n",
       "3       IND388620AAB  Khambhat_MotvdDPP_D (Gujarat)   \n",
       "4       IND388620AAB  Khambhat_MotvdDPP_D (Gujarat)   \n",
       "\n",
       "                od_start_time  ...            cutoff_timestamp  \\\n",
       "0  2018-09-20 03:21:32.418600  ...         2018-09-20 04:27:55   \n",
       "1  2018-09-20 03:21:32.418600  ...         2018-09-20 04:17:55   \n",
       "2  2018-09-20 03:21:32.418600  ...  2018-09-20 04:01:19.505586   \n",
       "3  2018-09-20 03:21:32.418600  ...         2018-09-20 03:39:57   \n",
       "4  2018-09-20 03:21:32.418600  ...         2018-09-20 03:33:55   \n",
       "\n",
       "   actual_distance_to_destination  actual_time  osrm_time osrm_distance  \\\n",
       "0                       10.435660         14.0       11.0       11.9653   \n",
       "1                       18.936842         24.0       20.0       21.7243   \n",
       "2                       27.637279         40.0       28.0       32.5395   \n",
       "3                       36.118028         62.0       40.0       45.5620   \n",
       "4                       39.386040         68.0       44.0       54.2181   \n",
       "\n",
       "     factor  segment_actual_time  segment_osrm_time  segment_osrm_distance  \\\n",
       "0  1.272727                 14.0               11.0                11.9653   \n",
       "1  1.200000                 10.0                9.0                 9.7590   \n",
       "2  1.428571                 16.0                7.0                10.8152   \n",
       "3  1.550000                 21.0               12.0                13.0224   \n",
       "4  1.545455                  6.0                5.0                 3.9153   \n",
       "\n",
       "   segment_factor  \n",
       "0        1.272727  \n",
       "1        1.111111  \n",
       "2        2.285714  \n",
       "3        1.750000  \n",
       "4        1.200000  \n",
       "\n",
       "[5 rows x 24 columns]"
      ]
     },
     "execution_count": 2,
     "metadata": {},
     "output_type": "execute_result"
    }
   ],
   "source": [
    "data=pd.read_csv('delhivery_data.txt')\n",
    "data.head()"
   ]
  },
  {
   "cell_type": "code",
   "execution_count": 3,
   "id": "5ae5148b",
   "metadata": {},
   "outputs": [
    {
     "data": {
      "text/plain": [
       "(144867, 24)"
      ]
     },
     "execution_count": 3,
     "metadata": {},
     "output_type": "execute_result"
    }
   ],
   "source": [
    "data.shape"
   ]
  },
  {
   "cell_type": "code",
   "execution_count": 4,
   "id": "e8d526a8",
   "metadata": {},
   "outputs": [
    {
     "data": {
      "text/plain": [
       "3476808"
      ]
     },
     "execution_count": 4,
     "metadata": {},
     "output_type": "execute_result"
    }
   ],
   "source": [
    "data.size"
   ]
  },
  {
   "cell_type": "code",
   "execution_count": 5,
   "id": "94bd16ee",
   "metadata": {},
   "outputs": [
    {
     "name": "stdout",
     "output_type": "stream",
     "text": [
      "<class 'pandas.core.frame.DataFrame'>\n",
      "RangeIndex: 144867 entries, 0 to 144866\n",
      "Data columns (total 24 columns):\n",
      " #   Column                          Non-Null Count   Dtype  \n",
      "---  ------                          --------------   -----  \n",
      " 0   data                            144867 non-null  object \n",
      " 1   trip_creation_time              144867 non-null  object \n",
      " 2   route_schedule_uuid             144867 non-null  object \n",
      " 3   route_type                      144867 non-null  object \n",
      " 4   trip_uuid                       144867 non-null  object \n",
      " 5   source_center                   144867 non-null  object \n",
      " 6   source_name                     144574 non-null  object \n",
      " 7   destination_center              144867 non-null  object \n",
      " 8   destination_name                144606 non-null  object \n",
      " 9   od_start_time                   144867 non-null  object \n",
      " 10  od_end_time                     144867 non-null  object \n",
      " 11  start_scan_to_end_scan          144867 non-null  float64\n",
      " 12  is_cutoff                       144867 non-null  bool   \n",
      " 13  cutoff_factor                   144867 non-null  int64  \n",
      " 14  cutoff_timestamp                144867 non-null  object \n",
      " 15  actual_distance_to_destination  144867 non-null  float64\n",
      " 16  actual_time                     144867 non-null  float64\n",
      " 17  osrm_time                       144867 non-null  float64\n",
      " 18  osrm_distance                   144867 non-null  float64\n",
      " 19  factor                          144867 non-null  float64\n",
      " 20  segment_actual_time             144867 non-null  float64\n",
      " 21  segment_osrm_time               144867 non-null  float64\n",
      " 22  segment_osrm_distance           144867 non-null  float64\n",
      " 23  segment_factor                  144867 non-null  float64\n",
      "dtypes: bool(1), float64(10), int64(1), object(12)\n",
      "memory usage: 25.6+ MB\n"
     ]
    }
   ],
   "source": [
    "data.info()"
   ]
  },
  {
   "cell_type": "markdown",
   "id": "6da69999",
   "metadata": {},
   "source": [
    "### conversion of categorical attributes to 'category'"
   ]
  },
  {
   "cell_type": "code",
   "execution_count": 6,
   "id": "5143074e",
   "metadata": {},
   "outputs": [],
   "source": [
    "data['data']=data['data'].astype('category')\n",
    "data['route_type']=data['route_type'].astype('category')"
   ]
  },
  {
   "cell_type": "markdown",
   "id": "541f5efd",
   "metadata": {},
   "source": [
    "### Dropping unknown columns"
   ]
  },
  {
   "cell_type": "code",
   "execution_count": 7,
   "id": "4da318fa",
   "metadata": {},
   "outputs": [
    {
     "data": {
      "text/html": [
       "<div>\n",
       "<style scoped>\n",
       "    .dataframe tbody tr th:only-of-type {\n",
       "        vertical-align: middle;\n",
       "    }\n",
       "\n",
       "    .dataframe tbody tr th {\n",
       "        vertical-align: top;\n",
       "    }\n",
       "\n",
       "    .dataframe thead th {\n",
       "        text-align: right;\n",
       "    }\n",
       "</style>\n",
       "<table border=\"1\" class=\"dataframe\">\n",
       "  <thead>\n",
       "    <tr style=\"text-align: right;\">\n",
       "      <th></th>\n",
       "      <th>data</th>\n",
       "      <th>trip_creation_time</th>\n",
       "      <th>route_schedule_uuid</th>\n",
       "      <th>route_type</th>\n",
       "      <th>trip_uuid</th>\n",
       "      <th>source_center</th>\n",
       "      <th>source_name</th>\n",
       "      <th>destination_center</th>\n",
       "      <th>destination_name</th>\n",
       "      <th>od_start_time</th>\n",
       "      <th>od_end_time</th>\n",
       "      <th>start_scan_to_end_scan</th>\n",
       "      <th>actual_distance_to_destination</th>\n",
       "      <th>actual_time</th>\n",
       "      <th>osrm_time</th>\n",
       "      <th>osrm_distance</th>\n",
       "      <th>segment_actual_time</th>\n",
       "      <th>segment_osrm_time</th>\n",
       "      <th>segment_osrm_distance</th>\n",
       "    </tr>\n",
       "  </thead>\n",
       "  <tbody>\n",
       "    <tr>\n",
       "      <th>0</th>\n",
       "      <td>training</td>\n",
       "      <td>2018-09-20 02:35:36.476840</td>\n",
       "      <td>thanos::sroute:eb7bfc78-b351-4c0e-a951-fa3d5c3...</td>\n",
       "      <td>Carting</td>\n",
       "      <td>trip-153741093647649320</td>\n",
       "      <td>IND388121AAA</td>\n",
       "      <td>Anand_VUNagar_DC (Gujarat)</td>\n",
       "      <td>IND388620AAB</td>\n",
       "      <td>Khambhat_MotvdDPP_D (Gujarat)</td>\n",
       "      <td>2018-09-20 03:21:32.418600</td>\n",
       "      <td>2018-09-20 04:47:45.236797</td>\n",
       "      <td>86.0</td>\n",
       "      <td>10.435660</td>\n",
       "      <td>14.0</td>\n",
       "      <td>11.0</td>\n",
       "      <td>11.9653</td>\n",
       "      <td>14.0</td>\n",
       "      <td>11.0</td>\n",
       "      <td>11.9653</td>\n",
       "    </tr>\n",
       "    <tr>\n",
       "      <th>1</th>\n",
       "      <td>training</td>\n",
       "      <td>2018-09-20 02:35:36.476840</td>\n",
       "      <td>thanos::sroute:eb7bfc78-b351-4c0e-a951-fa3d5c3...</td>\n",
       "      <td>Carting</td>\n",
       "      <td>trip-153741093647649320</td>\n",
       "      <td>IND388121AAA</td>\n",
       "      <td>Anand_VUNagar_DC (Gujarat)</td>\n",
       "      <td>IND388620AAB</td>\n",
       "      <td>Khambhat_MotvdDPP_D (Gujarat)</td>\n",
       "      <td>2018-09-20 03:21:32.418600</td>\n",
       "      <td>2018-09-20 04:47:45.236797</td>\n",
       "      <td>86.0</td>\n",
       "      <td>18.936842</td>\n",
       "      <td>24.0</td>\n",
       "      <td>20.0</td>\n",
       "      <td>21.7243</td>\n",
       "      <td>10.0</td>\n",
       "      <td>9.0</td>\n",
       "      <td>9.7590</td>\n",
       "    </tr>\n",
       "    <tr>\n",
       "      <th>2</th>\n",
       "      <td>training</td>\n",
       "      <td>2018-09-20 02:35:36.476840</td>\n",
       "      <td>thanos::sroute:eb7bfc78-b351-4c0e-a951-fa3d5c3...</td>\n",
       "      <td>Carting</td>\n",
       "      <td>trip-153741093647649320</td>\n",
       "      <td>IND388121AAA</td>\n",
       "      <td>Anand_VUNagar_DC (Gujarat)</td>\n",
       "      <td>IND388620AAB</td>\n",
       "      <td>Khambhat_MotvdDPP_D (Gujarat)</td>\n",
       "      <td>2018-09-20 03:21:32.418600</td>\n",
       "      <td>2018-09-20 04:47:45.236797</td>\n",
       "      <td>86.0</td>\n",
       "      <td>27.637279</td>\n",
       "      <td>40.0</td>\n",
       "      <td>28.0</td>\n",
       "      <td>32.5395</td>\n",
       "      <td>16.0</td>\n",
       "      <td>7.0</td>\n",
       "      <td>10.8152</td>\n",
       "    </tr>\n",
       "    <tr>\n",
       "      <th>3</th>\n",
       "      <td>training</td>\n",
       "      <td>2018-09-20 02:35:36.476840</td>\n",
       "      <td>thanos::sroute:eb7bfc78-b351-4c0e-a951-fa3d5c3...</td>\n",
       "      <td>Carting</td>\n",
       "      <td>trip-153741093647649320</td>\n",
       "      <td>IND388121AAA</td>\n",
       "      <td>Anand_VUNagar_DC (Gujarat)</td>\n",
       "      <td>IND388620AAB</td>\n",
       "      <td>Khambhat_MotvdDPP_D (Gujarat)</td>\n",
       "      <td>2018-09-20 03:21:32.418600</td>\n",
       "      <td>2018-09-20 04:47:45.236797</td>\n",
       "      <td>86.0</td>\n",
       "      <td>36.118028</td>\n",
       "      <td>62.0</td>\n",
       "      <td>40.0</td>\n",
       "      <td>45.5620</td>\n",
       "      <td>21.0</td>\n",
       "      <td>12.0</td>\n",
       "      <td>13.0224</td>\n",
       "    </tr>\n",
       "    <tr>\n",
       "      <th>4</th>\n",
       "      <td>training</td>\n",
       "      <td>2018-09-20 02:35:36.476840</td>\n",
       "      <td>thanos::sroute:eb7bfc78-b351-4c0e-a951-fa3d5c3...</td>\n",
       "      <td>Carting</td>\n",
       "      <td>trip-153741093647649320</td>\n",
       "      <td>IND388121AAA</td>\n",
       "      <td>Anand_VUNagar_DC (Gujarat)</td>\n",
       "      <td>IND388620AAB</td>\n",
       "      <td>Khambhat_MotvdDPP_D (Gujarat)</td>\n",
       "      <td>2018-09-20 03:21:32.418600</td>\n",
       "      <td>2018-09-20 04:47:45.236797</td>\n",
       "      <td>86.0</td>\n",
       "      <td>39.386040</td>\n",
       "      <td>68.0</td>\n",
       "      <td>44.0</td>\n",
       "      <td>54.2181</td>\n",
       "      <td>6.0</td>\n",
       "      <td>5.0</td>\n",
       "      <td>3.9153</td>\n",
       "    </tr>\n",
       "  </tbody>\n",
       "</table>\n",
       "</div>"
      ],
      "text/plain": [
       "       data          trip_creation_time  \\\n",
       "0  training  2018-09-20 02:35:36.476840   \n",
       "1  training  2018-09-20 02:35:36.476840   \n",
       "2  training  2018-09-20 02:35:36.476840   \n",
       "3  training  2018-09-20 02:35:36.476840   \n",
       "4  training  2018-09-20 02:35:36.476840   \n",
       "\n",
       "                                 route_schedule_uuid route_type  \\\n",
       "0  thanos::sroute:eb7bfc78-b351-4c0e-a951-fa3d5c3...    Carting   \n",
       "1  thanos::sroute:eb7bfc78-b351-4c0e-a951-fa3d5c3...    Carting   \n",
       "2  thanos::sroute:eb7bfc78-b351-4c0e-a951-fa3d5c3...    Carting   \n",
       "3  thanos::sroute:eb7bfc78-b351-4c0e-a951-fa3d5c3...    Carting   \n",
       "4  thanos::sroute:eb7bfc78-b351-4c0e-a951-fa3d5c3...    Carting   \n",
       "\n",
       "                 trip_uuid source_center                 source_name  \\\n",
       "0  trip-153741093647649320  IND388121AAA  Anand_VUNagar_DC (Gujarat)   \n",
       "1  trip-153741093647649320  IND388121AAA  Anand_VUNagar_DC (Gujarat)   \n",
       "2  trip-153741093647649320  IND388121AAA  Anand_VUNagar_DC (Gujarat)   \n",
       "3  trip-153741093647649320  IND388121AAA  Anand_VUNagar_DC (Gujarat)   \n",
       "4  trip-153741093647649320  IND388121AAA  Anand_VUNagar_DC (Gujarat)   \n",
       "\n",
       "  destination_center               destination_name  \\\n",
       "0       IND388620AAB  Khambhat_MotvdDPP_D (Gujarat)   \n",
       "1       IND388620AAB  Khambhat_MotvdDPP_D (Gujarat)   \n",
       "2       IND388620AAB  Khambhat_MotvdDPP_D (Gujarat)   \n",
       "3       IND388620AAB  Khambhat_MotvdDPP_D (Gujarat)   \n",
       "4       IND388620AAB  Khambhat_MotvdDPP_D (Gujarat)   \n",
       "\n",
       "                od_start_time                 od_end_time  \\\n",
       "0  2018-09-20 03:21:32.418600  2018-09-20 04:47:45.236797   \n",
       "1  2018-09-20 03:21:32.418600  2018-09-20 04:47:45.236797   \n",
       "2  2018-09-20 03:21:32.418600  2018-09-20 04:47:45.236797   \n",
       "3  2018-09-20 03:21:32.418600  2018-09-20 04:47:45.236797   \n",
       "4  2018-09-20 03:21:32.418600  2018-09-20 04:47:45.236797   \n",
       "\n",
       "   start_scan_to_end_scan  actual_distance_to_destination  actual_time  \\\n",
       "0                    86.0                       10.435660         14.0   \n",
       "1                    86.0                       18.936842         24.0   \n",
       "2                    86.0                       27.637279         40.0   \n",
       "3                    86.0                       36.118028         62.0   \n",
       "4                    86.0                       39.386040         68.0   \n",
       "\n",
       "   osrm_time  osrm_distance  segment_actual_time  segment_osrm_time  \\\n",
       "0       11.0        11.9653                 14.0               11.0   \n",
       "1       20.0        21.7243                 10.0                9.0   \n",
       "2       28.0        32.5395                 16.0                7.0   \n",
       "3       40.0        45.5620                 21.0               12.0   \n",
       "4       44.0        54.2181                  6.0                5.0   \n",
       "\n",
       "   segment_osrm_distance  \n",
       "0                11.9653  \n",
       "1                 9.7590  \n",
       "2                10.8152  \n",
       "3                13.0224  \n",
       "4                 3.9153  "
      ]
     },
     "execution_count": 7,
     "metadata": {},
     "output_type": "execute_result"
    }
   ],
   "source": [
    "data.drop(['is_cutoff','cutoff_factor','cutoff_timestamp','factor','segment_factor'],axis=1, inplace=True)\n",
    "data.head()"
   ]
  },
  {
   "cell_type": "code",
   "execution_count": 8,
   "id": "346b8066",
   "metadata": {},
   "outputs": [
    {
     "data": {
      "text/html": [
       "<div>\n",
       "<style scoped>\n",
       "    .dataframe tbody tr th:only-of-type {\n",
       "        vertical-align: middle;\n",
       "    }\n",
       "\n",
       "    .dataframe tbody tr th {\n",
       "        vertical-align: top;\n",
       "    }\n",
       "\n",
       "    .dataframe thead th {\n",
       "        text-align: right;\n",
       "    }\n",
       "</style>\n",
       "<table border=\"1\" class=\"dataframe\">\n",
       "  <thead>\n",
       "    <tr style=\"text-align: right;\">\n",
       "      <th></th>\n",
       "      <th>count</th>\n",
       "      <th>mean</th>\n",
       "      <th>std</th>\n",
       "      <th>min</th>\n",
       "      <th>25%</th>\n",
       "      <th>50%</th>\n",
       "      <th>75%</th>\n",
       "      <th>max</th>\n",
       "    </tr>\n",
       "  </thead>\n",
       "  <tbody>\n",
       "    <tr>\n",
       "      <th>start_scan_to_end_scan</th>\n",
       "      <td>144867.0</td>\n",
       "      <td>961.262986</td>\n",
       "      <td>1037.012769</td>\n",
       "      <td>20.000000</td>\n",
       "      <td>161.000000</td>\n",
       "      <td>449.000000</td>\n",
       "      <td>1634.000000</td>\n",
       "      <td>7898.000000</td>\n",
       "    </tr>\n",
       "    <tr>\n",
       "      <th>actual_distance_to_destination</th>\n",
       "      <td>144867.0</td>\n",
       "      <td>234.073372</td>\n",
       "      <td>344.990009</td>\n",
       "      <td>9.000045</td>\n",
       "      <td>23.355874</td>\n",
       "      <td>66.126571</td>\n",
       "      <td>286.708875</td>\n",
       "      <td>1927.447705</td>\n",
       "    </tr>\n",
       "    <tr>\n",
       "      <th>actual_time</th>\n",
       "      <td>144867.0</td>\n",
       "      <td>416.927527</td>\n",
       "      <td>598.103621</td>\n",
       "      <td>9.000000</td>\n",
       "      <td>51.000000</td>\n",
       "      <td>132.000000</td>\n",
       "      <td>513.000000</td>\n",
       "      <td>4532.000000</td>\n",
       "    </tr>\n",
       "    <tr>\n",
       "      <th>osrm_time</th>\n",
       "      <td>144867.0</td>\n",
       "      <td>213.868272</td>\n",
       "      <td>308.011085</td>\n",
       "      <td>6.000000</td>\n",
       "      <td>27.000000</td>\n",
       "      <td>64.000000</td>\n",
       "      <td>257.000000</td>\n",
       "      <td>1686.000000</td>\n",
       "    </tr>\n",
       "    <tr>\n",
       "      <th>osrm_distance</th>\n",
       "      <td>144867.0</td>\n",
       "      <td>284.771297</td>\n",
       "      <td>421.119294</td>\n",
       "      <td>9.008200</td>\n",
       "      <td>29.914700</td>\n",
       "      <td>78.525800</td>\n",
       "      <td>343.193250</td>\n",
       "      <td>2326.199100</td>\n",
       "    </tr>\n",
       "    <tr>\n",
       "      <th>segment_actual_time</th>\n",
       "      <td>144867.0</td>\n",
       "      <td>36.196111</td>\n",
       "      <td>53.571158</td>\n",
       "      <td>-244.000000</td>\n",
       "      <td>20.000000</td>\n",
       "      <td>29.000000</td>\n",
       "      <td>40.000000</td>\n",
       "      <td>3051.000000</td>\n",
       "    </tr>\n",
       "    <tr>\n",
       "      <th>segment_osrm_time</th>\n",
       "      <td>144867.0</td>\n",
       "      <td>18.507548</td>\n",
       "      <td>14.775960</td>\n",
       "      <td>0.000000</td>\n",
       "      <td>11.000000</td>\n",
       "      <td>17.000000</td>\n",
       "      <td>22.000000</td>\n",
       "      <td>1611.000000</td>\n",
       "    </tr>\n",
       "    <tr>\n",
       "      <th>segment_osrm_distance</th>\n",
       "      <td>144867.0</td>\n",
       "      <td>22.829020</td>\n",
       "      <td>17.860660</td>\n",
       "      <td>0.000000</td>\n",
       "      <td>12.070100</td>\n",
       "      <td>23.513000</td>\n",
       "      <td>27.813250</td>\n",
       "      <td>2191.403700</td>\n",
       "    </tr>\n",
       "  </tbody>\n",
       "</table>\n",
       "</div>"
      ],
      "text/plain": [
       "                                   count        mean          std         min  \\\n",
       "start_scan_to_end_scan          144867.0  961.262986  1037.012769   20.000000   \n",
       "actual_distance_to_destination  144867.0  234.073372   344.990009    9.000045   \n",
       "actual_time                     144867.0  416.927527   598.103621    9.000000   \n",
       "osrm_time                       144867.0  213.868272   308.011085    6.000000   \n",
       "osrm_distance                   144867.0  284.771297   421.119294    9.008200   \n",
       "segment_actual_time             144867.0   36.196111    53.571158 -244.000000   \n",
       "segment_osrm_time               144867.0   18.507548    14.775960    0.000000   \n",
       "segment_osrm_distance           144867.0   22.829020    17.860660    0.000000   \n",
       "\n",
       "                                       25%         50%          75%  \\\n",
       "start_scan_to_end_scan          161.000000  449.000000  1634.000000   \n",
       "actual_distance_to_destination   23.355874   66.126571   286.708875   \n",
       "actual_time                      51.000000  132.000000   513.000000   \n",
       "osrm_time                        27.000000   64.000000   257.000000   \n",
       "osrm_distance                    29.914700   78.525800   343.193250   \n",
       "segment_actual_time              20.000000   29.000000    40.000000   \n",
       "segment_osrm_time                11.000000   17.000000    22.000000   \n",
       "segment_osrm_distance            12.070100   23.513000    27.813250   \n",
       "\n",
       "                                        max  \n",
       "start_scan_to_end_scan          7898.000000  \n",
       "actual_distance_to_destination  1927.447705  \n",
       "actual_time                     4532.000000  \n",
       "osrm_time                       1686.000000  \n",
       "osrm_distance                   2326.199100  \n",
       "segment_actual_time             3051.000000  \n",
       "segment_osrm_time               1611.000000  \n",
       "segment_osrm_distance           2191.403700  "
      ]
     },
     "execution_count": 8,
     "metadata": {},
     "output_type": "execute_result"
    }
   ],
   "source": [
    "data.describe().T"
   ]
  },
  {
   "cell_type": "code",
   "execution_count": 9,
   "id": "7ac2f36f",
   "metadata": {},
   "outputs": [
    {
     "data": {
      "text/html": [
       "<div>\n",
       "<style scoped>\n",
       "    .dataframe tbody tr th:only-of-type {\n",
       "        vertical-align: middle;\n",
       "    }\n",
       "\n",
       "    .dataframe tbody tr th {\n",
       "        vertical-align: top;\n",
       "    }\n",
       "\n",
       "    .dataframe thead th {\n",
       "        text-align: right;\n",
       "    }\n",
       "</style>\n",
       "<table border=\"1\" class=\"dataframe\">\n",
       "  <thead>\n",
       "    <tr style=\"text-align: right;\">\n",
       "      <th></th>\n",
       "      <th>count</th>\n",
       "      <th>unique</th>\n",
       "      <th>top</th>\n",
       "      <th>freq</th>\n",
       "    </tr>\n",
       "  </thead>\n",
       "  <tbody>\n",
       "    <tr>\n",
       "      <th>trip_creation_time</th>\n",
       "      <td>144867</td>\n",
       "      <td>14817</td>\n",
       "      <td>2018-09-28 05:23:15.359220</td>\n",
       "      <td>101</td>\n",
       "    </tr>\n",
       "    <tr>\n",
       "      <th>route_schedule_uuid</th>\n",
       "      <td>144867</td>\n",
       "      <td>1504</td>\n",
       "      <td>thanos::sroute:4029a8a2-6c74-4b7e-a6d8-f9e069f...</td>\n",
       "      <td>1812</td>\n",
       "    </tr>\n",
       "    <tr>\n",
       "      <th>trip_uuid</th>\n",
       "      <td>144867</td>\n",
       "      <td>14817</td>\n",
       "      <td>trip-153811219535896559</td>\n",
       "      <td>101</td>\n",
       "    </tr>\n",
       "    <tr>\n",
       "      <th>source_center</th>\n",
       "      <td>144867</td>\n",
       "      <td>1508</td>\n",
       "      <td>IND000000ACB</td>\n",
       "      <td>23347</td>\n",
       "    </tr>\n",
       "    <tr>\n",
       "      <th>source_name</th>\n",
       "      <td>144574</td>\n",
       "      <td>1498</td>\n",
       "      <td>Gurgaon_Bilaspur_HB (Haryana)</td>\n",
       "      <td>23347</td>\n",
       "    </tr>\n",
       "    <tr>\n",
       "      <th>destination_center</th>\n",
       "      <td>144867</td>\n",
       "      <td>1481</td>\n",
       "      <td>IND000000ACB</td>\n",
       "      <td>15192</td>\n",
       "    </tr>\n",
       "    <tr>\n",
       "      <th>destination_name</th>\n",
       "      <td>144606</td>\n",
       "      <td>1468</td>\n",
       "      <td>Gurgaon_Bilaspur_HB (Haryana)</td>\n",
       "      <td>15192</td>\n",
       "    </tr>\n",
       "    <tr>\n",
       "      <th>od_start_time</th>\n",
       "      <td>144867</td>\n",
       "      <td>26369</td>\n",
       "      <td>2018-09-21 18:37:09.322207</td>\n",
       "      <td>81</td>\n",
       "    </tr>\n",
       "    <tr>\n",
       "      <th>od_end_time</th>\n",
       "      <td>144867</td>\n",
       "      <td>26369</td>\n",
       "      <td>2018-09-24 09:59:15.691618</td>\n",
       "      <td>81</td>\n",
       "    </tr>\n",
       "  </tbody>\n",
       "</table>\n",
       "</div>"
      ],
      "text/plain": [
       "                      count unique  \\\n",
       "trip_creation_time   144867  14817   \n",
       "route_schedule_uuid  144867   1504   \n",
       "trip_uuid            144867  14817   \n",
       "source_center        144867   1508   \n",
       "source_name          144574   1498   \n",
       "destination_center   144867   1481   \n",
       "destination_name     144606   1468   \n",
       "od_start_time        144867  26369   \n",
       "od_end_time          144867  26369   \n",
       "\n",
       "                                                                   top   freq  \n",
       "trip_creation_time                          2018-09-28 05:23:15.359220    101  \n",
       "route_schedule_uuid  thanos::sroute:4029a8a2-6c74-4b7e-a6d8-f9e069f...   1812  \n",
       "trip_uuid                                      trip-153811219535896559    101  \n",
       "source_center                                             IND000000ACB  23347  \n",
       "source_name                              Gurgaon_Bilaspur_HB (Haryana)  23347  \n",
       "destination_center                                        IND000000ACB  15192  \n",
       "destination_name                         Gurgaon_Bilaspur_HB (Haryana)  15192  \n",
       "od_start_time                               2018-09-21 18:37:09.322207     81  \n",
       "od_end_time                                 2018-09-24 09:59:15.691618     81  "
      ]
     },
     "execution_count": 9,
     "metadata": {},
     "output_type": "execute_result"
    }
   ],
   "source": [
    "data.describe(include='object').T"
   ]
  },
  {
   "cell_type": "markdown",
   "id": "a62ed83c",
   "metadata": {},
   "source": [
    "### Converting time features from float to datetime"
   ]
  },
  {
   "cell_type": "code",
   "execution_count": 10,
   "id": "383f8750",
   "metadata": {},
   "outputs": [],
   "source": [
    "data['trip_creation_time']=pd.to_datetime(data['trip_creation_time'])\n",
    "data['od_start_time']=pd.to_datetime(data['od_start_time'])\n",
    "data['od_end_time']=pd.to_datetime(data['od_end_time'])"
   ]
  },
  {
   "cell_type": "code",
   "execution_count": 11,
   "id": "68ad3938",
   "metadata": {},
   "outputs": [
    {
     "data": {
      "text/plain": [
       "training    104858\n",
       "test         40009\n",
       "Name: data, dtype: int64"
      ]
     },
     "execution_count": 11,
     "metadata": {},
     "output_type": "execute_result"
    }
   ],
   "source": [
    "data['data'].value_counts()\n",
    "\n",
    "#Most of the data is for testing than for training."
   ]
  },
  {
   "cell_type": "code",
   "execution_count": 12,
   "id": "b0ea8c66",
   "metadata": {},
   "outputs": [
    {
     "data": {
      "text/plain": [
       "FTL        99660\n",
       "Carting    45207\n",
       "Name: route_type, dtype: int64"
      ]
     },
     "execution_count": 12,
     "metadata": {},
     "output_type": "execute_result"
    }
   ],
   "source": [
    "data['route_type'].value_counts()\n",
    "\n",
    "# Most common route type is Carting"
   ]
  },
  {
   "cell_type": "code",
   "execution_count": 13,
   "id": "8ad8f6a9",
   "metadata": {},
   "outputs": [
    {
     "data": {
      "text/plain": [
       "(Timestamp('2018-09-12 00:00:16.535741'),\n",
       " Timestamp('2018-10-08 03:00:24.353479'))"
      ]
     },
     "execution_count": 13,
     "metadata": {},
     "output_type": "execute_result"
    }
   ],
   "source": [
    "data['trip_creation_time'].min(), data['od_end_time'].max()"
   ]
  },
  {
   "cell_type": "code",
   "execution_count": 14,
   "id": "3d904f23",
   "metadata": {},
   "outputs": [],
   "source": [
    "# The data is given from the period '2018-09-12 00:00:16' to '2018-10-08 03:00:24'."
   ]
  },
  {
   "cell_type": "markdown",
   "id": "082e2909",
   "metadata": {},
   "source": [
    "### Handling Missing values"
   ]
  },
  {
   "cell_type": "code",
   "execution_count": 15,
   "id": "941c11ac",
   "metadata": {},
   "outputs": [
    {
     "data": {
      "text/plain": [
       "data                                0\n",
       "trip_creation_time                  0\n",
       "route_schedule_uuid                 0\n",
       "route_type                          0\n",
       "trip_uuid                           0\n",
       "source_center                       0\n",
       "source_name                       293\n",
       "destination_center                  0\n",
       "destination_name                  261\n",
       "od_start_time                       0\n",
       "od_end_time                         0\n",
       "start_scan_to_end_scan              0\n",
       "actual_distance_to_destination      0\n",
       "actual_time                         0\n",
       "osrm_time                           0\n",
       "osrm_distance                       0\n",
       "segment_actual_time                 0\n",
       "segment_osrm_time                   0\n",
       "segment_osrm_distance               0\n",
       "dtype: int64"
      ]
     },
     "execution_count": 15,
     "metadata": {},
     "output_type": "execute_result"
    }
   ],
   "source": [
    "data.isnull().sum() "
   ]
  },
  {
   "cell_type": "code",
   "execution_count": 16,
   "id": "4e10a1ac",
   "metadata": {},
   "outputs": [
    {
     "data": {
      "text/plain": [
       "data                                0\n",
       "trip_creation_time                  0\n",
       "route_schedule_uuid                 0\n",
       "route_type                          0\n",
       "trip_uuid                           0\n",
       "source_center                       0\n",
       "source_name                       293\n",
       "destination_center                  0\n",
       "destination_name                    3\n",
       "od_start_time                       0\n",
       "od_end_time                         0\n",
       "start_scan_to_end_scan              0\n",
       "actual_distance_to_destination      0\n",
       "actual_time                         0\n",
       "osrm_time                           0\n",
       "osrm_distance                       0\n",
       "segment_actual_time                 0\n",
       "segment_osrm_time                   0\n",
       "segment_osrm_distance               0\n",
       "dtype: int64"
      ]
     },
     "execution_count": 16,
     "metadata": {},
     "output_type": "execute_result"
    }
   ],
   "source": [
    "a=data.loc[data['source_name'].isnull()]\n",
    "a.isnull().sum()"
   ]
  },
  {
   "cell_type": "code",
   "execution_count": 17,
   "id": "4c877fd3",
   "metadata": {},
   "outputs": [
    {
     "data": {
      "text/plain": [
       "array(['IND342902A1B', 'IND577116AAA', 'IND282002AAD', 'IND465333A1B',\n",
       "       'IND841301AAC', 'IND509103AAC', 'IND126116AAA', 'IND331022A1B',\n",
       "       'IND505326AAB', 'IND852118A1B'], dtype=object)"
      ]
     },
     "execution_count": 17,
     "metadata": {},
     "output_type": "execute_result"
    }
   ],
   "source": [
    "center_ofmissing_source_name=a['source_center'].unique()\n",
    "center_ofmissing_source_name"
   ]
  },
  {
   "cell_type": "code",
   "execution_count": 18,
   "id": "3ec23c1a",
   "metadata": {},
   "outputs": [
    {
     "data": {
      "text/plain": [
       "data                                0\n",
       "trip_creation_time                  0\n",
       "route_schedule_uuid                 0\n",
       "route_type                          0\n",
       "trip_uuid                           0\n",
       "source_center                       0\n",
       "source_name                         0\n",
       "destination_center                  0\n",
       "destination_name                  261\n",
       "od_start_time                       0\n",
       "od_end_time                         0\n",
       "start_scan_to_end_scan              0\n",
       "actual_distance_to_destination      0\n",
       "actual_time                         0\n",
       "osrm_time                           0\n",
       "osrm_distance                       0\n",
       "segment_actual_time                 0\n",
       "segment_osrm_time                   0\n",
       "segment_osrm_distance               0\n",
       "dtype: int64"
      ]
     },
     "execution_count": 18,
     "metadata": {},
     "output_type": "execute_result"
    }
   ],
   "source": [
    "# Filling null values in Source name\n",
    "\n",
    "count=1\n",
    "for i in center_ofmissing_source_name:\n",
    "    data.loc[data['source_center'] == i, 'source_name'] = data.loc[data['source_center'] == i, 'source_name'].replace(np.nan, f'source_{count}')\n",
    "    count=+1\n",
    "data.isnull().sum()"
   ]
  },
  {
   "cell_type": "code",
   "execution_count": 19,
   "id": "328b35b4",
   "metadata": {},
   "outputs": [
    {
     "data": {
      "text/plain": [
       "array(['IND342902A1B', 'IND577116AAA', 'IND282002AAD', 'IND465333A1B',\n",
       "       'IND841301AAC', 'IND505326AAB', 'IND852118A1B', 'IND126116AAA',\n",
       "       'IND509103AAC', 'IND221005A1A', 'IND250002AAC', 'IND331001A1C',\n",
       "       'IND122015AAC'], dtype=object)"
      ]
     },
     "execution_count": 19,
     "metadata": {},
     "output_type": "execute_result"
    }
   ],
   "source": [
    "b=data.loc[data['destination_name'].isnull()]\n",
    "center_missing_destination_name=b['destination_center'].unique()\n",
    "center_missing_destination_name"
   ]
  },
  {
   "cell_type": "code",
   "execution_count": 20,
   "id": "ec72cb59",
   "metadata": {},
   "outputs": [
    {
     "data": {
      "text/plain": [
       "data                              0\n",
       "trip_creation_time                0\n",
       "route_schedule_uuid               0\n",
       "route_type                        0\n",
       "trip_uuid                         0\n",
       "source_center                     0\n",
       "source_name                       0\n",
       "destination_center                0\n",
       "destination_name                  0\n",
       "od_start_time                     0\n",
       "od_end_time                       0\n",
       "start_scan_to_end_scan            0\n",
       "actual_distance_to_destination    0\n",
       "actual_time                       0\n",
       "osrm_time                         0\n",
       "osrm_distance                     0\n",
       "segment_actual_time               0\n",
       "segment_osrm_time                 0\n",
       "segment_osrm_distance             0\n",
       "dtype: int64"
      ]
     },
     "execution_count": 20,
     "metadata": {},
     "output_type": "execute_result"
    }
   ],
   "source": [
    "# Handling null values in destination name\n",
    "\n",
    "count=1\n",
    "for i in center_missing_destination_name:\n",
    "    data.loc[data['destination_center'] == i, 'destination_name'] = data.loc[data['destination_center'] == i, 'destination_name'].replace(np.nan, f'destination_{count}')\n",
    "    count=+1\n",
    "data.isnull().sum()"
   ]
  },
  {
   "cell_type": "markdown",
   "id": "0ab160ec",
   "metadata": {},
   "source": [
    "## Merging DATA\n",
    "\n",
    "### Merging data based on trip_uuid, source_center, destination_center"
   ]
  },
  {
   "cell_type": "code",
   "execution_count": 21,
   "id": "2ad23f79",
   "metadata": {},
   "outputs": [
    {
     "data": {
      "text/html": [
       "<div>\n",
       "<style scoped>\n",
       "    .dataframe tbody tr th:only-of-type {\n",
       "        vertical-align: middle;\n",
       "    }\n",
       "\n",
       "    .dataframe tbody tr th {\n",
       "        vertical-align: top;\n",
       "    }\n",
       "\n",
       "    .dataframe thead th {\n",
       "        text-align: right;\n",
       "    }\n",
       "</style>\n",
       "<table border=\"1\" class=\"dataframe\">\n",
       "  <thead>\n",
       "    <tr style=\"text-align: right;\">\n",
       "      <th></th>\n",
       "      <th>source_center</th>\n",
       "      <th>destination_center</th>\n",
       "      <th>trip_uuid</th>\n",
       "      <th>data</th>\n",
       "      <th>trip_creation_time</th>\n",
       "      <th>route_schedule_uuid</th>\n",
       "      <th>route_type</th>\n",
       "      <th>source_name</th>\n",
       "      <th>destination_name</th>\n",
       "      <th>od_start_time</th>\n",
       "      <th>od_end_time</th>\n",
       "      <th>start_scan_to_end_scan</th>\n",
       "      <th>actual_distance_to_destination</th>\n",
       "      <th>actual_time</th>\n",
       "      <th>osrm_time</th>\n",
       "      <th>osrm_distance</th>\n",
       "      <th>segment_actual_time</th>\n",
       "      <th>segment_osrm_time</th>\n",
       "      <th>segment_osrm_distance</th>\n",
       "    </tr>\n",
       "  </thead>\n",
       "  <tbody>\n",
       "    <tr>\n",
       "      <th>0</th>\n",
       "      <td>IND209304AAA</td>\n",
       "      <td>IND000000ACB</td>\n",
       "      <td>trip-153671041653548748</td>\n",
       "      <td>training</td>\n",
       "      <td>2018-09-12 00:00:16.535741</td>\n",
       "      <td>thanos::sroute:d7c989ba-a29b-4a0b-b2f4-288cdc6...</td>\n",
       "      <td>FTL</td>\n",
       "      <td>Kanpur_Central_H_6 (Uttar Pradesh)</td>\n",
       "      <td>Gurgaon_Bilaspur_HB (Haryana)</td>\n",
       "      <td>2018-09-12 16:39:46.858469</td>\n",
       "      <td>2018-09-13 13:40:23.123744</td>\n",
       "      <td>1260.0</td>\n",
       "      <td>383.759164</td>\n",
       "      <td>732.0</td>\n",
       "      <td>329.0</td>\n",
       "      <td>446.5496</td>\n",
       "      <td>728.0</td>\n",
       "      <td>534.0</td>\n",
       "      <td>670.6205</td>\n",
       "    </tr>\n",
       "    <tr>\n",
       "      <th>1</th>\n",
       "      <td>IND462022AAA</td>\n",
       "      <td>IND209304AAA</td>\n",
       "      <td>trip-153671041653548748</td>\n",
       "      <td>training</td>\n",
       "      <td>2018-09-12 00:00:16.535741</td>\n",
       "      <td>thanos::sroute:d7c989ba-a29b-4a0b-b2f4-288cdc6...</td>\n",
       "      <td>FTL</td>\n",
       "      <td>Bhopal_Trnsport_H (Madhya Pradesh)</td>\n",
       "      <td>Kanpur_Central_H_6 (Uttar Pradesh)</td>\n",
       "      <td>2018-09-12 00:00:16.535741</td>\n",
       "      <td>2018-09-12 16:39:46.858469</td>\n",
       "      <td>999.0</td>\n",
       "      <td>440.973689</td>\n",
       "      <td>830.0</td>\n",
       "      <td>388.0</td>\n",
       "      <td>544.8027</td>\n",
       "      <td>820.0</td>\n",
       "      <td>474.0</td>\n",
       "      <td>649.8528</td>\n",
       "    </tr>\n",
       "    <tr>\n",
       "      <th>2</th>\n",
       "      <td>IND561203AAB</td>\n",
       "      <td>IND562101AAA</td>\n",
       "      <td>trip-153671042288605164</td>\n",
       "      <td>training</td>\n",
       "      <td>2018-09-12 00:00:22.886430</td>\n",
       "      <td>thanos::sroute:3a1b0ab2-bb0b-4c53-8c59-eb2a2c0...</td>\n",
       "      <td>Carting</td>\n",
       "      <td>Doddablpur_ChikaDPP_D (Karnataka)</td>\n",
       "      <td>Chikblapur_ShntiSgr_D (Karnataka)</td>\n",
       "      <td>2018-09-12 02:03:09.655591</td>\n",
       "      <td>2018-09-12 03:01:59.598855</td>\n",
       "      <td>58.0</td>\n",
       "      <td>24.644021</td>\n",
       "      <td>47.0</td>\n",
       "      <td>26.0</td>\n",
       "      <td>28.1994</td>\n",
       "      <td>46.0</td>\n",
       "      <td>26.0</td>\n",
       "      <td>28.1995</td>\n",
       "    </tr>\n",
       "    <tr>\n",
       "      <th>3</th>\n",
       "      <td>IND572101AAA</td>\n",
       "      <td>IND561203AAB</td>\n",
       "      <td>trip-153671042288605164</td>\n",
       "      <td>training</td>\n",
       "      <td>2018-09-12 00:00:22.886430</td>\n",
       "      <td>thanos::sroute:3a1b0ab2-bb0b-4c53-8c59-eb2a2c0...</td>\n",
       "      <td>Carting</td>\n",
       "      <td>Tumkur_Veersagr_I (Karnataka)</td>\n",
       "      <td>Doddablpur_ChikaDPP_D (Karnataka)</td>\n",
       "      <td>2018-09-12 00:00:22.886430</td>\n",
       "      <td>2018-09-12 02:03:09.655591</td>\n",
       "      <td>122.0</td>\n",
       "      <td>48.542890</td>\n",
       "      <td>96.0</td>\n",
       "      <td>42.0</td>\n",
       "      <td>56.9116</td>\n",
       "      <td>95.0</td>\n",
       "      <td>39.0</td>\n",
       "      <td>55.9899</td>\n",
       "    </tr>\n",
       "    <tr>\n",
       "      <th>4</th>\n",
       "      <td>IND000000ACB</td>\n",
       "      <td>IND160002AAC</td>\n",
       "      <td>trip-153671043369099517</td>\n",
       "      <td>training</td>\n",
       "      <td>2018-09-12 00:00:33.691250</td>\n",
       "      <td>thanos::sroute:de5e208e-7641-45e6-8100-4d9fb1e...</td>\n",
       "      <td>FTL</td>\n",
       "      <td>Gurgaon_Bilaspur_HB (Haryana)</td>\n",
       "      <td>Chandigarh_Mehmdpur_H (Punjab)</td>\n",
       "      <td>2018-09-14 03:40:17.106733</td>\n",
       "      <td>2018-09-14 17:34:55.442454</td>\n",
       "      <td>834.0</td>\n",
       "      <td>237.439610</td>\n",
       "      <td>611.0</td>\n",
       "      <td>212.0</td>\n",
       "      <td>281.2109</td>\n",
       "      <td>608.0</td>\n",
       "      <td>231.0</td>\n",
       "      <td>317.7408</td>\n",
       "    </tr>\n",
       "  </tbody>\n",
       "</table>\n",
       "</div>"
      ],
      "text/plain": [
       "  source_center destination_center                trip_uuid      data  \\\n",
       "0  IND209304AAA       IND000000ACB  trip-153671041653548748  training   \n",
       "1  IND462022AAA       IND209304AAA  trip-153671041653548748  training   \n",
       "2  IND561203AAB       IND562101AAA  trip-153671042288605164  training   \n",
       "3  IND572101AAA       IND561203AAB  trip-153671042288605164  training   \n",
       "4  IND000000ACB       IND160002AAC  trip-153671043369099517  training   \n",
       "\n",
       "          trip_creation_time  \\\n",
       "0 2018-09-12 00:00:16.535741   \n",
       "1 2018-09-12 00:00:16.535741   \n",
       "2 2018-09-12 00:00:22.886430   \n",
       "3 2018-09-12 00:00:22.886430   \n",
       "4 2018-09-12 00:00:33.691250   \n",
       "\n",
       "                                 route_schedule_uuid route_type  \\\n",
       "0  thanos::sroute:d7c989ba-a29b-4a0b-b2f4-288cdc6...        FTL   \n",
       "1  thanos::sroute:d7c989ba-a29b-4a0b-b2f4-288cdc6...        FTL   \n",
       "2  thanos::sroute:3a1b0ab2-bb0b-4c53-8c59-eb2a2c0...    Carting   \n",
       "3  thanos::sroute:3a1b0ab2-bb0b-4c53-8c59-eb2a2c0...    Carting   \n",
       "4  thanos::sroute:de5e208e-7641-45e6-8100-4d9fb1e...        FTL   \n",
       "\n",
       "                          source_name                    destination_name  \\\n",
       "0  Kanpur_Central_H_6 (Uttar Pradesh)       Gurgaon_Bilaspur_HB (Haryana)   \n",
       "1  Bhopal_Trnsport_H (Madhya Pradesh)  Kanpur_Central_H_6 (Uttar Pradesh)   \n",
       "2   Doddablpur_ChikaDPP_D (Karnataka)   Chikblapur_ShntiSgr_D (Karnataka)   \n",
       "3       Tumkur_Veersagr_I (Karnataka)   Doddablpur_ChikaDPP_D (Karnataka)   \n",
       "4       Gurgaon_Bilaspur_HB (Haryana)      Chandigarh_Mehmdpur_H (Punjab)   \n",
       "\n",
       "               od_start_time                od_end_time  \\\n",
       "0 2018-09-12 16:39:46.858469 2018-09-13 13:40:23.123744   \n",
       "1 2018-09-12 00:00:16.535741 2018-09-12 16:39:46.858469   \n",
       "2 2018-09-12 02:03:09.655591 2018-09-12 03:01:59.598855   \n",
       "3 2018-09-12 00:00:22.886430 2018-09-12 02:03:09.655591   \n",
       "4 2018-09-14 03:40:17.106733 2018-09-14 17:34:55.442454   \n",
       "\n",
       "   start_scan_to_end_scan  actual_distance_to_destination  actual_time  \\\n",
       "0                  1260.0                      383.759164        732.0   \n",
       "1                   999.0                      440.973689        830.0   \n",
       "2                    58.0                       24.644021         47.0   \n",
       "3                   122.0                       48.542890         96.0   \n",
       "4                   834.0                      237.439610        611.0   \n",
       "\n",
       "   osrm_time  osrm_distance  segment_actual_time  segment_osrm_time  \\\n",
       "0      329.0       446.5496                728.0              534.0   \n",
       "1      388.0       544.8027                820.0              474.0   \n",
       "2       26.0        28.1994                 46.0               26.0   \n",
       "3       42.0        56.9116                 95.0               39.0   \n",
       "4      212.0       281.2109                608.0              231.0   \n",
       "\n",
       "   segment_osrm_distance  \n",
       "0               670.6205  \n",
       "1               649.8528  \n",
       "2                28.1995  \n",
       "3                55.9899  \n",
       "4               317.7408  "
      ]
     },
     "execution_count": 21,
     "metadata": {},
     "output_type": "execute_result"
    }
   ],
   "source": [
    "df1=data.groupby(['trip_uuid', 'source_center', 'destination_center'], as_index=False).agg({'trip_uuid':'first',\n",
    "                                                                                            'data':'first',\n",
    "                                                                           'trip_creation_time':'first',\n",
    "                                                                           'route_schedule_uuid':'first',\n",
    "                                                                           'route_type':'first',\n",
    "                                                                           'source_name':'first',\n",
    "                                                                           'destination_name':'last',\n",
    "                                                                           'od_start_time' : 'first',\n",
    "                                                                            'od_end_time' : 'last',\n",
    "                                                                           'start_scan_to_end_scan' : 'first',\n",
    "                                                                           'actual_distance_to_destination' : 'last',\n",
    "                                                                           'actual_time' : 'last',\n",
    "                                                                           'osrm_time' : 'last',\n",
    "                                                                           'osrm_distance' : 'last',\n",
    "                                                                           'segment_actual_time' : 'sum',\n",
    "                                                                           'segment_osrm_time' : 'sum',\n",
    "                                                                           'segment_osrm_distance' : 'sum'})\n",
    "\n",
    "df1.head()"
   ]
  },
  {
   "cell_type": "markdown",
   "id": "0c1774d5",
   "metadata": {},
   "source": [
    "### Feature Creation- total order time"
   ]
  },
  {
   "cell_type": "code",
   "execution_count": 22,
   "id": "64b1cdbd",
   "metadata": {},
   "outputs": [
    {
     "data": {
      "text/html": [
       "<div>\n",
       "<style scoped>\n",
       "    .dataframe tbody tr th:only-of-type {\n",
       "        vertical-align: middle;\n",
       "    }\n",
       "\n",
       "    .dataframe tbody tr th {\n",
       "        vertical-align: top;\n",
       "    }\n",
       "\n",
       "    .dataframe thead th {\n",
       "        text-align: right;\n",
       "    }\n",
       "</style>\n",
       "<table border=\"1\" class=\"dataframe\">\n",
       "  <thead>\n",
       "    <tr style=\"text-align: right;\">\n",
       "      <th></th>\n",
       "      <th>source_center</th>\n",
       "      <th>destination_center</th>\n",
       "      <th>trip_uuid</th>\n",
       "      <th>data</th>\n",
       "      <th>trip_creation_time</th>\n",
       "      <th>route_schedule_uuid</th>\n",
       "      <th>route_type</th>\n",
       "      <th>source_name</th>\n",
       "      <th>destination_name</th>\n",
       "      <th>od_start_time</th>\n",
       "      <th>od_end_time</th>\n",
       "      <th>start_scan_to_end_scan</th>\n",
       "      <th>actual_distance_to_destination</th>\n",
       "      <th>actual_time</th>\n",
       "      <th>osrm_time</th>\n",
       "      <th>osrm_distance</th>\n",
       "      <th>segment_actual_time</th>\n",
       "      <th>segment_osrm_time</th>\n",
       "      <th>segment_osrm_distance</th>\n",
       "      <th>od_total_time</th>\n",
       "    </tr>\n",
       "  </thead>\n",
       "  <tbody>\n",
       "    <tr>\n",
       "      <th>1</th>\n",
       "      <td>IND462022AAA</td>\n",
       "      <td>IND209304AAA</td>\n",
       "      <td>trip-153671041653548748</td>\n",
       "      <td>training</td>\n",
       "      <td>2018-09-12 00:00:16.535741</td>\n",
       "      <td>thanos::sroute:d7c989ba-a29b-4a0b-b2f4-288cdc6...</td>\n",
       "      <td>FTL</td>\n",
       "      <td>Bhopal_Trnsport_H (Madhya Pradesh)</td>\n",
       "      <td>Kanpur_Central_H_6 (Uttar Pradesh)</td>\n",
       "      <td>2018-09-12 00:00:16.535741</td>\n",
       "      <td>2018-09-12 16:39:46.858469</td>\n",
       "      <td>999.0</td>\n",
       "      <td>440.973689</td>\n",
       "      <td>830.0</td>\n",
       "      <td>388.0</td>\n",
       "      <td>544.8027</td>\n",
       "      <td>820.0</td>\n",
       "      <td>474.0</td>\n",
       "      <td>649.8528</td>\n",
       "      <td>1000.0</td>\n",
       "    </tr>\n",
       "    <tr>\n",
       "      <th>0</th>\n",
       "      <td>IND209304AAA</td>\n",
       "      <td>IND000000ACB</td>\n",
       "      <td>trip-153671041653548748</td>\n",
       "      <td>training</td>\n",
       "      <td>2018-09-12 00:00:16.535741</td>\n",
       "      <td>thanos::sroute:d7c989ba-a29b-4a0b-b2f4-288cdc6...</td>\n",
       "      <td>FTL</td>\n",
       "      <td>Kanpur_Central_H_6 (Uttar Pradesh)</td>\n",
       "      <td>Gurgaon_Bilaspur_HB (Haryana)</td>\n",
       "      <td>2018-09-12 16:39:46.858469</td>\n",
       "      <td>2018-09-13 13:40:23.123744</td>\n",
       "      <td>1260.0</td>\n",
       "      <td>383.759164</td>\n",
       "      <td>732.0</td>\n",
       "      <td>329.0</td>\n",
       "      <td>446.5496</td>\n",
       "      <td>728.0</td>\n",
       "      <td>534.0</td>\n",
       "      <td>670.6205</td>\n",
       "      <td>1261.0</td>\n",
       "    </tr>\n",
       "    <tr>\n",
       "      <th>3</th>\n",
       "      <td>IND572101AAA</td>\n",
       "      <td>IND561203AAB</td>\n",
       "      <td>trip-153671042288605164</td>\n",
       "      <td>training</td>\n",
       "      <td>2018-09-12 00:00:22.886430</td>\n",
       "      <td>thanos::sroute:3a1b0ab2-bb0b-4c53-8c59-eb2a2c0...</td>\n",
       "      <td>Carting</td>\n",
       "      <td>Tumkur_Veersagr_I (Karnataka)</td>\n",
       "      <td>Doddablpur_ChikaDPP_D (Karnataka)</td>\n",
       "      <td>2018-09-12 00:00:22.886430</td>\n",
       "      <td>2018-09-12 02:03:09.655591</td>\n",
       "      <td>122.0</td>\n",
       "      <td>48.542890</td>\n",
       "      <td>96.0</td>\n",
       "      <td>42.0</td>\n",
       "      <td>56.9116</td>\n",
       "      <td>95.0</td>\n",
       "      <td>39.0</td>\n",
       "      <td>55.9899</td>\n",
       "      <td>123.0</td>\n",
       "    </tr>\n",
       "    <tr>\n",
       "      <th>2</th>\n",
       "      <td>IND561203AAB</td>\n",
       "      <td>IND562101AAA</td>\n",
       "      <td>trip-153671042288605164</td>\n",
       "      <td>training</td>\n",
       "      <td>2018-09-12 00:00:22.886430</td>\n",
       "      <td>thanos::sroute:3a1b0ab2-bb0b-4c53-8c59-eb2a2c0...</td>\n",
       "      <td>Carting</td>\n",
       "      <td>Doddablpur_ChikaDPP_D (Karnataka)</td>\n",
       "      <td>Chikblapur_ShntiSgr_D (Karnataka)</td>\n",
       "      <td>2018-09-12 02:03:09.655591</td>\n",
       "      <td>2018-09-12 03:01:59.598855</td>\n",
       "      <td>58.0</td>\n",
       "      <td>24.644021</td>\n",
       "      <td>47.0</td>\n",
       "      <td>26.0</td>\n",
       "      <td>28.1994</td>\n",
       "      <td>46.0</td>\n",
       "      <td>26.0</td>\n",
       "      <td>28.1995</td>\n",
       "      <td>59.0</td>\n",
       "    </tr>\n",
       "    <tr>\n",
       "      <th>5</th>\n",
       "      <td>IND562132AAA</td>\n",
       "      <td>IND000000ACB</td>\n",
       "      <td>trip-153671043369099517</td>\n",
       "      <td>training</td>\n",
       "      <td>2018-09-12 00:00:33.691250</td>\n",
       "      <td>thanos::sroute:de5e208e-7641-45e6-8100-4d9fb1e...</td>\n",
       "      <td>FTL</td>\n",
       "      <td>Bangalore_Nelmngla_H (Karnataka)</td>\n",
       "      <td>Gurgaon_Bilaspur_HB (Haryana)</td>\n",
       "      <td>2018-09-12 00:00:33.691250</td>\n",
       "      <td>2018-09-14 03:40:17.106733</td>\n",
       "      <td>3099.0</td>\n",
       "      <td>1689.964663</td>\n",
       "      <td>2736.0</td>\n",
       "      <td>1528.0</td>\n",
       "      <td>2072.8556</td>\n",
       "      <td>2700.0</td>\n",
       "      <td>1710.0</td>\n",
       "      <td>2227.5270</td>\n",
       "      <td>3100.0</td>\n",
       "    </tr>\n",
       "  </tbody>\n",
       "</table>\n",
       "</div>"
      ],
      "text/plain": [
       "  source_center destination_center                trip_uuid      data  \\\n",
       "1  IND462022AAA       IND209304AAA  trip-153671041653548748  training   \n",
       "0  IND209304AAA       IND000000ACB  trip-153671041653548748  training   \n",
       "3  IND572101AAA       IND561203AAB  trip-153671042288605164  training   \n",
       "2  IND561203AAB       IND562101AAA  trip-153671042288605164  training   \n",
       "5  IND562132AAA       IND000000ACB  trip-153671043369099517  training   \n",
       "\n",
       "          trip_creation_time  \\\n",
       "1 2018-09-12 00:00:16.535741   \n",
       "0 2018-09-12 00:00:16.535741   \n",
       "3 2018-09-12 00:00:22.886430   \n",
       "2 2018-09-12 00:00:22.886430   \n",
       "5 2018-09-12 00:00:33.691250   \n",
       "\n",
       "                                 route_schedule_uuid route_type  \\\n",
       "1  thanos::sroute:d7c989ba-a29b-4a0b-b2f4-288cdc6...        FTL   \n",
       "0  thanos::sroute:d7c989ba-a29b-4a0b-b2f4-288cdc6...        FTL   \n",
       "3  thanos::sroute:3a1b0ab2-bb0b-4c53-8c59-eb2a2c0...    Carting   \n",
       "2  thanos::sroute:3a1b0ab2-bb0b-4c53-8c59-eb2a2c0...    Carting   \n",
       "5  thanos::sroute:de5e208e-7641-45e6-8100-4d9fb1e...        FTL   \n",
       "\n",
       "                          source_name                    destination_name  \\\n",
       "1  Bhopal_Trnsport_H (Madhya Pradesh)  Kanpur_Central_H_6 (Uttar Pradesh)   \n",
       "0  Kanpur_Central_H_6 (Uttar Pradesh)       Gurgaon_Bilaspur_HB (Haryana)   \n",
       "3       Tumkur_Veersagr_I (Karnataka)   Doddablpur_ChikaDPP_D (Karnataka)   \n",
       "2   Doddablpur_ChikaDPP_D (Karnataka)   Chikblapur_ShntiSgr_D (Karnataka)   \n",
       "5    Bangalore_Nelmngla_H (Karnataka)       Gurgaon_Bilaspur_HB (Haryana)   \n",
       "\n",
       "               od_start_time                od_end_time  \\\n",
       "1 2018-09-12 00:00:16.535741 2018-09-12 16:39:46.858469   \n",
       "0 2018-09-12 16:39:46.858469 2018-09-13 13:40:23.123744   \n",
       "3 2018-09-12 00:00:22.886430 2018-09-12 02:03:09.655591   \n",
       "2 2018-09-12 02:03:09.655591 2018-09-12 03:01:59.598855   \n",
       "5 2018-09-12 00:00:33.691250 2018-09-14 03:40:17.106733   \n",
       "\n",
       "   start_scan_to_end_scan  actual_distance_to_destination  actual_time  \\\n",
       "1                   999.0                      440.973689        830.0   \n",
       "0                  1260.0                      383.759164        732.0   \n",
       "3                   122.0                       48.542890         96.0   \n",
       "2                    58.0                       24.644021         47.0   \n",
       "5                  3099.0                     1689.964663       2736.0   \n",
       "\n",
       "   osrm_time  osrm_distance  segment_actual_time  segment_osrm_time  \\\n",
       "1      388.0       544.8027                820.0              474.0   \n",
       "0      329.0       446.5496                728.0              534.0   \n",
       "3       42.0        56.9116                 95.0               39.0   \n",
       "2       26.0        28.1994                 46.0               26.0   \n",
       "5     1528.0      2072.8556               2700.0             1710.0   \n",
       "\n",
       "   segment_osrm_distance  od_total_time  \n",
       "1               649.8528         1000.0  \n",
       "0               670.6205         1261.0  \n",
       "3                55.9899          123.0  \n",
       "2                28.1995           59.0  \n",
       "5              2227.5270         3100.0  "
      ]
     },
     "execution_count": 22,
     "metadata": {},
     "output_type": "execute_result"
    }
   ],
   "source": [
    "df1['od_total_time']=df1['od_end_time']-df1['od_start_time']\n",
    "df1['od_total_time'] = df1['od_total_time'].apply(lambda x : round(x.total_seconds() / 60.0, 0))\n",
    "df1.sort_values(['trip_uuid','od_start_time'], ascending=True, inplace=True)\n",
    "df1.head()"
   ]
  },
  {
   "cell_type": "markdown",
   "id": "984dd0e4",
   "metadata": {},
   "source": [
    "### Merging data based on trip_uuid"
   ]
  },
  {
   "cell_type": "code",
   "execution_count": 23,
   "id": "679fa3e7",
   "metadata": {},
   "outputs": [
    {
     "data": {
      "text/html": [
       "<div>\n",
       "<style scoped>\n",
       "    .dataframe tbody tr th:only-of-type {\n",
       "        vertical-align: middle;\n",
       "    }\n",
       "\n",
       "    .dataframe tbody tr th {\n",
       "        vertical-align: top;\n",
       "    }\n",
       "\n",
       "    .dataframe thead th {\n",
       "        text-align: right;\n",
       "    }\n",
       "</style>\n",
       "<table border=\"1\" class=\"dataframe\">\n",
       "  <thead>\n",
       "    <tr style=\"text-align: right;\">\n",
       "      <th></th>\n",
       "      <th>trip_uuid</th>\n",
       "      <th>data</th>\n",
       "      <th>trip_creation_time</th>\n",
       "      <th>route_schedule_uuid</th>\n",
       "      <th>route_type</th>\n",
       "      <th>source_name</th>\n",
       "      <th>destination_name</th>\n",
       "      <th>start_scan_to_end_scan</th>\n",
       "      <th>actual_distance_to_destination</th>\n",
       "      <th>actual_time</th>\n",
       "      <th>osrm_time</th>\n",
       "      <th>osrm_distance</th>\n",
       "      <th>segment_actual_time</th>\n",
       "      <th>segment_osrm_time</th>\n",
       "      <th>segment_osrm_distance</th>\n",
       "      <th>od_total_time</th>\n",
       "    </tr>\n",
       "  </thead>\n",
       "  <tbody>\n",
       "    <tr>\n",
       "      <th>0</th>\n",
       "      <td>trip-153671041653548748</td>\n",
       "      <td>training</td>\n",
       "      <td>2018-09-12 00:00:16.535741</td>\n",
       "      <td>thanos::sroute:d7c989ba-a29b-4a0b-b2f4-288cdc6...</td>\n",
       "      <td>FTL</td>\n",
       "      <td>Bhopal_Trnsport_H (Madhya Pradesh)</td>\n",
       "      <td>Gurgaon_Bilaspur_HB (Haryana)</td>\n",
       "      <td>2259.0</td>\n",
       "      <td>824.732854</td>\n",
       "      <td>1562.0</td>\n",
       "      <td>717.0</td>\n",
       "      <td>991.3523</td>\n",
       "      <td>1548.0</td>\n",
       "      <td>1008.0</td>\n",
       "      <td>1320.4733</td>\n",
       "      <td>2261.0</td>\n",
       "    </tr>\n",
       "    <tr>\n",
       "      <th>1</th>\n",
       "      <td>trip-153671042288605164</td>\n",
       "      <td>training</td>\n",
       "      <td>2018-09-12 00:00:22.886430</td>\n",
       "      <td>thanos::sroute:3a1b0ab2-bb0b-4c53-8c59-eb2a2c0...</td>\n",
       "      <td>Carting</td>\n",
       "      <td>Tumkur_Veersagr_I (Karnataka)</td>\n",
       "      <td>Chikblapur_ShntiSgr_D (Karnataka)</td>\n",
       "      <td>180.0</td>\n",
       "      <td>73.186911</td>\n",
       "      <td>143.0</td>\n",
       "      <td>68.0</td>\n",
       "      <td>85.1110</td>\n",
       "      <td>141.0</td>\n",
       "      <td>65.0</td>\n",
       "      <td>84.1894</td>\n",
       "      <td>182.0</td>\n",
       "    </tr>\n",
       "    <tr>\n",
       "      <th>2</th>\n",
       "      <td>trip-153671043369099517</td>\n",
       "      <td>training</td>\n",
       "      <td>2018-09-12 00:00:33.691250</td>\n",
       "      <td>thanos::sroute:de5e208e-7641-45e6-8100-4d9fb1e...</td>\n",
       "      <td>FTL</td>\n",
       "      <td>Bangalore_Nelmngla_H (Karnataka)</td>\n",
       "      <td>Chandigarh_Mehmdpur_H (Punjab)</td>\n",
       "      <td>3933.0</td>\n",
       "      <td>1927.404273</td>\n",
       "      <td>3347.0</td>\n",
       "      <td>1740.0</td>\n",
       "      <td>2354.0665</td>\n",
       "      <td>3308.0</td>\n",
       "      <td>1941.0</td>\n",
       "      <td>2545.2678</td>\n",
       "      <td>3935.0</td>\n",
       "    </tr>\n",
       "    <tr>\n",
       "      <th>3</th>\n",
       "      <td>trip-153671046011330457</td>\n",
       "      <td>training</td>\n",
       "      <td>2018-09-12 00:01:00.113710</td>\n",
       "      <td>thanos::sroute:f0176492-a679-4597-8332-bbd1c7f...</td>\n",
       "      <td>Carting</td>\n",
       "      <td>Mumbai Hub (Maharashtra)</td>\n",
       "      <td>Mumbai_MiraRd_IP (Maharashtra)</td>\n",
       "      <td>100.0</td>\n",
       "      <td>17.175274</td>\n",
       "      <td>59.0</td>\n",
       "      <td>15.0</td>\n",
       "      <td>19.6800</td>\n",
       "      <td>59.0</td>\n",
       "      <td>16.0</td>\n",
       "      <td>19.8766</td>\n",
       "      <td>100.0</td>\n",
       "    </tr>\n",
       "    <tr>\n",
       "      <th>4</th>\n",
       "      <td>trip-153671052974046625</td>\n",
       "      <td>training</td>\n",
       "      <td>2018-09-12 00:02:09.740725</td>\n",
       "      <td>thanos::sroute:d9f07b12-65e0-4f3b-bec8-df06134...</td>\n",
       "      <td>FTL</td>\n",
       "      <td>Bellary_Dc (Karnataka)</td>\n",
       "      <td>Bellary_Dc (Karnataka)</td>\n",
       "      <td>717.0</td>\n",
       "      <td>127.448500</td>\n",
       "      <td>341.0</td>\n",
       "      <td>117.0</td>\n",
       "      <td>146.7918</td>\n",
       "      <td>340.0</td>\n",
       "      <td>115.0</td>\n",
       "      <td>146.7919</td>\n",
       "      <td>719.0</td>\n",
       "    </tr>\n",
       "  </tbody>\n",
       "</table>\n",
       "</div>"
      ],
      "text/plain": [
       "                 trip_uuid      data         trip_creation_time  \\\n",
       "0  trip-153671041653548748  training 2018-09-12 00:00:16.535741   \n",
       "1  trip-153671042288605164  training 2018-09-12 00:00:22.886430   \n",
       "2  trip-153671043369099517  training 2018-09-12 00:00:33.691250   \n",
       "3  trip-153671046011330457  training 2018-09-12 00:01:00.113710   \n",
       "4  trip-153671052974046625  training 2018-09-12 00:02:09.740725   \n",
       "\n",
       "                                 route_schedule_uuid route_type  \\\n",
       "0  thanos::sroute:d7c989ba-a29b-4a0b-b2f4-288cdc6...        FTL   \n",
       "1  thanos::sroute:3a1b0ab2-bb0b-4c53-8c59-eb2a2c0...    Carting   \n",
       "2  thanos::sroute:de5e208e-7641-45e6-8100-4d9fb1e...        FTL   \n",
       "3  thanos::sroute:f0176492-a679-4597-8332-bbd1c7f...    Carting   \n",
       "4  thanos::sroute:d9f07b12-65e0-4f3b-bec8-df06134...        FTL   \n",
       "\n",
       "                          source_name                   destination_name  \\\n",
       "0  Bhopal_Trnsport_H (Madhya Pradesh)      Gurgaon_Bilaspur_HB (Haryana)   \n",
       "1       Tumkur_Veersagr_I (Karnataka)  Chikblapur_ShntiSgr_D (Karnataka)   \n",
       "2    Bangalore_Nelmngla_H (Karnataka)     Chandigarh_Mehmdpur_H (Punjab)   \n",
       "3            Mumbai Hub (Maharashtra)     Mumbai_MiraRd_IP (Maharashtra)   \n",
       "4              Bellary_Dc (Karnataka)             Bellary_Dc (Karnataka)   \n",
       "\n",
       "   start_scan_to_end_scan  actual_distance_to_destination  actual_time  \\\n",
       "0                  2259.0                      824.732854       1562.0   \n",
       "1                   180.0                       73.186911        143.0   \n",
       "2                  3933.0                     1927.404273       3347.0   \n",
       "3                   100.0                       17.175274         59.0   \n",
       "4                   717.0                      127.448500        341.0   \n",
       "\n",
       "   osrm_time  osrm_distance  segment_actual_time  segment_osrm_time  \\\n",
       "0      717.0       991.3523               1548.0             1008.0   \n",
       "1       68.0        85.1110                141.0               65.0   \n",
       "2     1740.0      2354.0665               3308.0             1941.0   \n",
       "3       15.0        19.6800                 59.0               16.0   \n",
       "4      117.0       146.7918                340.0              115.0   \n",
       "\n",
       "   segment_osrm_distance  od_total_time  \n",
       "0              1320.4733         2261.0  \n",
       "1                84.1894          182.0  \n",
       "2              2545.2678         3935.0  \n",
       "3                19.8766          100.0  \n",
       "4               146.7919          719.0  "
      ]
     },
     "execution_count": 23,
     "metadata": {},
     "output_type": "execute_result"
    }
   ],
   "source": [
    "df2=df1.groupby('trip_uuid',as_index=False).agg({'trip_uuid':'first',\n",
    "                                                        'data':'first',\n",
    "                                                        'trip_creation_time':'first',\n",
    "                                                        'route_schedule_uuid':'first',\n",
    "                                                        'route_type':'first',\n",
    "                                                        'source_name':'first',\n",
    "                                                        'destination_name':'last',\n",
    "                                                        'start_scan_to_end_scan' : 'sum',\n",
    "                                                        'actual_distance_to_destination' : 'sum',\n",
    "                                                           'actual_time' : 'sum',\n",
    "                                                           'osrm_time' : 'sum',\n",
    "                                                           'osrm_distance' : 'sum',\n",
    "                                                           'segment_actual_time' : 'sum',\n",
    "                                                           'segment_osrm_time' : 'sum',\n",
    "                                                         'segment_osrm_distance' : 'sum',\n",
    "                                                          'od_total_time':'sum'})\n",
    "df2.head()"
   ]
  },
  {
   "cell_type": "code",
   "execution_count": 24,
   "id": "42bbeffd",
   "metadata": {},
   "outputs": [
    {
     "data": {
      "text/plain": [
       "<AxesSubplot:xlabel='od_total_time', ylabel='Count'>"
      ]
     },
     "execution_count": 24,
     "metadata": {},
     "output_type": "execute_result"
    },
    {
     "data": {
      "image/png": "[encoded data removed]",
      "text/plain": [
       "<Figure size 640x480 with 1 Axes>"
      ]
     },
     "metadata": {},
     "output_type": "display_data"
    }
   ],
   "source": [
    "sns.histplot(data=df2, x='od_total_time', bins=50)"
   ]
  },
  {
   "cell_type": "code",
   "execution_count": 25,
   "id": "126959be",
   "metadata": {},
   "outputs": [
    {
     "data": {
      "text/plain": [
       "129.0     54\n",
       "171.0     53\n",
       "151.0     50\n",
       "97.0      49\n",
       "123.0     49\n",
       "          ..\n",
       "2874.0     1\n",
       "1495.0     1\n",
       "1666.0     1\n",
       "1603.0     1\n",
       "2183.0     1\n",
       "Name: od_total_time, Length: 2213, dtype: int64"
      ]
     },
     "execution_count": 25,
     "metadata": {},
     "output_type": "execute_result"
    }
   ],
   "source": [
    "df2['od_total_time'].value_counts()"
   ]
  },
  {
   "cell_type": "code",
   "execution_count": 26,
   "id": "899d3577",
   "metadata": {},
   "outputs": [
    {
     "data": {
      "text/plain": [
       "531.7971249240737"
      ]
     },
     "execution_count": 26,
     "metadata": {},
     "output_type": "execute_result"
    }
   ],
   "source": [
    "df2['od_total_time'].mean()"
   ]
  },
  {
   "cell_type": "markdown",
   "id": "8f2ab78a",
   "metadata": {},
   "source": [
    "### Feature creation- splitting source name"
   ]
  },
  {
   "cell_type": "code",
   "execution_count": 27,
   "id": "fa5a8f76",
   "metadata": {},
   "outputs": [
    {
     "data": {
      "text/html": [
       "<div>\n",
       "<style scoped>\n",
       "    .dataframe tbody tr th:only-of-type {\n",
       "        vertical-align: middle;\n",
       "    }\n",
       "\n",
       "    .dataframe tbody tr th {\n",
       "        vertical-align: top;\n",
       "    }\n",
       "\n",
       "    .dataframe thead th {\n",
       "        text-align: right;\n",
       "    }\n",
       "</style>\n",
       "<table border=\"1\" class=\"dataframe\">\n",
       "  <thead>\n",
       "    <tr style=\"text-align: right;\">\n",
       "      <th></th>\n",
       "      <th>trip_uuid</th>\n",
       "      <th>data</th>\n",
       "      <th>trip_creation_time</th>\n",
       "      <th>route_schedule_uuid</th>\n",
       "      <th>route_type</th>\n",
       "      <th>source_name</th>\n",
       "      <th>destination_name</th>\n",
       "      <th>start_scan_to_end_scan</th>\n",
       "      <th>actual_distance_to_destination</th>\n",
       "      <th>actual_time</th>\n",
       "      <th>osrm_time</th>\n",
       "      <th>osrm_distance</th>\n",
       "      <th>segment_actual_time</th>\n",
       "      <th>segment_osrm_time</th>\n",
       "      <th>segment_osrm_distance</th>\n",
       "      <th>od_total_time</th>\n",
       "      <th>source_city</th>\n",
       "      <th>source_place</th>\n",
       "      <th>source_code</th>\n",
       "      <th>source_state</th>\n",
       "    </tr>\n",
       "  </thead>\n",
       "  <tbody>\n",
       "    <tr>\n",
       "      <th>0</th>\n",
       "      <td>trip-153671041653548748</td>\n",
       "      <td>training</td>\n",
       "      <td>2018-09-12 00:00:16.535741</td>\n",
       "      <td>thanos::sroute:d7c989ba-a29b-4a0b-b2f4-288cdc6...</td>\n",
       "      <td>FTL</td>\n",
       "      <td>Bhopal_Trnsport_H (Madhya Pradesh)</td>\n",
       "      <td>Gurgaon_Bilaspur_HB (Haryana)</td>\n",
       "      <td>2259.0</td>\n",
       "      <td>824.732854</td>\n",
       "      <td>1562.0</td>\n",
       "      <td>717.0</td>\n",
       "      <td>991.3523</td>\n",
       "      <td>1548.0</td>\n",
       "      <td>1008.0</td>\n",
       "      <td>1320.4733</td>\n",
       "      <td>2261.0</td>\n",
       "      <td>Bhopal</td>\n",
       "      <td>Trnsport</td>\n",
       "      <td>H</td>\n",
       "      <td>Madhya Pradesh</td>\n",
       "    </tr>\n",
       "    <tr>\n",
       "      <th>1</th>\n",
       "      <td>trip-153671042288605164</td>\n",
       "      <td>training</td>\n",
       "      <td>2018-09-12 00:00:22.886430</td>\n",
       "      <td>thanos::sroute:3a1b0ab2-bb0b-4c53-8c59-eb2a2c0...</td>\n",
       "      <td>Carting</td>\n",
       "      <td>Tumkur_Veersagr_I (Karnataka)</td>\n",
       "      <td>Chikblapur_ShntiSgr_D (Karnataka)</td>\n",
       "      <td>180.0</td>\n",
       "      <td>73.186911</td>\n",
       "      <td>143.0</td>\n",
       "      <td>68.0</td>\n",
       "      <td>85.1110</td>\n",
       "      <td>141.0</td>\n",
       "      <td>65.0</td>\n",
       "      <td>84.1894</td>\n",
       "      <td>182.0</td>\n",
       "      <td>Tumkur</td>\n",
       "      <td>Veersagr</td>\n",
       "      <td>I</td>\n",
       "      <td>Karnataka</td>\n",
       "    </tr>\n",
       "  </tbody>\n",
       "</table>\n",
       "</div>"
      ],
      "text/plain": [
       "                 trip_uuid      data         trip_creation_time  \\\n",
       "0  trip-153671041653548748  training 2018-09-12 00:00:16.535741   \n",
       "1  trip-153671042288605164  training 2018-09-12 00:00:22.886430   \n",
       "\n",
       "                                 route_schedule_uuid route_type  \\\n",
       "0  thanos::sroute:d7c989ba-a29b-4a0b-b2f4-288cdc6...        FTL   \n",
       "1  thanos::sroute:3a1b0ab2-bb0b-4c53-8c59-eb2a2c0...    Carting   \n",
       "\n",
       "                          source_name                   destination_name  \\\n",
       "0  Bhopal_Trnsport_H (Madhya Pradesh)      Gurgaon_Bilaspur_HB (Haryana)   \n",
       "1       Tumkur_Veersagr_I (Karnataka)  Chikblapur_ShntiSgr_D (Karnataka)   \n",
       "\n",
       "   start_scan_to_end_scan  actual_distance_to_destination  actual_time  \\\n",
       "0                  2259.0                      824.732854       1562.0   \n",
       "1                   180.0                       73.186911        143.0   \n",
       "\n",
       "   osrm_time  osrm_distance  segment_actual_time  segment_osrm_time  \\\n",
       "0      717.0       991.3523               1548.0             1008.0   \n",
       "1       68.0        85.1110                141.0               65.0   \n",
       "\n",
       "   segment_osrm_distance  od_total_time source_city source_place source_code  \\\n",
       "0              1320.4733         2261.0      Bhopal     Trnsport           H   \n",
       "1                84.1894          182.0      Tumkur     Veersagr           I   \n",
       "\n",
       "     source_state  \n",
       "0  Madhya Pradesh  \n",
       "1       Karnataka  "
      ]
     },
     "execution_count": 27,
     "metadata": {},
     "output_type": "execute_result"
    }
   ],
   "source": [
    "df2['source_city'] = df2['source_name'].str.rstrip('_').str.split('_').str[0]\n",
    "df2['source_place'] = df2['source_name'].str.rstrip('_').str.split('_').str[1]\n",
    "df2['source_code1'] = df2['source_name'].str.split(' ').str[0]\n",
    "df2['source_code']=df2['source_code1'].str.split('_').str[2]\n",
    "df2.drop('source_code1',axis=1, inplace=True)\n",
    "df2['source_state'] = df2['source_name'].str.rstrip(')').str.split('(').str[1]\n",
    "df2.head(2)"
   ]
  },
  {
   "cell_type": "markdown",
   "id": "33dd0d7e",
   "metadata": {},
   "source": [
    "### Feature creation- from Destination name and Trip creation time"
   ]
  },
  {
   "cell_type": "code",
   "execution_count": 28,
   "id": "cdbc8481",
   "metadata": {},
   "outputs": [
    {
     "data": {
      "text/html": [
       "<div>\n",
       "<style scoped>\n",
       "    .dataframe tbody tr th:only-of-type {\n",
       "        vertical-align: middle;\n",
       "    }\n",
       "\n",
       "    .dataframe tbody tr th {\n",
       "        vertical-align: top;\n",
       "    }\n",
       "\n",
       "    .dataframe thead th {\n",
       "        text-align: right;\n",
       "    }\n",
       "</style>\n",
       "<table border=\"1\" class=\"dataframe\">\n",
       "  <thead>\n",
       "    <tr style=\"text-align: right;\">\n",
       "      <th></th>\n",
       "      <th>trip_uuid</th>\n",
       "      <th>data</th>\n",
       "      <th>trip_creation_time</th>\n",
       "      <th>route_schedule_uuid</th>\n",
       "      <th>route_type</th>\n",
       "      <th>source_name</th>\n",
       "      <th>destination_name</th>\n",
       "      <th>start_scan_to_end_scan</th>\n",
       "      <th>actual_distance_to_destination</th>\n",
       "      <th>actual_time</th>\n",
       "      <th>...</th>\n",
       "      <th>destination_city</th>\n",
       "      <th>destination_place</th>\n",
       "      <th>destination_code</th>\n",
       "      <th>destination_state</th>\n",
       "      <th>Year</th>\n",
       "      <th>Month</th>\n",
       "      <th>Day</th>\n",
       "      <th>week_day</th>\n",
       "      <th>time</th>\n",
       "      <th>Hour</th>\n",
       "    </tr>\n",
       "  </thead>\n",
       "  <tbody>\n",
       "    <tr>\n",
       "      <th>0</th>\n",
       "      <td>trip-153671041653548748</td>\n",
       "      <td>training</td>\n",
       "      <td>2018-09-12 00:00:16.535741</td>\n",
       "      <td>thanos::sroute:d7c989ba-a29b-4a0b-b2f4-288cdc6...</td>\n",
       "      <td>FTL</td>\n",
       "      <td>Bhopal_Trnsport_H (Madhya Pradesh)</td>\n",
       "      <td>Gurgaon_Bilaspur_HB (Haryana)</td>\n",
       "      <td>2259.0</td>\n",
       "      <td>824.732854</td>\n",
       "      <td>1562.0</td>\n",
       "      <td>...</td>\n",
       "      <td>Gurgaon</td>\n",
       "      <td>Bilaspur</td>\n",
       "      <td>HB</td>\n",
       "      <td>Haryana</td>\n",
       "      <td>2018</td>\n",
       "      <td>9</td>\n",
       "      <td>12</td>\n",
       "      <td>2</td>\n",
       "      <td>00:00:16.535741</td>\n",
       "      <td>0</td>\n",
       "    </tr>\n",
       "    <tr>\n",
       "      <th>1</th>\n",
       "      <td>trip-153671042288605164</td>\n",
       "      <td>training</td>\n",
       "      <td>2018-09-12 00:00:22.886430</td>\n",
       "      <td>thanos::sroute:3a1b0ab2-bb0b-4c53-8c59-eb2a2c0...</td>\n",
       "      <td>Carting</td>\n",
       "      <td>Tumkur_Veersagr_I (Karnataka)</td>\n",
       "      <td>Chikblapur_ShntiSgr_D (Karnataka)</td>\n",
       "      <td>180.0</td>\n",
       "      <td>73.186911</td>\n",
       "      <td>143.0</td>\n",
       "      <td>...</td>\n",
       "      <td>Chikblapur</td>\n",
       "      <td>ShntiSgr</td>\n",
       "      <td>D</td>\n",
       "      <td>Karnataka</td>\n",
       "      <td>2018</td>\n",
       "      <td>9</td>\n",
       "      <td>12</td>\n",
       "      <td>2</td>\n",
       "      <td>00:00:22.886430</td>\n",
       "      <td>0</td>\n",
       "    </tr>\n",
       "    <tr>\n",
       "      <th>2</th>\n",
       "      <td>trip-153671043369099517</td>\n",
       "      <td>training</td>\n",
       "      <td>2018-09-12 00:00:33.691250</td>\n",
       "      <td>thanos::sroute:de5e208e-7641-45e6-8100-4d9fb1e...</td>\n",
       "      <td>FTL</td>\n",
       "      <td>Bangalore_Nelmngla_H (Karnataka)</td>\n",
       "      <td>Chandigarh_Mehmdpur_H (Punjab)</td>\n",
       "      <td>3933.0</td>\n",
       "      <td>1927.404273</td>\n",
       "      <td>3347.0</td>\n",
       "      <td>...</td>\n",
       "      <td>Chandigarh</td>\n",
       "      <td>Mehmdpur</td>\n",
       "      <td>H</td>\n",
       "      <td>Punjab</td>\n",
       "      <td>2018</td>\n",
       "      <td>9</td>\n",
       "      <td>12</td>\n",
       "      <td>2</td>\n",
       "      <td>00:00:33.691250</td>\n",
       "      <td>0</td>\n",
       "    </tr>\n",
       "    <tr>\n",
       "      <th>3</th>\n",
       "      <td>trip-153671046011330457</td>\n",
       "      <td>training</td>\n",
       "      <td>2018-09-12 00:01:00.113710</td>\n",
       "      <td>thanos::sroute:f0176492-a679-4597-8332-bbd1c7f...</td>\n",
       "      <td>Carting</td>\n",
       "      <td>Mumbai Hub (Maharashtra)</td>\n",
       "      <td>Mumbai_MiraRd_IP (Maharashtra)</td>\n",
       "      <td>100.0</td>\n",
       "      <td>17.175274</td>\n",
       "      <td>59.0</td>\n",
       "      <td>...</td>\n",
       "      <td>Mumbai</td>\n",
       "      <td>MiraRd</td>\n",
       "      <td>IP</td>\n",
       "      <td>Maharashtra</td>\n",
       "      <td>2018</td>\n",
       "      <td>9</td>\n",
       "      <td>12</td>\n",
       "      <td>2</td>\n",
       "      <td>00:01:00.113710</td>\n",
       "      <td>0</td>\n",
       "    </tr>\n",
       "    <tr>\n",
       "      <th>4</th>\n",
       "      <td>trip-153671052974046625</td>\n",
       "      <td>training</td>\n",
       "      <td>2018-09-12 00:02:09.740725</td>\n",
       "      <td>thanos::sroute:d9f07b12-65e0-4f3b-bec8-df06134...</td>\n",
       "      <td>FTL</td>\n",
       "      <td>Bellary_Dc (Karnataka)</td>\n",
       "      <td>Bellary_Dc (Karnataka)</td>\n",
       "      <td>717.0</td>\n",
       "      <td>127.448500</td>\n",
       "      <td>341.0</td>\n",
       "      <td>...</td>\n",
       "      <td>Bellary</td>\n",
       "      <td>Dc (Karnataka)</td>\n",
       "      <td>NaN</td>\n",
       "      <td>Karnataka</td>\n",
       "      <td>2018</td>\n",
       "      <td>9</td>\n",
       "      <td>12</td>\n",
       "      <td>2</td>\n",
       "      <td>00:02:09.740725</td>\n",
       "      <td>0</td>\n",
       "    </tr>\n",
       "  </tbody>\n",
       "</table>\n",
       "<p>5 rows × 30 columns</p>\n",
       "</div>"
      ],
      "text/plain": [
       "                 trip_uuid      data         trip_creation_time  \\\n",
       "0  trip-153671041653548748  training 2018-09-12 00:00:16.535741   \n",
       "1  trip-153671042288605164  training 2018-09-12 00:00:22.886430   \n",
       "2  trip-153671043369099517  training 2018-09-12 00:00:33.691250   \n",
       "3  trip-153671046011330457  training 2018-09-12 00:01:00.113710   \n",
       "4  trip-153671052974046625  training 2018-09-12 00:02:09.740725   \n",
       "\n",
       "                                 route_schedule_uuid route_type  \\\n",
       "0  thanos::sroute:d7c989ba-a29b-4a0b-b2f4-288cdc6...        FTL   \n",
       "1  thanos::sroute:3a1b0ab2-bb0b-4c53-8c59-eb2a2c0...    Carting   \n",
       "2  thanos::sroute:de5e208e-7641-45e6-8100-4d9fb1e...        FTL   \n",
       "3  thanos::sroute:f0176492-a679-4597-8332-bbd1c7f...    Carting   \n",
       "4  thanos::sroute:d9f07b12-65e0-4f3b-bec8-df06134...        FTL   \n",
       "\n",
       "                          source_name                   destination_name  \\\n",
       "0  Bhopal_Trnsport_H (Madhya Pradesh)      Gurgaon_Bilaspur_HB (Haryana)   \n",
       "1       Tumkur_Veersagr_I (Karnataka)  Chikblapur_ShntiSgr_D (Karnataka)   \n",
       "2    Bangalore_Nelmngla_H (Karnataka)     Chandigarh_Mehmdpur_H (Punjab)   \n",
       "3            Mumbai Hub (Maharashtra)     Mumbai_MiraRd_IP (Maharashtra)   \n",
       "4              Bellary_Dc (Karnataka)             Bellary_Dc (Karnataka)   \n",
       "\n",
       "   start_scan_to_end_scan  actual_distance_to_destination  actual_time  ...  \\\n",
       "0                  2259.0                      824.732854       1562.0  ...   \n",
       "1                   180.0                       73.186911        143.0  ...   \n",
       "2                  3933.0                     1927.404273       3347.0  ...   \n",
       "3                   100.0                       17.175274         59.0  ...   \n",
       "4                   717.0                      127.448500        341.0  ...   \n",
       "\n",
       "   destination_city  destination_place  destination_code  destination_state  \\\n",
       "0           Gurgaon           Bilaspur                HB            Haryana   \n",
       "1        Chikblapur           ShntiSgr                 D          Karnataka   \n",
       "2        Chandigarh           Mehmdpur                 H             Punjab   \n",
       "3            Mumbai             MiraRd                IP        Maharashtra   \n",
       "4           Bellary     Dc (Karnataka)               NaN          Karnataka   \n",
       "\n",
       "   Year  Month Day week_day             time Hour  \n",
       "0  2018      9  12        2  00:00:16.535741    0  \n",
       "1  2018      9  12        2  00:00:22.886430    0  \n",
       "2  2018      9  12        2  00:00:33.691250    0  \n",
       "3  2018      9  12        2  00:01:00.113710    0  \n",
       "4  2018      9  12        2  00:02:09.740725    0  \n",
       "\n",
       "[5 rows x 30 columns]"
      ]
     },
     "execution_count": 28,
     "metadata": {},
     "output_type": "execute_result"
    }
   ],
   "source": [
    "df2['destination_city'] = df2['destination_name'].str.rstrip('_').str.split('_').str[0]\n",
    "df2['destination_place'] = df2['destination_name'].str.rstrip('_').str.split('_').str[1]\n",
    "df2['destination_code1'] = df2['destination_name'].str.split(' ').str[0]\n",
    "df2['destination_code']=df2['destination_code1'].str.split('_').str[2]\n",
    "df2.drop('destination_code1',axis=1, inplace=True)\n",
    "df2['destination_state'] = df2['destination_name'].str.rstrip(')').str.split('(').str[1]\n",
    "df2['Year']=df2['trip_creation_time'].dt.year\n",
    "df2['Month']=df2['trip_creation_time'].dt.month\n",
    "df2['Day']=df2['trip_creation_time'].dt.day\n",
    "df2['week_day']=df2['trip_creation_time'].dt.weekday\n",
    "df2['time']=df2['trip_creation_time'].dt.time\n",
    "df2['Hour']=df2['trip_creation_time'].dt.hour\n",
    "df2.head()"
   ]
  },
  {
   "cell_type": "code",
   "execution_count": 29,
   "id": "fcd878dc",
   "metadata": {},
   "outputs": [
    {
     "data": {
      "text/plain": [
       "Timestamp('2018-10-03 23:59:42.701692')"
      ]
     },
     "execution_count": 29,
     "metadata": {},
     "output_type": "execute_result"
    }
   ],
   "source": [
    "df2['trip_creation_time'].max()"
   ]
  },
  {
   "cell_type": "markdown",
   "id": "52a52f69",
   "metadata": {},
   "source": [
    "## In-depth analysis and feature engineering\n",
    "\n",
    "### 1. Comparison & Visualization of time and distance with countplot\n",
    "### 2. Checking relationship between aggregated fields through Hypothesis testing"
   ]
  },
  {
   "cell_type": "code",
   "execution_count": null,
   "id": "d89ae90b",
   "metadata": {},
   "outputs": [],
   "source": []
  },
  {
   "cell_type": "markdown",
   "id": "b9760281",
   "metadata": {},
   "source": [
    "### 1. Time taken between od_start_time and od_end_time"
   ]
  },
  {
   "cell_type": "code",
   "execution_count": 30,
   "id": "88ecbcea",
   "metadata": {},
   "outputs": [
    {
     "data": {
      "text/plain": [
       "0        2261.0\n",
       "1         182.0\n",
       "2        3935.0\n",
       "3         100.0\n",
       "4         719.0\n",
       "          ...  \n",
       "14812     258.0\n",
       "14813      61.0\n",
       "14814     422.0\n",
       "14815     348.0\n",
       "14816     354.0\n",
       "Name: od_total_time, Length: 14817, dtype: float64"
      ]
     },
     "execution_count": 30,
     "metadata": {},
     "output_type": "execute_result"
    }
   ],
   "source": [
    "df2['od_total_time']"
   ]
  },
  {
   "cell_type": "code",
   "execution_count": 31,
   "id": "d1e93176",
   "metadata": {},
   "outputs": [
    {
     "data": {
      "text/plain": [
       "531.7971249240737"
      ]
     },
     "execution_count": 31,
     "metadata": {},
     "output_type": "execute_result"
    }
   ],
   "source": [
    "df2['od_total_time'].mean()"
   ]
  },
  {
   "cell_type": "markdown",
   "id": "818ab927",
   "metadata": {},
   "source": [
    "###  2. Time diff vs start_scan_to_end_scan"
   ]
  },
  {
   "cell_type": "code",
   "execution_count": 32,
   "id": "95342d36",
   "metadata": {},
   "outputs": [],
   "source": [
    "df2['time_diff']=df2['od_total_time']-df2['start_scan_to_end_scan']"
   ]
  },
  {
   "cell_type": "code",
   "execution_count": 33,
   "id": "7d4fd684",
   "metadata": {},
   "outputs": [
    {
     "data": {
      "text/plain": [
       "1.0       6818\n",
       "0.0       5361\n",
       "2.0       1821\n",
       "3.0        586\n",
       "4.0        194\n",
       "5.0         31\n",
       "6.0          5\n",
       "1447.0       1\n",
       "Name: time_diff, dtype: int64"
      ]
     },
     "execution_count": 33,
     "metadata": {},
     "output_type": "execute_result"
    }
   ],
   "source": [
    "df2['time_diff'].value_counts()"
   ]
  },
  {
   "cell_type": "code",
   "execution_count": 34,
   "id": "e7172ec0",
   "metadata": {},
   "outputs": [
    {
     "data": {
      "text/plain": [
       "0.9871094013632989"
      ]
     },
     "execution_count": 34,
     "metadata": {},
     "output_type": "execute_result"
    }
   ],
   "source": [
    "df2['time_diff'].mean()"
   ]
  },
  {
   "cell_type": "code",
   "execution_count": 35,
   "id": "5bb3fcb0",
   "metadata": {},
   "outputs": [],
   "source": [
    "# The average difference of time between total order time and start-to-end-scan is 0.98 minutes"
   ]
  },
  {
   "cell_type": "code",
   "execution_count": 36,
   "id": "c9dd6903",
   "metadata": {},
   "outputs": [
    {
     "data": {
      "text/plain": [
       "<AxesSubplot:xlabel='od_total_time', ylabel='Count'>"
      ]
     },
     "execution_count": 36,
     "metadata": {},
     "output_type": "execute_result"
    },
    {
     "data": {
      "image/png": "[encoded data removed]",
      "text/plain": [
       "<Figure size 1000x1200 with 3 Axes>"
      ]
     },
     "metadata": {},
     "output_type": "display_data"
    }
   ],
   "source": [
    "plt.figure(figsize=(10,12))\n",
    "plt.subplot(3,1,1)\n",
    "sns.countplot(data=df2, x='time_diff')\n",
    "\n",
    "plt.subplot(3,1,2)\n",
    "sns.histplot(data=df2, x='start_scan_to_end_scan')\n",
    "\n",
    "plt.subplot(3,1,3)\n",
    "sns.histplot(data=df2, x='od_total_time')"
   ]
  },
  {
   "cell_type": "code",
   "execution_count": 37,
   "id": "fad2ebd1",
   "metadata": {},
   "outputs": [
    {
     "name": "stdout",
     "output_type": "stream",
     "text": [
      "t_stat : 0.1289376461950863\n",
      "p_value : 0.8974078630085536\n",
      "Fail to Reject Ho\n",
      "At 5% significance- There is no significant difference between the total order time and start to end scan time\n"
     ]
    }
   ],
   "source": [
    "# Ho- There is no significant difference between the total order time and start to end scan time\n",
    "# Ha- There is significant difference between the total order time and start to end scan time\n",
    "\n",
    "t_val, p_val=ttest_ind(df2['od_total_time'],df2['start_scan_to_end_scan'])\n",
    "print('t_stat :',t_val)\n",
    "print('p_value :',p_val)\n",
    "if p_val<0.05:\n",
    "    print('Reject Ho')\n",
    "    print('At 5% significance- There is significant difference between the total order time and start to end scan time')\n",
    "else:\n",
    "    print('Fail to Reject Ho')\n",
    "    print('At 5% significance- There is no significant difference between the total order time and start to end scan time')"
   ]
  },
  {
   "cell_type": "markdown",
   "id": "56d40966",
   "metadata": {},
   "source": [
    "### 3. Actual_time aggregated value vs OSRM time aggregated value"
   ]
  },
  {
   "cell_type": "code",
   "execution_count": 38,
   "id": "7b00d713",
   "metadata": {},
   "outputs": [
    {
     "data": {
      "text/html": [
       "<div>\n",
       "<style scoped>\n",
       "    .dataframe tbody tr th:only-of-type {\n",
       "        vertical-align: middle;\n",
       "    }\n",
       "\n",
       "    .dataframe tbody tr th {\n",
       "        vertical-align: top;\n",
       "    }\n",
       "\n",
       "    .dataframe thead th {\n",
       "        text-align: right;\n",
       "    }\n",
       "</style>\n",
       "<table border=\"1\" class=\"dataframe\">\n",
       "  <thead>\n",
       "    <tr style=\"text-align: right;\">\n",
       "      <th></th>\n",
       "      <th>actual_time</th>\n",
       "      <th>osrm_time</th>\n",
       "    </tr>\n",
       "  </thead>\n",
       "  <tbody>\n",
       "    <tr>\n",
       "      <th>0</th>\n",
       "      <td>1562.0</td>\n",
       "      <td>717.0</td>\n",
       "    </tr>\n",
       "    <tr>\n",
       "      <th>1</th>\n",
       "      <td>143.0</td>\n",
       "      <td>68.0</td>\n",
       "    </tr>\n",
       "    <tr>\n",
       "      <th>2</th>\n",
       "      <td>3347.0</td>\n",
       "      <td>1740.0</td>\n",
       "    </tr>\n",
       "    <tr>\n",
       "      <th>3</th>\n",
       "      <td>59.0</td>\n",
       "      <td>15.0</td>\n",
       "    </tr>\n",
       "    <tr>\n",
       "      <th>4</th>\n",
       "      <td>341.0</td>\n",
       "      <td>117.0</td>\n",
       "    </tr>\n",
       "    <tr>\n",
       "      <th>...</th>\n",
       "      <td>...</td>\n",
       "      <td>...</td>\n",
       "    </tr>\n",
       "    <tr>\n",
       "      <th>14812</th>\n",
       "      <td>83.0</td>\n",
       "      <td>62.0</td>\n",
       "    </tr>\n",
       "    <tr>\n",
       "      <th>14813</th>\n",
       "      <td>21.0</td>\n",
       "      <td>12.0</td>\n",
       "    </tr>\n",
       "    <tr>\n",
       "      <th>14814</th>\n",
       "      <td>282.0</td>\n",
       "      <td>48.0</td>\n",
       "    </tr>\n",
       "    <tr>\n",
       "      <th>14815</th>\n",
       "      <td>264.0</td>\n",
       "      <td>179.0</td>\n",
       "    </tr>\n",
       "    <tr>\n",
       "      <th>14816</th>\n",
       "      <td>275.0</td>\n",
       "      <td>68.0</td>\n",
       "    </tr>\n",
       "  </tbody>\n",
       "</table>\n",
       "<p>14817 rows × 2 columns</p>\n",
       "</div>"
      ],
      "text/plain": [
       "       actual_time  osrm_time\n",
       "0           1562.0      717.0\n",
       "1            143.0       68.0\n",
       "2           3347.0     1740.0\n",
       "3             59.0       15.0\n",
       "4            341.0      117.0\n",
       "...            ...        ...\n",
       "14812         83.0       62.0\n",
       "14813         21.0       12.0\n",
       "14814        282.0       48.0\n",
       "14815        264.0      179.0\n",
       "14816        275.0       68.0\n",
       "\n",
       "[14817 rows x 2 columns]"
      ]
     },
     "execution_count": 38,
     "metadata": {},
     "output_type": "execute_result"
    }
   ],
   "source": [
    "df2[['actual_time','osrm_time']]"
   ]
  },
  {
   "cell_type": "code",
   "execution_count": 39,
   "id": "dd7899b7",
   "metadata": {},
   "outputs": [
    {
     "data": {
      "text/html": [
       "<div>\n",
       "<style scoped>\n",
       "    .dataframe tbody tr th:only-of-type {\n",
       "        vertical-align: middle;\n",
       "    }\n",
       "\n",
       "    .dataframe tbody tr th {\n",
       "        vertical-align: top;\n",
       "    }\n",
       "\n",
       "    .dataframe thead th {\n",
       "        text-align: right;\n",
       "    }\n",
       "</style>\n",
       "<table border=\"1\" class=\"dataframe\">\n",
       "  <thead>\n",
       "    <tr style=\"text-align: right;\">\n",
       "      <th></th>\n",
       "      <th>actual_time</th>\n",
       "      <th>osrm_time</th>\n",
       "    </tr>\n",
       "  </thead>\n",
       "  <tbody>\n",
       "    <tr>\n",
       "      <th>count</th>\n",
       "      <td>14817.000000</td>\n",
       "      <td>14817.000000</td>\n",
       "    </tr>\n",
       "    <tr>\n",
       "      <th>mean</th>\n",
       "      <td>357.143754</td>\n",
       "      <td>161.384018</td>\n",
       "    </tr>\n",
       "    <tr>\n",
       "      <th>std</th>\n",
       "      <td>561.396157</td>\n",
       "      <td>271.360995</td>\n",
       "    </tr>\n",
       "    <tr>\n",
       "      <th>min</th>\n",
       "      <td>9.000000</td>\n",
       "      <td>6.000000</td>\n",
       "    </tr>\n",
       "    <tr>\n",
       "      <th>25%</th>\n",
       "      <td>67.000000</td>\n",
       "      <td>29.000000</td>\n",
       "    </tr>\n",
       "    <tr>\n",
       "      <th>50%</th>\n",
       "      <td>149.000000</td>\n",
       "      <td>60.000000</td>\n",
       "    </tr>\n",
       "    <tr>\n",
       "      <th>75%</th>\n",
       "      <td>370.000000</td>\n",
       "      <td>168.000000</td>\n",
       "    </tr>\n",
       "    <tr>\n",
       "      <th>max</th>\n",
       "      <td>6265.000000</td>\n",
       "      <td>2032.000000</td>\n",
       "    </tr>\n",
       "  </tbody>\n",
       "</table>\n",
       "</div>"
      ],
      "text/plain": [
       "        actual_time     osrm_time\n",
       "count  14817.000000  14817.000000\n",
       "mean     357.143754    161.384018\n",
       "std      561.396157    271.360995\n",
       "min        9.000000      6.000000\n",
       "25%       67.000000     29.000000\n",
       "50%      149.000000     60.000000\n",
       "75%      370.000000    168.000000\n",
       "max     6265.000000   2032.000000"
      ]
     },
     "execution_count": 39,
     "metadata": {},
     "output_type": "execute_result"
    }
   ],
   "source": [
    "df2[['actual_time', 'osrm_time']].describe()"
   ]
  },
  {
   "cell_type": "code",
   "execution_count": 40,
   "id": "d88a07c5",
   "metadata": {},
   "outputs": [
    {
     "data": {
      "text/plain": [
       "<AxesSubplot:xlabel='osrm_time', ylabel='Count'>"
      ]
     },
     "execution_count": 40,
     "metadata": {},
     "output_type": "execute_result"
    },
    {
     "data": {
      "image/png": "[encoded data removed]",
      "text/plain": [
       "<Figure size 640x480 with 2 Axes>"
      ]
     },
     "metadata": {},
     "output_type": "display_data"
    }
   ],
   "source": [
    "plt.subplot(3,1,2)\n",
    "sns.histplot(data=df2, x='actual_time')\n",
    "\n",
    "plt.subplot(3,1,3)\n",
    "sns.histplot(data=df2, x='osrm_time')"
   ]
  },
  {
   "cell_type": "code",
   "execution_count": 41,
   "id": "8da07568",
   "metadata": {},
   "outputs": [
    {
     "name": "stdout",
     "output_type": "stream",
     "text": [
      "t_stat : 38.215453905833165\n",
      "p_value : 0.0\n",
      "Reject Ho\n",
      "At 5% significance- There is significant difference between the actual_time and osrm_time\n"
     ]
    }
   ],
   "source": [
    "# Ho- There is no significant difference between the actual_time and osrm_time\n",
    "# Ha- There is significant difference between the actual_time and osrm_time\n",
    "\n",
    "t_val, p_val=ttest_ind(df2['actual_time'],df2['osrm_time'])\n",
    "print('t_stat :',t_val)\n",
    "print('p_value :',p_val)\n",
    "if p_val<0.05:\n",
    "    print('Reject Ho')\n",
    "    print('At 5% significance- There is significant difference between the actual_time and osrm_time')\n",
    "else:\n",
    "    print('Fail to Reject Ho')\n",
    "    print('At 5% significance- There is no significant difference between the actual_time and osrm_time')"
   ]
  },
  {
   "cell_type": "markdown",
   "id": "a9b7ede1",
   "metadata": {},
   "source": [
    "### 4. Actual_time aggregated value vs Segment actual time aggregated value"
   ]
  },
  {
   "cell_type": "code",
   "execution_count": 42,
   "id": "6f523324",
   "metadata": {},
   "outputs": [
    {
     "data": {
      "text/html": [
       "<div>\n",
       "<style scoped>\n",
       "    .dataframe tbody tr th:only-of-type {\n",
       "        vertical-align: middle;\n",
       "    }\n",
       "\n",
       "    .dataframe tbody tr th {\n",
       "        vertical-align: top;\n",
       "    }\n",
       "\n",
       "    .dataframe thead th {\n",
       "        text-align: right;\n",
       "    }\n",
       "</style>\n",
       "<table border=\"1\" class=\"dataframe\">\n",
       "  <thead>\n",
       "    <tr style=\"text-align: right;\">\n",
       "      <th></th>\n",
       "      <th>actual_time</th>\n",
       "      <th>segment_actual_time</th>\n",
       "    </tr>\n",
       "  </thead>\n",
       "  <tbody>\n",
       "    <tr>\n",
       "      <th>0</th>\n",
       "      <td>1562.0</td>\n",
       "      <td>1548.0</td>\n",
       "    </tr>\n",
       "    <tr>\n",
       "      <th>1</th>\n",
       "      <td>143.0</td>\n",
       "      <td>141.0</td>\n",
       "    </tr>\n",
       "    <tr>\n",
       "      <th>2</th>\n",
       "      <td>3347.0</td>\n",
       "      <td>3308.0</td>\n",
       "    </tr>\n",
       "    <tr>\n",
       "      <th>3</th>\n",
       "      <td>59.0</td>\n",
       "      <td>59.0</td>\n",
       "    </tr>\n",
       "    <tr>\n",
       "      <th>4</th>\n",
       "      <td>341.0</td>\n",
       "      <td>340.0</td>\n",
       "    </tr>\n",
       "    <tr>\n",
       "      <th>...</th>\n",
       "      <td>...</td>\n",
       "      <td>...</td>\n",
       "    </tr>\n",
       "    <tr>\n",
       "      <th>14812</th>\n",
       "      <td>83.0</td>\n",
       "      <td>82.0</td>\n",
       "    </tr>\n",
       "    <tr>\n",
       "      <th>14813</th>\n",
       "      <td>21.0</td>\n",
       "      <td>21.0</td>\n",
       "    </tr>\n",
       "    <tr>\n",
       "      <th>14814</th>\n",
       "      <td>282.0</td>\n",
       "      <td>281.0</td>\n",
       "    </tr>\n",
       "    <tr>\n",
       "      <th>14815</th>\n",
       "      <td>264.0</td>\n",
       "      <td>258.0</td>\n",
       "    </tr>\n",
       "    <tr>\n",
       "      <th>14816</th>\n",
       "      <td>275.0</td>\n",
       "      <td>274.0</td>\n",
       "    </tr>\n",
       "  </tbody>\n",
       "</table>\n",
       "<p>14817 rows × 2 columns</p>\n",
       "</div>"
      ],
      "text/plain": [
       "       actual_time  segment_actual_time\n",
       "0           1562.0               1548.0\n",
       "1            143.0                141.0\n",
       "2           3347.0               3308.0\n",
       "3             59.0                 59.0\n",
       "4            341.0                340.0\n",
       "...            ...                  ...\n",
       "14812         83.0                 82.0\n",
       "14813         21.0                 21.0\n",
       "14814        282.0                281.0\n",
       "14815        264.0                258.0\n",
       "14816        275.0                274.0\n",
       "\n",
       "[14817 rows x 2 columns]"
      ]
     },
     "execution_count": 42,
     "metadata": {},
     "output_type": "execute_result"
    }
   ],
   "source": [
    "df2[['actual_time','segment_actual_time']]"
   ]
  },
  {
   "cell_type": "code",
   "execution_count": 43,
   "id": "5d73bedb",
   "metadata": {},
   "outputs": [
    {
     "data": {
      "text/html": [
       "<div>\n",
       "<style scoped>\n",
       "    .dataframe tbody tr th:only-of-type {\n",
       "        vertical-align: middle;\n",
       "    }\n",
       "\n",
       "    .dataframe tbody tr th {\n",
       "        vertical-align: top;\n",
       "    }\n",
       "\n",
       "    .dataframe thead th {\n",
       "        text-align: right;\n",
       "    }\n",
       "</style>\n",
       "<table border=\"1\" class=\"dataframe\">\n",
       "  <thead>\n",
       "    <tr style=\"text-align: right;\">\n",
       "      <th></th>\n",
       "      <th>actual_time</th>\n",
       "      <th>segment_actual_time</th>\n",
       "    </tr>\n",
       "  </thead>\n",
       "  <tbody>\n",
       "    <tr>\n",
       "      <th>count</th>\n",
       "      <td>14817.000000</td>\n",
       "      <td>14817.000000</td>\n",
       "    </tr>\n",
       "    <tr>\n",
       "      <th>mean</th>\n",
       "      <td>357.143754</td>\n",
       "      <td>353.892286</td>\n",
       "    </tr>\n",
       "    <tr>\n",
       "      <th>std</th>\n",
       "      <td>561.396157</td>\n",
       "      <td>556.247965</td>\n",
       "    </tr>\n",
       "    <tr>\n",
       "      <th>min</th>\n",
       "      <td>9.000000</td>\n",
       "      <td>9.000000</td>\n",
       "    </tr>\n",
       "    <tr>\n",
       "      <th>25%</th>\n",
       "      <td>67.000000</td>\n",
       "      <td>66.000000</td>\n",
       "    </tr>\n",
       "    <tr>\n",
       "      <th>50%</th>\n",
       "      <td>149.000000</td>\n",
       "      <td>147.000000</td>\n",
       "    </tr>\n",
       "    <tr>\n",
       "      <th>75%</th>\n",
       "      <td>370.000000</td>\n",
       "      <td>367.000000</td>\n",
       "    </tr>\n",
       "    <tr>\n",
       "      <th>max</th>\n",
       "      <td>6265.000000</td>\n",
       "      <td>6230.000000</td>\n",
       "    </tr>\n",
       "  </tbody>\n",
       "</table>\n",
       "</div>"
      ],
      "text/plain": [
       "        actual_time  segment_actual_time\n",
       "count  14817.000000         14817.000000\n",
       "mean     357.143754           353.892286\n",
       "std      561.396157           556.247965\n",
       "min        9.000000             9.000000\n",
       "25%       67.000000            66.000000\n",
       "50%      149.000000           147.000000\n",
       "75%      370.000000           367.000000\n",
       "max     6265.000000          6230.000000"
      ]
     },
     "execution_count": 43,
     "metadata": {},
     "output_type": "execute_result"
    }
   ],
   "source": [
    "df2[['actual_time', 'segment_actual_time']].describe()"
   ]
  },
  {
   "cell_type": "code",
   "execution_count": 44,
   "id": "ddd249a5",
   "metadata": {},
   "outputs": [
    {
     "data": {
      "image/png": "[encoded data removed]",
      "text/plain": [
       "<Figure size 640x480 with 2 Axes>"
      ]
     },
     "metadata": {},
     "output_type": "display_data"
    }
   ],
   "source": [
    "plt.subplot(3,1,2)\n",
    "sns.histplot(data=df2, x='actual_time')\n",
    "\n",
    "plt.subplot(3,1,3)\n",
    "sns.histplot(data=df2, x='segment_actual_time')\n",
    "plt.show()"
   ]
  },
  {
   "cell_type": "code",
   "execution_count": 45,
   "id": "3c2507b1",
   "metadata": {},
   "outputs": [
    {
     "name": "stdout",
     "output_type": "stream",
     "text": [
      "t_stat : 0.5008024728897531\n",
      "p_value : 0.6165138648224772\n",
      "Fail to Reject Ho\n",
      "At 5% significance- There is no significant difference between the actual_time and segment_actual_time\n"
     ]
    }
   ],
   "source": [
    "# Ho- There is no significant difference between the actual_time and segment_actual_time\n",
    "# Ha- There is significant difference between the actual_time and segment_actual_time\n",
    "\n",
    "t_val, p_val=ttest_ind(df2['actual_time'],df2['segment_actual_time'])\n",
    "print('t_stat :',t_val)\n",
    "print('p_value :',p_val)\n",
    "if p_val<0.05:\n",
    "    print('Reject Ho')\n",
    "    print('At 5% significance- There is significant difference between the actual_time and segment_actual_time')\n",
    "else:\n",
    "    print('Fail to Reject Ho')\n",
    "    print('At 5% significance- There is no significant difference between the actual_time and segment_actual_time')"
   ]
  },
  {
   "cell_type": "markdown",
   "id": "57847211",
   "metadata": {},
   "source": [
    "### 5. Osrm distance aggregated value and segment osrm distance aggregated value"
   ]
  },
  {
   "cell_type": "code",
   "execution_count": 46,
   "id": "2a0d8646",
   "metadata": {},
   "outputs": [
    {
     "data": {
      "text/html": [
       "<div>\n",
       "<style scoped>\n",
       "    .dataframe tbody tr th:only-of-type {\n",
       "        vertical-align: middle;\n",
       "    }\n",
       "\n",
       "    .dataframe tbody tr th {\n",
       "        vertical-align: top;\n",
       "    }\n",
       "\n",
       "    .dataframe thead th {\n",
       "        text-align: right;\n",
       "    }\n",
       "</style>\n",
       "<table border=\"1\" class=\"dataframe\">\n",
       "  <thead>\n",
       "    <tr style=\"text-align: right;\">\n",
       "      <th></th>\n",
       "      <th>osrm_distance</th>\n",
       "      <th>segment_osrm_distance</th>\n",
       "    </tr>\n",
       "  </thead>\n",
       "  <tbody>\n",
       "    <tr>\n",
       "      <th>0</th>\n",
       "      <td>991.3523</td>\n",
       "      <td>1320.4733</td>\n",
       "    </tr>\n",
       "    <tr>\n",
       "      <th>1</th>\n",
       "      <td>85.1110</td>\n",
       "      <td>84.1894</td>\n",
       "    </tr>\n",
       "    <tr>\n",
       "      <th>2</th>\n",
       "      <td>2354.0665</td>\n",
       "      <td>2545.2678</td>\n",
       "    </tr>\n",
       "    <tr>\n",
       "      <th>3</th>\n",
       "      <td>19.6800</td>\n",
       "      <td>19.8766</td>\n",
       "    </tr>\n",
       "    <tr>\n",
       "      <th>4</th>\n",
       "      <td>146.7918</td>\n",
       "      <td>146.7919</td>\n",
       "    </tr>\n",
       "  </tbody>\n",
       "</table>\n",
       "</div>"
      ],
      "text/plain": [
       "   osrm_distance  segment_osrm_distance\n",
       "0       991.3523              1320.4733\n",
       "1        85.1110                84.1894\n",
       "2      2354.0665              2545.2678\n",
       "3        19.6800                19.8766\n",
       "4       146.7918               146.7919"
      ]
     },
     "execution_count": 46,
     "metadata": {},
     "output_type": "execute_result"
    }
   ],
   "source": [
    "df2[['osrm_distance','segment_osrm_distance']].head()"
   ]
  },
  {
   "cell_type": "code",
   "execution_count": 47,
   "id": "4581c7f9",
   "metadata": {},
   "outputs": [
    {
     "data": {
      "text/html": [
       "<div>\n",
       "<style scoped>\n",
       "    .dataframe tbody tr th:only-of-type {\n",
       "        vertical-align: middle;\n",
       "    }\n",
       "\n",
       "    .dataframe tbody tr th {\n",
       "        vertical-align: top;\n",
       "    }\n",
       "\n",
       "    .dataframe thead th {\n",
       "        text-align: right;\n",
       "    }\n",
       "</style>\n",
       "<table border=\"1\" class=\"dataframe\">\n",
       "  <thead>\n",
       "    <tr style=\"text-align: right;\">\n",
       "      <th></th>\n",
       "      <th>osrm_distance</th>\n",
       "      <th>segment_osrm_distance</th>\n",
       "    </tr>\n",
       "  </thead>\n",
       "  <tbody>\n",
       "    <tr>\n",
       "      <th>count</th>\n",
       "      <td>14817.000000</td>\n",
       "      <td>14817.000000</td>\n",
       "    </tr>\n",
       "    <tr>\n",
       "      <th>mean</th>\n",
       "      <td>204.344689</td>\n",
       "      <td>223.201161</td>\n",
       "    </tr>\n",
       "    <tr>\n",
       "      <th>std</th>\n",
       "      <td>370.395573</td>\n",
       "      <td>416.628374</td>\n",
       "    </tr>\n",
       "    <tr>\n",
       "      <th>min</th>\n",
       "      <td>9.072900</td>\n",
       "      <td>9.072900</td>\n",
       "    </tr>\n",
       "    <tr>\n",
       "      <th>25%</th>\n",
       "      <td>30.819200</td>\n",
       "      <td>32.654500</td>\n",
       "    </tr>\n",
       "    <tr>\n",
       "      <th>50%</th>\n",
       "      <td>65.618800</td>\n",
       "      <td>70.154400</td>\n",
       "    </tr>\n",
       "    <tr>\n",
       "      <th>75%</th>\n",
       "      <td>208.475000</td>\n",
       "      <td>218.802400</td>\n",
       "    </tr>\n",
       "    <tr>\n",
       "      <th>max</th>\n",
       "      <td>2840.081000</td>\n",
       "      <td>3523.632400</td>\n",
       "    </tr>\n",
       "  </tbody>\n",
       "</table>\n",
       "</div>"
      ],
      "text/plain": [
       "       osrm_distance  segment_osrm_distance\n",
       "count   14817.000000           14817.000000\n",
       "mean      204.344689             223.201161\n",
       "std       370.395573             416.628374\n",
       "min         9.072900               9.072900\n",
       "25%        30.819200              32.654500\n",
       "50%        65.618800              70.154400\n",
       "75%       208.475000             218.802400\n",
       "max      2840.081000            3523.632400"
      ]
     },
     "execution_count": 47,
     "metadata": {},
     "output_type": "execute_result"
    }
   ],
   "source": [
    "df2[['osrm_distance', 'segment_osrm_distance']].describe()"
   ]
  },
  {
   "cell_type": "code",
   "execution_count": 48,
   "id": "6a778ca7",
   "metadata": {},
   "outputs": [
    {
     "data": {
      "image/png": "[encoded data removed]",
      "text/plain": [
       "<Figure size 640x480 with 2 Axes>"
      ]
     },
     "metadata": {},
     "output_type": "display_data"
    }
   ],
   "source": [
    "plt.subplot(3,1,2)\n",
    "sns.histplot(data=df2, x='osrm_distance')\n",
    "\n",
    "plt.subplot(3,1,3)\n",
    "sns.histplot(data=df2, x='segment_osrm_distance')\n",
    "plt.show()"
   ]
  },
  {
   "cell_type": "code",
   "execution_count": 49,
   "id": "6fe3673f",
   "metadata": {},
   "outputs": [
    {
     "name": "stdout",
     "output_type": "stream",
     "text": [
      "t_stat : -4.117367046483823\n",
      "p_value : 3.842631473353718e-05\n",
      "Reject Ho\n",
      "At 5% significance- There is significant difference between the osrm_distance and segment_osrm_distance\n"
     ]
    }
   ],
   "source": [
    "# Ho- There is no significant difference between the osrm_distance and segment_osrm_distance\n",
    "# Ha- There is significant difference between the osrm_distance and segment_osrm_distance\n",
    "t_val, p_val=ttest_ind(df2['osrm_distance'],df2['segment_osrm_distance'])\n",
    "print('t_stat :',t_val)\n",
    "print('p_value :',p_val)\n",
    "if p_val<0.05:\n",
    "    print('Reject Ho')\n",
    "    print('At 5% significance- There is significant difference between the osrm_distance and segment_osrm_distance')\n",
    "else:\n",
    "    print('Fail to Reject Ho')\n",
    "    print('At 5% significance- There is no significant difference between the osrm_distance and segment_osrm_distance')"
   ]
  },
  {
   "cell_type": "markdown",
   "id": "e7b1eb85",
   "metadata": {},
   "source": [
    "### 6. Osrm time aggregated value and segment osrm time aggregated value"
   ]
  },
  {
   "cell_type": "code",
   "execution_count": 50,
   "id": "00fcec2b",
   "metadata": {},
   "outputs": [
    {
     "data": {
      "text/html": [
       "<div>\n",
       "<style scoped>\n",
       "    .dataframe tbody tr th:only-of-type {\n",
       "        vertical-align: middle;\n",
       "    }\n",
       "\n",
       "    .dataframe tbody tr th {\n",
       "        vertical-align: top;\n",
       "    }\n",
       "\n",
       "    .dataframe thead th {\n",
       "        text-align: right;\n",
       "    }\n",
       "</style>\n",
       "<table border=\"1\" class=\"dataframe\">\n",
       "  <thead>\n",
       "    <tr style=\"text-align: right;\">\n",
       "      <th></th>\n",
       "      <th>osrm_time</th>\n",
       "      <th>segment_osrm_time</th>\n",
       "    </tr>\n",
       "  </thead>\n",
       "  <tbody>\n",
       "    <tr>\n",
       "      <th>0</th>\n",
       "      <td>717.0</td>\n",
       "      <td>1008.0</td>\n",
       "    </tr>\n",
       "    <tr>\n",
       "      <th>1</th>\n",
       "      <td>68.0</td>\n",
       "      <td>65.0</td>\n",
       "    </tr>\n",
       "    <tr>\n",
       "      <th>2</th>\n",
       "      <td>1740.0</td>\n",
       "      <td>1941.0</td>\n",
       "    </tr>\n",
       "    <tr>\n",
       "      <th>3</th>\n",
       "      <td>15.0</td>\n",
       "      <td>16.0</td>\n",
       "    </tr>\n",
       "    <tr>\n",
       "      <th>4</th>\n",
       "      <td>117.0</td>\n",
       "      <td>115.0</td>\n",
       "    </tr>\n",
       "  </tbody>\n",
       "</table>\n",
       "</div>"
      ],
      "text/plain": [
       "   osrm_time  segment_osrm_time\n",
       "0      717.0             1008.0\n",
       "1       68.0               65.0\n",
       "2     1740.0             1941.0\n",
       "3       15.0               16.0\n",
       "4      117.0              115.0"
      ]
     },
     "execution_count": 50,
     "metadata": {},
     "output_type": "execute_result"
    }
   ],
   "source": [
    "df2[['osrm_time','segment_osrm_time']].head()"
   ]
  },
  {
   "cell_type": "code",
   "execution_count": 51,
   "id": "00855f22",
   "metadata": {},
   "outputs": [
    {
     "data": {
      "text/html": [
       "<div>\n",
       "<style scoped>\n",
       "    .dataframe tbody tr th:only-of-type {\n",
       "        vertical-align: middle;\n",
       "    }\n",
       "\n",
       "    .dataframe tbody tr th {\n",
       "        vertical-align: top;\n",
       "    }\n",
       "\n",
       "    .dataframe thead th {\n",
       "        text-align: right;\n",
       "    }\n",
       "</style>\n",
       "<table border=\"1\" class=\"dataframe\">\n",
       "  <thead>\n",
       "    <tr style=\"text-align: right;\">\n",
       "      <th></th>\n",
       "      <th>osrm_time</th>\n",
       "      <th>segment_osrm_time</th>\n",
       "    </tr>\n",
       "  </thead>\n",
       "  <tbody>\n",
       "    <tr>\n",
       "      <th>count</th>\n",
       "      <td>14817.000000</td>\n",
       "      <td>14817.000000</td>\n",
       "    </tr>\n",
       "    <tr>\n",
       "      <th>mean</th>\n",
       "      <td>161.384018</td>\n",
       "      <td>180.949787</td>\n",
       "    </tr>\n",
       "    <tr>\n",
       "      <th>std</th>\n",
       "      <td>271.360995</td>\n",
       "      <td>314.542047</td>\n",
       "    </tr>\n",
       "    <tr>\n",
       "      <th>min</th>\n",
       "      <td>6.000000</td>\n",
       "      <td>6.000000</td>\n",
       "    </tr>\n",
       "    <tr>\n",
       "      <th>25%</th>\n",
       "      <td>29.000000</td>\n",
       "      <td>31.000000</td>\n",
       "    </tr>\n",
       "    <tr>\n",
       "      <th>50%</th>\n",
       "      <td>60.000000</td>\n",
       "      <td>65.000000</td>\n",
       "    </tr>\n",
       "    <tr>\n",
       "      <th>75%</th>\n",
       "      <td>168.000000</td>\n",
       "      <td>185.000000</td>\n",
       "    </tr>\n",
       "    <tr>\n",
       "      <th>max</th>\n",
       "      <td>2032.000000</td>\n",
       "      <td>2564.000000</td>\n",
       "    </tr>\n",
       "  </tbody>\n",
       "</table>\n",
       "</div>"
      ],
      "text/plain": [
       "          osrm_time  segment_osrm_time\n",
       "count  14817.000000       14817.000000\n",
       "mean     161.384018         180.949787\n",
       "std      271.360995         314.542047\n",
       "min        6.000000           6.000000\n",
       "25%       29.000000          31.000000\n",
       "50%       60.000000          65.000000\n",
       "75%      168.000000         185.000000\n",
       "max     2032.000000        2564.000000"
      ]
     },
     "execution_count": 51,
     "metadata": {},
     "output_type": "execute_result"
    }
   ],
   "source": [
    "df2[['osrm_time', 'segment_osrm_time']].describe()"
   ]
  },
  {
   "cell_type": "code",
   "execution_count": 52,
   "id": "176e01ca",
   "metadata": {},
   "outputs": [
    {
     "data": {
      "image/png": "[encoded data removed]",
      "text/plain": [
       "<Figure size 640x480 with 2 Axes>"
      ]
     },
     "metadata": {},
     "output_type": "display_data"
    }
   ],
   "source": [
    "plt.subplot(3,1,2)\n",
    "sns.histplot(data=df2, x='osrm_time')\n",
    "\n",
    "plt.subplot(3,1,3)\n",
    "sns.histplot(data=df2, x='segment_osrm_time')\n",
    "plt.show()"
   ]
  },
  {
   "cell_type": "code",
   "execution_count": 53,
   "id": "bc7b7254",
   "metadata": {},
   "outputs": [
    {
     "name": "stdout",
     "output_type": "stream",
     "text": [
      "t_stat : -5.733106696963521\n",
      "p_value : 9.956426798219171e-09\n",
      "Reject Ho\n",
      "At 5% significance- There is significant difference between the osrm_time and segment_osrm_time\n"
     ]
    }
   ],
   "source": [
    "# Ho- There is no significant difference between the osrm_time and segment_osrm_time\n",
    "# Ha- There is significant difference between the osrm_time and segment_osrm_time\n",
    "t_val, p_val=ttest_ind(df2['osrm_time'],df2['segment_osrm_time'])\n",
    "print('t_stat :',t_val)\n",
    "print('p_value :',p_val)\n",
    "if p_val<0.05:\n",
    "    print('Reject Ho')\n",
    "    print('At 5% significance- There is significant difference between the osrm_time and segment_osrm_time')\n",
    "else:\n",
    "    print('Fail to Reject Ho')\n",
    "    print('At 5% significance- There is no significant difference between the osrm_time and segment_osrm_time')"
   ]
  },
  {
   "cell_type": "markdown",
   "id": "fed43f74",
   "metadata": {},
   "source": [
    "## Outliers in the numerical variables"
   ]
  },
  {
   "cell_type": "code",
   "execution_count": 54,
   "id": "45a3142f",
   "metadata": {},
   "outputs": [
    {
     "data": {
      "text/plain": [
       "Index(['start_scan_to_end_scan', 'actual_distance_to_destination',\n",
       "       'actual_time', 'osrm_time', 'osrm_distance', 'segment_actual_time',\n",
       "       'segment_osrm_time', 'segment_osrm_distance', 'od_total_time', 'Year',\n",
       "       'Month', 'Day', 'week_day', 'Hour', 'time_diff'],\n",
       "      dtype='object')"
      ]
     },
     "execution_count": 54,
     "metadata": {},
     "output_type": "execute_result"
    }
   ],
   "source": [
    "num_colums=df2.describe()\n",
    "num_colums.columns"
   ]
  },
  {
   "cell_type": "code",
   "execution_count": 55,
   "id": "fc273242",
   "metadata": {},
   "outputs": [
    {
     "data": {
      "text/plain": [
       "<AxesSubplot:ylabel='time_diff'>"
      ]
     },
     "execution_count": 55,
     "metadata": {},
     "output_type": "execute_result"
    },
    {
     "data": {
      "image/png": "[encoded data removed]",
      "text/plain": [
       "<Figure size 1000x1200 with 7 Axes>"
      ]
     },
     "metadata": {},
     "output_type": "display_data"
    }
   ],
   "source": [
    "plt.figure(figsize=(10,12))\n",
    "plt.subplot(3,3,1)\n",
    "sns.boxplot(data=df2, y='start_scan_to_end_scan')\n",
    "\n",
    "plt.subplot(3,3,2)\n",
    "sns.boxplot(data=df2, y='actual_distance_to_destination')\n",
    "\n",
    "plt.subplot(3,3,3)\n",
    "sns.boxplot(data=df2, y='actual_time')\n",
    "\n",
    "plt.subplot(3,3,4)\n",
    "sns.boxplot(data=df2, y='osrm_time')\n",
    "\n",
    "plt.subplot(3,3,5)\n",
    "sns.boxplot(data=df2, y='osrm_distance')\n",
    "\n",
    "plt.subplot(3,3,6)\n",
    "sns.boxplot(data=df2, y='od_total_time')\n",
    "\n",
    "plt.subplot(3,3,7)\n",
    "sns.boxplot(data=df2, y='time_diff')"
   ]
  },
  {
   "cell_type": "code",
   "execution_count": 56,
   "id": "972984d8",
   "metadata": {},
   "outputs": [],
   "source": [
    "# The data contains outliers in all of the numercial features\n",
    "# Mojority of outliers are above the 75th percentile"
   ]
  },
  {
   "cell_type": "markdown",
   "id": "cd503b0b",
   "metadata": {},
   "source": [
    "## Handling the outliers using the IQR method"
   ]
  },
  {
   "cell_type": "code",
   "execution_count": 57,
   "id": "0ba72984",
   "metadata": {},
   "outputs": [],
   "source": [
    "for i in num_colums:\n",
    "    IQR=np.percentile(df2[i],75)-np.percentile(df2[i],25)\n",
    "    Upper_whisker=(np.percentile(df2[i],75)+(1.5*IQR))\n",
    "    Lower_whisker=max((np.percentile(df2[i],25)-(1.5*IQR), min(df2[i])))\n",
    "    df2=df2[df2[i]<=Upper_whisker]"
   ]
  },
  {
   "cell_type": "code",
   "execution_count": 58,
   "id": "78746a55",
   "metadata": {},
   "outputs": [
    {
     "data": {
      "text/plain": [
       "<AxesSubplot:ylabel='time_diff'>"
      ]
     },
     "execution_count": 58,
     "metadata": {},
     "output_type": "execute_result"
    },
    {
     "data": {
      "image/png": "[encoded data removed]",
      "text/plain": [
       "<Figure size 1000x1200 with 7 Axes>"
      ]
     },
     "metadata": {},
     "output_type": "display_data"
    }
   ],
   "source": [
    "plt.figure(figsize=(10,12))\n",
    "plt.subplot(3,3,1)\n",
    "sns.boxplot(data=df2, y='start_scan_to_end_scan')\n",
    "\n",
    "plt.subplot(3,3,2)\n",
    "sns.boxplot(data=df2, y='actual_distance_to_destination')\n",
    "\n",
    "plt.subplot(3,3,3)\n",
    "sns.boxplot(data=df2, y='actual_time')\n",
    "\n",
    "plt.subplot(3,3,4)\n",
    "sns.boxplot(data=df2, y='osrm_time')\n",
    "\n",
    "plt.subplot(3,3,5)\n",
    "sns.boxplot(data=df2, y='osrm_distance')\n",
    "\n",
    "plt.subplot(3,3,6)\n",
    "sns.boxplot(data=df2, y='od_total_time')\n",
    "\n",
    "plt.subplot(3,3,7)\n",
    "sns.boxplot(data=df2, y='time_diff')"
   ]
  },
  {
   "cell_type": "code",
   "execution_count": 59,
   "id": "ddc87b68",
   "metadata": {},
   "outputs": [],
   "source": [
    "# Even after using IQR method, the outliers are still present in the data.\n",
    "# But the max values have come down considierably"
   ]
  },
  {
   "cell_type": "code",
   "execution_count": 60,
   "id": "c6fc620e",
   "metadata": {},
   "outputs": [
    {
     "data": {
      "text/html": [
       "<div>\n",
       "<style scoped>\n",
       "    .dataframe tbody tr th:only-of-type {\n",
       "        vertical-align: middle;\n",
       "    }\n",
       "\n",
       "    .dataframe tbody tr th {\n",
       "        vertical-align: top;\n",
       "    }\n",
       "\n",
       "    .dataframe thead th {\n",
       "        text-align: right;\n",
       "    }\n",
       "</style>\n",
       "<table border=\"1\" class=\"dataframe\">\n",
       "  <thead>\n",
       "    <tr style=\"text-align: right;\">\n",
       "      <th></th>\n",
       "      <th>start_scan_to_end_scan</th>\n",
       "      <th>actual_distance_to_destination</th>\n",
       "      <th>actual_time</th>\n",
       "      <th>osrm_time</th>\n",
       "      <th>osrm_distance</th>\n",
       "      <th>segment_actual_time</th>\n",
       "      <th>segment_osrm_time</th>\n",
       "      <th>segment_osrm_distance</th>\n",
       "      <th>od_total_time</th>\n",
       "      <th>Year</th>\n",
       "      <th>Month</th>\n",
       "      <th>Day</th>\n",
       "      <th>week_day</th>\n",
       "      <th>Hour</th>\n",
       "      <th>time_diff</th>\n",
       "    </tr>\n",
       "  </thead>\n",
       "  <tbody>\n",
       "    <tr>\n",
       "      <th>count</th>\n",
       "      <td>7626.000000</td>\n",
       "      <td>7626.000000</td>\n",
       "      <td>7626.000000</td>\n",
       "      <td>7626.000000</td>\n",
       "      <td>7626.000000</td>\n",
       "      <td>7626.000000</td>\n",
       "      <td>7626.000000</td>\n",
       "      <td>7626.000000</td>\n",
       "      <td>7626.000000</td>\n",
       "      <td>7626.0</td>\n",
       "      <td>7626.0</td>\n",
       "      <td>7626.000000</td>\n",
       "      <td>7626.000000</td>\n",
       "      <td>7626.000000</td>\n",
       "      <td>7626.000000</td>\n",
       "    </tr>\n",
       "    <tr>\n",
       "      <th>mean</th>\n",
       "      <td>185.517834</td>\n",
       "      <td>34.348979</td>\n",
       "      <td>95.646735</td>\n",
       "      <td>40.241280</td>\n",
       "      <td>44.048129</td>\n",
       "      <td>94.654472</td>\n",
       "      <td>43.248623</td>\n",
       "      <td>46.854042</td>\n",
       "      <td>186.131917</td>\n",
       "      <td>2018.0</td>\n",
       "      <td>9.0</td>\n",
       "      <td>20.572122</td>\n",
       "      <td>3.193024</td>\n",
       "      <td>11.884474</td>\n",
       "      <td>0.614083</td>\n",
       "    </tr>\n",
       "    <tr>\n",
       "      <th>std</th>\n",
       "      <td>95.936743</td>\n",
       "      <td>23.652170</td>\n",
       "      <td>61.482178</td>\n",
       "      <td>24.745185</td>\n",
       "      <td>29.338824</td>\n",
       "      <td>61.101421</td>\n",
       "      <td>27.210949</td>\n",
       "      <td>30.423834</td>\n",
       "      <td>96.009991</td>\n",
       "      <td>0.0</td>\n",
       "      <td>0.0</td>\n",
       "      <td>5.428701</td>\n",
       "      <td>1.877839</td>\n",
       "      <td>7.966431</td>\n",
       "      <td>0.589442</td>\n",
       "    </tr>\n",
       "    <tr>\n",
       "      <th>min</th>\n",
       "      <td>23.000000</td>\n",
       "      <td>9.002461</td>\n",
       "      <td>9.000000</td>\n",
       "      <td>7.000000</td>\n",
       "      <td>9.072900</td>\n",
       "      <td>9.000000</td>\n",
       "      <td>7.000000</td>\n",
       "      <td>9.072900</td>\n",
       "      <td>23.000000</td>\n",
       "      <td>2018.0</td>\n",
       "      <td>9.0</td>\n",
       "      <td>12.000000</td>\n",
       "      <td>0.000000</td>\n",
       "      <td>0.000000</td>\n",
       "      <td>0.000000</td>\n",
       "    </tr>\n",
       "    <tr>\n",
       "      <th>25%</th>\n",
       "      <td>111.000000</td>\n",
       "      <td>17.582339</td>\n",
       "      <td>50.000000</td>\n",
       "      <td>22.000000</td>\n",
       "      <td>23.993225</td>\n",
       "      <td>50.000000</td>\n",
       "      <td>22.000000</td>\n",
       "      <td>25.153600</td>\n",
       "      <td>112.000000</td>\n",
       "      <td>2018.0</td>\n",
       "      <td>9.0</td>\n",
       "      <td>16.000000</td>\n",
       "      <td>2.000000</td>\n",
       "      <td>4.000000</td>\n",
       "      <td>0.000000</td>\n",
       "    </tr>\n",
       "    <tr>\n",
       "      <th>50%</th>\n",
       "      <td>168.500000</td>\n",
       "      <td>27.607405</td>\n",
       "      <td>78.000000</td>\n",
       "      <td>33.000000</td>\n",
       "      <td>35.700000</td>\n",
       "      <td>77.000000</td>\n",
       "      <td>35.000000</td>\n",
       "      <td>37.910550</td>\n",
       "      <td>169.000000</td>\n",
       "      <td>2018.0</td>\n",
       "      <td>9.0</td>\n",
       "      <td>20.000000</td>\n",
       "      <td>3.000000</td>\n",
       "      <td>13.000000</td>\n",
       "      <td>1.000000</td>\n",
       "    </tr>\n",
       "    <tr>\n",
       "      <th>75%</th>\n",
       "      <td>245.000000</td>\n",
       "      <td>41.675118</td>\n",
       "      <td>126.000000</td>\n",
       "      <td>54.000000</td>\n",
       "      <td>53.280325</td>\n",
       "      <td>125.000000</td>\n",
       "      <td>58.000000</td>\n",
       "      <td>60.182400</td>\n",
       "      <td>246.000000</td>\n",
       "      <td>2018.0</td>\n",
       "      <td>9.0</td>\n",
       "      <td>25.000000</td>\n",
       "      <td>5.000000</td>\n",
       "      <td>20.000000</td>\n",
       "      <td>1.000000</td>\n",
       "    </tr>\n",
       "    <tr>\n",
       "      <th>max</th>\n",
       "      <td>480.000000</td>\n",
       "      <td>125.988118</td>\n",
       "      <td>356.000000</td>\n",
       "      <td>147.000000</td>\n",
       "      <td>152.418500</td>\n",
       "      <td>352.000000</td>\n",
       "      <td>148.000000</td>\n",
       "      <td>138.730300</td>\n",
       "      <td>481.000000</td>\n",
       "      <td>2018.0</td>\n",
       "      <td>9.0</td>\n",
       "      <td>30.000000</td>\n",
       "      <td>6.000000</td>\n",
       "      <td>23.000000</td>\n",
       "      <td>2.000000</td>\n",
       "    </tr>\n",
       "  </tbody>\n",
       "</table>\n",
       "</div>"
      ],
      "text/plain": [
       "       start_scan_to_end_scan  actual_distance_to_destination  actual_time  \\\n",
       "count             7626.000000                     7626.000000  7626.000000   \n",
       "mean               185.517834                       34.348979    95.646735   \n",
       "std                 95.936743                       23.652170    61.482178   \n",
       "min                 23.000000                        9.002461     9.000000   \n",
       "25%                111.000000                       17.582339    50.000000   \n",
       "50%                168.500000                       27.607405    78.000000   \n",
       "75%                245.000000                       41.675118   126.000000   \n",
       "max                480.000000                      125.988118   356.000000   \n",
       "\n",
       "         osrm_time  osrm_distance  segment_actual_time  segment_osrm_time  \\\n",
       "count  7626.000000    7626.000000          7626.000000        7626.000000   \n",
       "mean     40.241280      44.048129            94.654472          43.248623   \n",
       "std      24.745185      29.338824            61.101421          27.210949   \n",
       "min       7.000000       9.072900             9.000000           7.000000   \n",
       "25%      22.000000      23.993225            50.000000          22.000000   \n",
       "50%      33.000000      35.700000            77.000000          35.000000   \n",
       "75%      54.000000      53.280325           125.000000          58.000000   \n",
       "max     147.000000     152.418500           352.000000         148.000000   \n",
       "\n",
       "       segment_osrm_distance  od_total_time    Year   Month          Day  \\\n",
       "count            7626.000000    7626.000000  7626.0  7626.0  7626.000000   \n",
       "mean               46.854042     186.131917  2018.0     9.0    20.572122   \n",
       "std                30.423834      96.009991     0.0     0.0     5.428701   \n",
       "min                 9.072900      23.000000  2018.0     9.0    12.000000   \n",
       "25%                25.153600     112.000000  2018.0     9.0    16.000000   \n",
       "50%                37.910550     169.000000  2018.0     9.0    20.000000   \n",
       "75%                60.182400     246.000000  2018.0     9.0    25.000000   \n",
       "max               138.730300     481.000000  2018.0     9.0    30.000000   \n",
       "\n",
       "          week_day         Hour    time_diff  \n",
       "count  7626.000000  7626.000000  7626.000000  \n",
       "mean      3.193024    11.884474     0.614083  \n",
       "std       1.877839     7.966431     0.589442  \n",
       "min       0.000000     0.000000     0.000000  \n",
       "25%       2.000000     4.000000     0.000000  \n",
       "50%       3.000000    13.000000     1.000000  \n",
       "75%       5.000000    20.000000     1.000000  \n",
       "max       6.000000    23.000000     2.000000  "
      ]
     },
     "execution_count": 60,
     "metadata": {},
     "output_type": "execute_result"
    }
   ],
   "source": [
    "df2.describe()"
   ]
  },
  {
   "cell_type": "code",
   "execution_count": 61,
   "id": "0cc4068b",
   "metadata": {},
   "outputs": [
    {
     "data": {
      "image/png": "[encoded data removed]",
      "text/plain": [
       "<Figure size 1500x600 with 1 Axes>"
      ]
     },
     "metadata": {},
     "output_type": "display_data"
    }
   ],
   "source": [
    "# No of trips from each states\n",
    "\n",
    "plt.figure(figsize = (15, 6))\n",
    "d1=df2['source_state'].value_counts()\n",
    "x1=d1.index\n",
    "y1=d1\n",
    "sns.lineplot(x=x1, y=y1)\n",
    "plt.xticks(rotation=45)\n",
    "plt.show() "
   ]
  },
  {
   "cell_type": "code",
   "execution_count": 62,
   "id": "713cadec",
   "metadata": {},
   "outputs": [],
   "source": [
    "# Most order are from Maharastra followed by Karanataka\n",
    "# Least orders by Pondicherry followed by Himacha Pradesh"
   ]
  },
  {
   "cell_type": "code",
   "execution_count": 63,
   "id": "0af9a2a1",
   "metadata": {},
   "outputs": [
    {
     "data": {
      "text/html": [
       "<div>\n",
       "<style scoped>\n",
       "    .dataframe tbody tr th:only-of-type {\n",
       "        vertical-align: middle;\n",
       "    }\n",
       "\n",
       "    .dataframe tbody tr th {\n",
       "        vertical-align: top;\n",
       "    }\n",
       "\n",
       "    .dataframe thead th {\n",
       "        text-align: right;\n",
       "    }\n",
       "</style>\n",
       "<table border=\"1\" class=\"dataframe\">\n",
       "  <thead>\n",
       "    <tr style=\"text-align: right;\">\n",
       "      <th></th>\n",
       "      <th>index</th>\n",
       "      <th>source_city</th>\n",
       "    </tr>\n",
       "  </thead>\n",
       "  <tbody>\n",
       "    <tr>\n",
       "      <th>0</th>\n",
       "      <td>Bengaluru</td>\n",
       "      <td>874</td>\n",
       "    </tr>\n",
       "    <tr>\n",
       "      <th>1</th>\n",
       "      <td>Mumbai</td>\n",
       "      <td>492</td>\n",
       "    </tr>\n",
       "    <tr>\n",
       "      <th>2</th>\n",
       "      <td>Bangalore</td>\n",
       "      <td>453</td>\n",
       "    </tr>\n",
       "    <tr>\n",
       "      <th>3</th>\n",
       "      <td>Gurgaon</td>\n",
       "      <td>452</td>\n",
       "    </tr>\n",
       "    <tr>\n",
       "      <th>4</th>\n",
       "      <td>Bhiwandi</td>\n",
       "      <td>438</td>\n",
       "    </tr>\n",
       "    <tr>\n",
       "      <th>5</th>\n",
       "      <td>Delhi</td>\n",
       "      <td>362</td>\n",
       "    </tr>\n",
       "    <tr>\n",
       "      <th>6</th>\n",
       "      <td>Hyderabad</td>\n",
       "      <td>282</td>\n",
       "    </tr>\n",
       "    <tr>\n",
       "      <th>7</th>\n",
       "      <td>Chennai</td>\n",
       "      <td>264</td>\n",
       "    </tr>\n",
       "    <tr>\n",
       "      <th>8</th>\n",
       "      <td>Pune</td>\n",
       "      <td>257</td>\n",
       "    </tr>\n",
       "    <tr>\n",
       "      <th>9</th>\n",
       "      <td>Mumbai Hub (Maharashtra)</td>\n",
       "      <td>250</td>\n",
       "    </tr>\n",
       "  </tbody>\n",
       "</table>\n",
       "</div>"
      ],
      "text/plain": [
       "                      index  source_city\n",
       "0                 Bengaluru          874\n",
       "1                    Mumbai          492\n",
       "2                 Bangalore          453\n",
       "3                   Gurgaon          452\n",
       "4                  Bhiwandi          438\n",
       "5                     Delhi          362\n",
       "6                 Hyderabad          282\n",
       "7                   Chennai          264\n",
       "8                      Pune          257\n",
       "9  Mumbai Hub (Maharashtra)          250"
      ]
     },
     "execution_count": 63,
     "metadata": {},
     "output_type": "execute_result"
    }
   ],
   "source": [
    "df2['source_city'].value_counts().head(10).reset_index()"
   ]
  },
  {
   "cell_type": "code",
   "execution_count": 64,
   "id": "973ce66f",
   "metadata": {},
   "outputs": [
    {
     "data": {
      "text/plain": [
       "<AxesSubplot:xlabel='Year', ylabel='count'>"
      ]
     },
     "execution_count": 64,
     "metadata": {},
     "output_type": "execute_result"
    },
    {
     "data": {
      "image/png": "[encoded data removed]",
      "text/plain": [
       "<Figure size 300x300 with 1 Axes>"
      ]
     },
     "metadata": {},
     "output_type": "display_data"
    },
    {
     "data": {
      "image/png": "[encoded data removed]",
      "text/plain": [
       "<Figure size 300x300 with 1 Axes>"
      ]
     },
     "metadata": {},
     "output_type": "display_data"
    }
   ],
   "source": [
    "# No of trips from each states\n",
    "plt.figure(figsize=(3,3))\n",
    "plt.subplot(1,2,1)\n",
    "sns.countplot(data=df2, x='route_type')\n",
    "\n",
    "#No of order by Year\n",
    "plt.figure(figsize=(3,3))\n",
    "plt.subplot(1,2,2)\n",
    "sns.countplot(data=df2, x='Year')"
   ]
  },
  {
   "cell_type": "code",
   "execution_count": 65,
   "id": "7c27f2d9",
   "metadata": {},
   "outputs": [],
   "source": [
    "# The df contains data from 2018 only\n",
    "# Most order are of Carting"
   ]
  },
  {
   "cell_type": "code",
   "execution_count": 66,
   "id": "4eb2770d",
   "metadata": {},
   "outputs": [
    {
     "data": {
      "text/plain": [
       "<AxesSubplot:xlabel='week_day', ylabel='count'>"
      ]
     },
     "execution_count": 66,
     "metadata": {},
     "output_type": "execute_result"
    },
    {
     "data": {
      "image/png": "[encoded data removed]",
      "text/plain": [
       "<Figure size 2000x300 with 1 Axes>"
      ]
     },
     "metadata": {},
     "output_type": "display_data"
    },
    {
     "data": {
      "image/png": "[encoded data removed]",
      "text/plain": [
       "<Figure size 2000x300 with 1 Axes>"
      ]
     },
     "metadata": {},
     "output_type": "display_data"
    },
    {
     "data": {
      "image/png": "[encoded data removed]",
      "text/plain": [
       "<Figure size 2000x300 with 1 Axes>"
      ]
     },
     "metadata": {},
     "output_type": "display_data"
    },
    {
     "data": {
      "image/png": "[encoded data removed]",
      "text/plain": [
       "<Figure size 2000x300 with 1 Axes>"
      ]
     },
     "metadata": {},
     "output_type": "display_data"
    }
   ],
   "source": [
    "# No of trips from during each Day\n",
    "plt.figure(figsize=(20,3))\n",
    "plt.subplot(2,2,1)\n",
    "sns.countplot(data=df2, x='Month')\n",
    "\n",
    "# No of trips from during each Hour\n",
    "plt.figure(figsize=(20,3))\n",
    "plt.subplot(2,2,2)\n",
    "sns.countplot(data=df2, x='Day')\n",
    "\n",
    "# No of trips from during each Hour\n",
    "plt.figure(figsize=(20,3))\n",
    "plt.subplot(2,2,3)\n",
    "sns.countplot(data=df2, x='Hour')\n",
    "\n",
    "# No of trips from during each Hour\n",
    "plt.figure(figsize=(20,3))\n",
    "plt.subplot(2,2,4)\n",
    "sns.countplot(data=df2, x='week_day')"
   ]
  },
  {
   "cell_type": "code",
   "execution_count": 67,
   "id": "a6e6e36e",
   "metadata": {},
   "outputs": [],
   "source": [
    "# All the orders are from september month\n",
    "# The given data contains data from 12th to 30th of the month\n",
    "# Most orders are created during midnight and early mornings and least during afternoons\n",
    "# There were equal no of order on all days of the week except Sundays and Mondays"
   ]
  },
  {
   "cell_type": "code",
   "execution_count": 68,
   "id": "8e049b39",
   "metadata": {},
   "outputs": [
    {
     "data": {
      "image/png": "[encoded data removed]",
      "text/plain": [
       "<Figure size 1500x300 with 1 Axes>"
      ]
     },
     "metadata": {},
     "output_type": "display_data"
    }
   ],
   "source": [
    "# No of trips to each states\n",
    "plt.figure(figsize = (15, 3))\n",
    "d1=df2['destination_state'].value_counts()\n",
    "x1=d1.index\n",
    "y1=d1\n",
    "sns.lineplot(x=x1, y=y1)\n",
    "plt.xticks(rotation=45)\n",
    "plt.show()"
   ]
  },
  {
   "cell_type": "code",
   "execution_count": 69,
   "id": "0ef7f1ea",
   "metadata": {},
   "outputs": [],
   "source": [
    "# Most  trips ended in Maharashtra followed by Karnataka, Haryana, Tamil Nadu and Uttar Pradesh.\n",
    "# Least on Mizoram and Himachal Pradesh"
   ]
  },
  {
   "cell_type": "code",
   "execution_count": 70,
   "id": "13913a77",
   "metadata": {},
   "outputs": [
    {
     "data": {
      "text/html": [
       "<div>\n",
       "<style scoped>\n",
       "    .dataframe tbody tr th:only-of-type {\n",
       "        vertical-align: middle;\n",
       "    }\n",
       "\n",
       "    .dataframe tbody tr th {\n",
       "        vertical-align: top;\n",
       "    }\n",
       "\n",
       "    .dataframe thead th {\n",
       "        text-align: right;\n",
       "    }\n",
       "</style>\n",
       "<table border=\"1\" class=\"dataframe\">\n",
       "  <thead>\n",
       "    <tr style=\"text-align: right;\">\n",
       "      <th></th>\n",
       "      <th>index</th>\n",
       "      <th>destination_city</th>\n",
       "    </tr>\n",
       "  </thead>\n",
       "  <tbody>\n",
       "    <tr>\n",
       "      <th>0</th>\n",
       "      <td>Bengaluru</td>\n",
       "      <td>914</td>\n",
       "    </tr>\n",
       "    <tr>\n",
       "      <th>1</th>\n",
       "      <td>Mumbai</td>\n",
       "      <td>735</td>\n",
       "    </tr>\n",
       "    <tr>\n",
       "      <th>2</th>\n",
       "      <td>Delhi</td>\n",
       "      <td>389</td>\n",
       "    </tr>\n",
       "    <tr>\n",
       "      <th>3</th>\n",
       "      <td>Gurgaon</td>\n",
       "      <td>347</td>\n",
       "    </tr>\n",
       "    <tr>\n",
       "      <th>4</th>\n",
       "      <td>Bhiwandi</td>\n",
       "      <td>323</td>\n",
       "    </tr>\n",
       "    <tr>\n",
       "      <th>5</th>\n",
       "      <td>Chennai</td>\n",
       "      <td>321</td>\n",
       "    </tr>\n",
       "    <tr>\n",
       "      <th>6</th>\n",
       "      <td>Bangalore</td>\n",
       "      <td>319</td>\n",
       "    </tr>\n",
       "    <tr>\n",
       "      <th>7</th>\n",
       "      <td>Hyderabad</td>\n",
       "      <td>274</td>\n",
       "    </tr>\n",
       "    <tr>\n",
       "      <th>8</th>\n",
       "      <td>Mumbai Hub (Maharashtra)</td>\n",
       "      <td>203</td>\n",
       "    </tr>\n",
       "    <tr>\n",
       "      <th>9</th>\n",
       "      <td>Pune</td>\n",
       "      <td>189</td>\n",
       "    </tr>\n",
       "  </tbody>\n",
       "</table>\n",
       "</div>"
      ],
      "text/plain": [
       "                      index  destination_city\n",
       "0                 Bengaluru               914\n",
       "1                    Mumbai               735\n",
       "2                     Delhi               389\n",
       "3                   Gurgaon               347\n",
       "4                  Bhiwandi               323\n",
       "5                   Chennai               321\n",
       "6                 Bangalore               319\n",
       "7                 Hyderabad               274\n",
       "8  Mumbai Hub (Maharashtra)               203\n",
       "9                      Pune               189"
      ]
     },
     "execution_count": 70,
     "metadata": {},
     "output_type": "execute_result"
    }
   ],
   "source": [
    "df2['destination_city'].value_counts().head(10).reset_index()"
   ]
  },
  {
   "cell_type": "code",
   "execution_count": 71,
   "id": "917d9af2",
   "metadata": {},
   "outputs": [],
   "source": [
    "# Most orders are from Bengaluru, Mumbai and Delhi"
   ]
  },
  {
   "cell_type": "markdown",
   "id": "af5375fb",
   "metadata": {},
   "source": [
    "### One-hot encoding of categorical variables (like route_type)"
   ]
  },
  {
   "cell_type": "code",
   "execution_count": 72,
   "id": "ea968d47",
   "metadata": {},
   "outputs": [],
   "source": [
    "# one-hot encoding for 'route_type'"
   ]
  },
  {
   "cell_type": "code",
   "execution_count": 73,
   "id": "382a4b1e",
   "metadata": {},
   "outputs": [
    {
     "data": {
      "text/plain": [
       "Carting    6556\n",
       "FTL        1070\n",
       "Name: route_type, dtype: int64"
      ]
     },
     "execution_count": 73,
     "metadata": {},
     "output_type": "execute_result"
    }
   ],
   "source": [
    "df2['route_type'].value_counts()"
   ]
  },
  {
   "cell_type": "code",
   "execution_count": 74,
   "id": "c64dc597",
   "metadata": {},
   "outputs": [
    {
     "data": {
      "text/plain": [
       "0    6556\n",
       "1    1070\n",
       "Name: route_type, dtype: int64"
      ]
     },
     "execution_count": 74,
     "metadata": {},
     "output_type": "execute_result"
    }
   ],
   "source": [
    "df2['route_type']=LabelEncoder().fit_transform(df2['route_type'])\n",
    "df2['route_type'].value_counts()"
   ]
  },
  {
   "cell_type": "code",
   "execution_count": 75,
   "id": "31825e78",
   "metadata": {},
   "outputs": [],
   "source": [
    "# # one-hot encoding for 'data' "
   ]
  },
  {
   "cell_type": "code",
   "execution_count": 76,
   "id": "0bde05e0",
   "metadata": {},
   "outputs": [
    {
     "data": {
      "text/plain": [
       "training    6187\n",
       "test        1439\n",
       "Name: data, dtype: int64"
      ]
     },
     "execution_count": 76,
     "metadata": {},
     "output_type": "execute_result"
    }
   ],
   "source": [
    "df2['data'].value_counts()"
   ]
  },
  {
   "cell_type": "code",
   "execution_count": 77,
   "id": "14190f4c",
   "metadata": {},
   "outputs": [
    {
     "data": {
      "text/plain": [
       "1    6187\n",
       "0    1439\n",
       "Name: data, dtype: int64"
      ]
     },
     "execution_count": 77,
     "metadata": {},
     "output_type": "execute_result"
    }
   ],
   "source": [
    "df2['data']=LabelEncoder().fit_transform(df2['data'])\n",
    "df2['data'].value_counts()"
   ]
  },
  {
   "cell_type": "markdown",
   "id": "414c26a9",
   "metadata": {},
   "source": [
    "### Normalize/ Standardize the numerical features using MinMaxScaler or StandardScaler."
   ]
  },
  {
   "cell_type": "markdown",
   "id": "dcd89bd8",
   "metadata": {},
   "source": [
    "### 1. standardization of start_scan_to_end_scan with MinMaxScaler()"
   ]
  },
  {
   "cell_type": "code",
   "execution_count": 78,
   "id": "4f2b98b0",
   "metadata": {},
   "outputs": [
    {
     "data": {
      "text/plain": [
       "count    7626.000000\n",
       "mean      185.517834\n",
       "std        95.936743\n",
       "min        23.000000\n",
       "25%       111.000000\n",
       "50%       168.500000\n",
       "75%       245.000000\n",
       "max       480.000000\n",
       "Name: start_scan_to_end_scan, dtype: float64"
      ]
     },
     "execution_count": 78,
     "metadata": {},
     "output_type": "execute_result"
    }
   ],
   "source": [
    "# info before standardization with MinMaxScaler()\n",
    "df2['start_scan_to_end_scan'].describe()"
   ]
  },
  {
   "cell_type": "code",
   "execution_count": 79,
   "id": "4399499c",
   "metadata": {},
   "outputs": [
    {
     "data": {
      "text/plain": [
       "count    7626.000000\n",
       "mean        0.355619\n",
       "std         0.209927\n",
       "min         0.000000\n",
       "25%         0.192560\n",
       "50%         0.318381\n",
       "75%         0.485777\n",
       "max         1.000000\n",
       "Name: start_scan_to_end_scan, dtype: float64"
      ]
     },
     "execution_count": 79,
     "metadata": {},
     "output_type": "execute_result"
    }
   ],
   "source": [
    "df2['start_scan_to_end_scan']=MinMaxScaler().fit_transform(df2['start_scan_to_end_scan'].to_numpy().reshape(-1, 1))\n",
    "\n",
    "# info after standardization with MinMaxScaler()\n",
    "df2['start_scan_to_end_scan'].describe()"
   ]
  },
  {
   "cell_type": "markdown",
   "id": "2214472e",
   "metadata": {},
   "source": [
    "### 2. standardization of actual_distance_to_destination with MinMaxScaler()"
   ]
  },
  {
   "cell_type": "code",
   "execution_count": 80,
   "id": "2ed41a49",
   "metadata": {},
   "outputs": [
    {
     "data": {
      "text/plain": [
       "count    7626.000000\n",
       "mean       34.348979\n",
       "std        23.652170\n",
       "min         9.002461\n",
       "25%        17.582339\n",
       "50%        27.607405\n",
       "75%        41.675118\n",
       "max       125.988118\n",
       "Name: actual_distance_to_destination, dtype: float64"
      ]
     },
     "execution_count": 80,
     "metadata": {},
     "output_type": "execute_result"
    }
   ],
   "source": [
    "# info before standardization\n",
    "df2['actual_distance_to_destination'].describe()"
   ]
  },
  {
   "cell_type": "code",
   "execution_count": 81,
   "id": "5a8c3a15",
   "metadata": {},
   "outputs": [
    {
     "data": {
      "text/plain": [
       "count    7626.000000\n",
       "mean        0.216663\n",
       "std         0.202180\n",
       "min         0.000000\n",
       "25%         0.073341\n",
       "50%         0.159036\n",
       "75%         0.279288\n",
       "max         1.000000\n",
       "Name: actual_distance_to_destination, dtype: float64"
      ]
     },
     "execution_count": 81,
     "metadata": {},
     "output_type": "execute_result"
    }
   ],
   "source": [
    "df2['actual_distance_to_destination']=MinMaxScaler().fit_transform(df2['actual_distance_to_destination'].to_numpy().reshape(-1, 1))\n",
    "\n",
    "# info after standardization with MinMaxScaler()\n",
    "df2['actual_distance_to_destination'].describe()"
   ]
  },
  {
   "cell_type": "markdown",
   "id": "082797f5",
   "metadata": {},
   "source": [
    "### 3. standardization of actual_time with MinMaxScaler()"
   ]
  },
  {
   "cell_type": "code",
   "execution_count": 82,
   "id": "c4d8a2b7",
   "metadata": {},
   "outputs": [
    {
     "data": {
      "text/plain": [
       "count    7626.000000\n",
       "mean       95.646735\n",
       "std        61.482178\n",
       "min         9.000000\n",
       "25%        50.000000\n",
       "50%        78.000000\n",
       "75%       126.000000\n",
       "max       356.000000\n",
       "Name: actual_time, dtype: float64"
      ]
     },
     "execution_count": 82,
     "metadata": {},
     "output_type": "execute_result"
    }
   ],
   "source": [
    "# info before standardization\n",
    "df2['actual_time'].describe()"
   ]
  },
  {
   "cell_type": "code",
   "execution_count": 83,
   "id": "0917f567",
   "metadata": {},
   "outputs": [
    {
     "data": {
      "text/plain": [
       "count    7626.000000\n",
       "mean        0.249702\n",
       "std         0.177182\n",
       "min         0.000000\n",
       "25%         0.118156\n",
       "50%         0.198847\n",
       "75%         0.337176\n",
       "max         1.000000\n",
       "Name: actual_time, dtype: float64"
      ]
     },
     "execution_count": 83,
     "metadata": {},
     "output_type": "execute_result"
    }
   ],
   "source": [
    "df2['actual_time']=MinMaxScaler().fit_transform(df2['actual_time'].to_numpy().reshape(-1, 1))\n",
    "\n",
    "# info after standardization with MinMaxScaler()\n",
    "df2['actual_time'].describe()"
   ]
  },
  {
   "cell_type": "markdown",
   "id": "50451aef",
   "metadata": {},
   "source": [
    "### 4. standardization of osrm_time with MinMaxScaler()"
   ]
  },
  {
   "cell_type": "code",
   "execution_count": 84,
   "id": "28381599",
   "metadata": {},
   "outputs": [
    {
     "data": {
      "text/plain": [
       "count    7626.000000\n",
       "mean       40.241280\n",
       "std        24.745185\n",
       "min         7.000000\n",
       "25%        22.000000\n",
       "50%        33.000000\n",
       "75%        54.000000\n",
       "max       147.000000\n",
       "Name: osrm_time, dtype: float64"
      ]
     },
     "execution_count": 84,
     "metadata": {},
     "output_type": "execute_result"
    }
   ],
   "source": [
    "# info before standardization\n",
    "df2['osrm_time'].describe()"
   ]
  },
  {
   "cell_type": "code",
   "execution_count": 85,
   "id": "f17d7897",
   "metadata": {},
   "outputs": [
    {
     "data": {
      "text/plain": [
       "count    7626.000000\n",
       "mean        0.237438\n",
       "std         0.176751\n",
       "min         0.000000\n",
       "25%         0.107143\n",
       "50%         0.185714\n",
       "75%         0.335714\n",
       "max         1.000000\n",
       "Name: osrm_time, dtype: float64"
      ]
     },
     "execution_count": 85,
     "metadata": {},
     "output_type": "execute_result"
    }
   ],
   "source": [
    "df2['osrm_time']=MinMaxScaler().fit_transform(df2['osrm_time'].to_numpy().reshape(-1, 1))\n",
    "\n",
    "# info after standardization with MinMaxScaler()\n",
    "df2['osrm_time'].describe()"
   ]
  },
  {
   "cell_type": "markdown",
   "id": "4b3108e4",
   "metadata": {},
   "source": [
    "### 5. standardization of osrm_distance with MinMaxScaler()"
   ]
  },
  {
   "cell_type": "code",
   "execution_count": 86,
   "id": "738ae66c",
   "metadata": {},
   "outputs": [
    {
     "data": {
      "text/plain": [
       "count    7626.000000\n",
       "mean       44.048129\n",
       "std        29.338824\n",
       "min         9.072900\n",
       "25%        23.993225\n",
       "50%        35.700000\n",
       "75%        53.280325\n",
       "max       152.418500\n",
       "Name: osrm_distance, dtype: float64"
      ]
     },
     "execution_count": 86,
     "metadata": {},
     "output_type": "execute_result"
    }
   ],
   "source": [
    "# info before standardization\n",
    "df2['osrm_distance'].describe()"
   ]
  },
  {
   "cell_type": "code",
   "execution_count": 87,
   "id": "1cb103b8",
   "metadata": {},
   "outputs": [
    {
     "data": {
      "text/plain": [
       "count    7626.000000\n",
       "mean        0.243992\n",
       "std         0.204672\n",
       "min         0.000000\n",
       "25%         0.104086\n",
       "50%         0.185755\n",
       "75%         0.308398\n",
       "max         1.000000\n",
       "Name: osrm_distance, dtype: float64"
      ]
     },
     "execution_count": 87,
     "metadata": {},
     "output_type": "execute_result"
    }
   ],
   "source": [
    "df2['osrm_distance']=MinMaxScaler().fit_transform(df2['osrm_distance'].to_numpy().reshape(-1, 1))\n",
    "\n",
    "# info after standardization with MinMaxScaler()\n",
    "df2['osrm_distance'].describe()"
   ]
  },
  {
   "cell_type": "markdown",
   "id": "a92722ad",
   "metadata": {},
   "source": [
    "### 6. standardization of segment_actual_time with MinMaxScaler()"
   ]
  },
  {
   "cell_type": "code",
   "execution_count": 88,
   "id": "bbeffc6b",
   "metadata": {},
   "outputs": [
    {
     "data": {
      "text/plain": [
       "count    7626.000000\n",
       "mean       94.654472\n",
       "std        61.101421\n",
       "min         9.000000\n",
       "25%        50.000000\n",
       "50%        77.000000\n",
       "75%       125.000000\n",
       "max       352.000000\n",
       "Name: segment_actual_time, dtype: float64"
      ]
     },
     "execution_count": 88,
     "metadata": {},
     "output_type": "execute_result"
    }
   ],
   "source": [
    "# info before standardization\n",
    "df2['segment_actual_time'].describe()"
   ]
  },
  {
   "cell_type": "code",
   "execution_count": 89,
   "id": "02478009",
   "metadata": {},
   "outputs": [
    {
     "data": {
      "text/plain": [
       "count    7626.000000\n",
       "mean        0.249721\n",
       "std         0.178138\n",
       "min         0.000000\n",
       "25%         0.119534\n",
       "50%         0.198251\n",
       "75%         0.338192\n",
       "max         1.000000\n",
       "Name: segment_actual_time, dtype: float64"
      ]
     },
     "execution_count": 89,
     "metadata": {},
     "output_type": "execute_result"
    }
   ],
   "source": [
    "df2['segment_actual_time']=MinMaxScaler().fit_transform(df2['segment_actual_time'].to_numpy().reshape(-1, 1))\n",
    "\n",
    "# info after standardization with MinMaxScaler()\n",
    "df2['segment_actual_time'].describe()"
   ]
  },
  {
   "cell_type": "markdown",
   "id": "8929964b",
   "metadata": {},
   "source": [
    "### 7. standardization of segment_osrm_time with MinMaxScaler()"
   ]
  },
  {
   "cell_type": "code",
   "execution_count": 90,
   "id": "f9776c35",
   "metadata": {},
   "outputs": [
    {
     "data": {
      "text/plain": [
       "count    7626.000000\n",
       "mean       43.248623\n",
       "std        27.210949\n",
       "min         7.000000\n",
       "25%        22.000000\n",
       "50%        35.000000\n",
       "75%        58.000000\n",
       "max       148.000000\n",
       "Name: segment_osrm_time, dtype: float64"
      ]
     },
     "execution_count": 90,
     "metadata": {},
     "output_type": "execute_result"
    }
   ],
   "source": [
    "# info before standardization\n",
    "df2['segment_osrm_time'].describe()"
   ]
  },
  {
   "cell_type": "code",
   "execution_count": 91,
   "id": "5fd4d920",
   "metadata": {},
   "outputs": [
    {
     "data": {
      "text/plain": [
       "count    7626.000000\n",
       "mean        0.257082\n",
       "std         0.192985\n",
       "min         0.000000\n",
       "25%         0.106383\n",
       "50%         0.198582\n",
       "75%         0.361702\n",
       "max         1.000000\n",
       "Name: segment_osrm_time, dtype: float64"
      ]
     },
     "execution_count": 91,
     "metadata": {},
     "output_type": "execute_result"
    }
   ],
   "source": [
    "df2['segment_osrm_time']=MinMaxScaler().fit_transform(df2['segment_osrm_time'].to_numpy().reshape(-1, 1))\n",
    "\n",
    "# info after standardization with MinMaxScaler()\n",
    "df2['segment_osrm_time'].describe()"
   ]
  },
  {
   "cell_type": "markdown",
   "id": "82a46d5a",
   "metadata": {},
   "source": [
    "### 8. standardization of segment_osrm_distance with MinMaxScaler()"
   ]
  },
  {
   "cell_type": "code",
   "execution_count": 92,
   "id": "85155e78",
   "metadata": {},
   "outputs": [
    {
     "data": {
      "text/plain": [
       "count    7626.000000\n",
       "mean       46.854042\n",
       "std        30.423834\n",
       "min         9.072900\n",
       "25%        25.153600\n",
       "50%        37.910550\n",
       "75%        60.182400\n",
       "max       138.730300\n",
       "Name: segment_osrm_distance, dtype: float64"
      ]
     },
     "execution_count": 92,
     "metadata": {},
     "output_type": "execute_result"
    }
   ],
   "source": [
    "# info before standardization\n",
    "df2['segment_osrm_distance'].describe()"
   ]
  },
  {
   "cell_type": "code",
   "execution_count": 93,
   "id": "27ef82bb",
   "metadata": {},
   "outputs": [
    {
     "data": {
      "text/plain": [
       "count    7626.000000\n",
       "mean        0.291392\n",
       "std         0.234648\n",
       "min         0.000000\n",
       "25%         0.124025\n",
       "50%         0.222414\n",
       "75%         0.394189\n",
       "max         1.000000\n",
       "Name: segment_osrm_distance, dtype: float64"
      ]
     },
     "execution_count": 93,
     "metadata": {},
     "output_type": "execute_result"
    }
   ],
   "source": [
    "df2['segment_osrm_distance']=MinMaxScaler().fit_transform(df2['segment_osrm_distance'].to_numpy().reshape(-1, 1))\n",
    "\n",
    "# info after standardization with MinMaxScaler()\n",
    "df2['segment_osrm_distance'].describe()"
   ]
  },
  {
   "cell_type": "markdown",
   "id": "45b99788",
   "metadata": {},
   "source": [
    "### 9. standardization of od_total_time with MinMaxScaler()"
   ]
  },
  {
   "cell_type": "code",
   "execution_count": 94,
   "id": "124ba257",
   "metadata": {},
   "outputs": [
    {
     "data": {
      "text/plain": [
       "count    7626.000000\n",
       "mean      186.131917\n",
       "std        96.009991\n",
       "min        23.000000\n",
       "25%       112.000000\n",
       "50%       169.000000\n",
       "75%       246.000000\n",
       "max       481.000000\n",
       "Name: od_total_time, dtype: float64"
      ]
     },
     "execution_count": 94,
     "metadata": {},
     "output_type": "execute_result"
    }
   ],
   "source": [
    "# info before standardization\n",
    "df2['od_total_time'].describe()"
   ]
  },
  {
   "cell_type": "code",
   "execution_count": 95,
   "id": "dd0cdc61",
   "metadata": {},
   "outputs": [
    {
     "data": {
      "text/plain": [
       "count    7626.000000\n",
       "mean        0.356183\n",
       "std         0.209629\n",
       "min         0.000000\n",
       "25%         0.194323\n",
       "50%         0.318777\n",
       "75%         0.486900\n",
       "max         1.000000\n",
       "Name: od_total_time, dtype: float64"
      ]
     },
     "execution_count": 95,
     "metadata": {},
     "output_type": "execute_result"
    }
   ],
   "source": [
    "df2['od_total_time']=MinMaxScaler().fit_transform(df2['od_total_time'].to_numpy().reshape(-1, 1))\n",
    "\n",
    "# info after standardization with MinMaxScaler()\n",
    "df2['od_total_time'].describe()"
   ]
  },
  {
   "cell_type": "code",
   "execution_count": 96,
   "id": "d22e7f76",
   "metadata": {},
   "outputs": [
    {
     "name": "stdout",
     "output_type": "stream",
     "text": [
      "<class 'pandas.core.frame.DataFrame'>\n",
      "Int64Index: 7626 entries, 1 to 13027\n",
      "Data columns (total 31 columns):\n",
      " #   Column                          Non-Null Count  Dtype         \n",
      "---  ------                          --------------  -----         \n",
      " 0   trip_uuid                       7626 non-null   object        \n",
      " 1   data                            7626 non-null   int32         \n",
      " 2   trip_creation_time              7626 non-null   datetime64[ns]\n",
      " 3   route_schedule_uuid             7626 non-null   object        \n",
      " 4   route_type                      7626 non-null   int32         \n",
      " 5   source_name                     7626 non-null   object        \n",
      " 6   destination_name                7626 non-null   object        \n",
      " 7   start_scan_to_end_scan          7626 non-null   float64       \n",
      " 8   actual_distance_to_destination  7626 non-null   float64       \n",
      " 9   actual_time                     7626 non-null   float64       \n",
      " 10  osrm_time                       7626 non-null   float64       \n",
      " 11  osrm_distance                   7626 non-null   float64       \n",
      " 12  segment_actual_time             7626 non-null   float64       \n",
      " 13  segment_osrm_time               7626 non-null   float64       \n",
      " 14  segment_osrm_distance           7626 non-null   float64       \n",
      " 15  od_total_time                   7626 non-null   float64       \n",
      " 16  source_city                     7626 non-null   object        \n",
      " 17  source_place                    7128 non-null   object        \n",
      " 18  source_code                     6555 non-null   object        \n",
      " 19  source_state                    7622 non-null   object        \n",
      " 20  destination_city                7626 non-null   object        \n",
      " 21  destination_place               7024 non-null   object        \n",
      " 22  destination_code                6436 non-null   object        \n",
      " 23  destination_state               7619 non-null   object        \n",
      " 24  Year                            7626 non-null   int64         \n",
      " 25  Month                           7626 non-null   int64         \n",
      " 26  Day                             7626 non-null   int64         \n",
      " 27  week_day                        7626 non-null   int64         \n",
      " 28  time                            7626 non-null   object        \n",
      " 29  Hour                            7626 non-null   int64         \n",
      " 30  time_diff                       7626 non-null   float64       \n",
      "dtypes: datetime64[ns](1), float64(10), int32(2), int64(5), object(13)\n",
      "memory usage: 1.8+ MB\n"
     ]
    }
   ],
   "source": [
    "df2.info()"
   ]
  },
  {
   "cell_type": "code",
   "execution_count": 97,
   "id": "4badf876",
   "metadata": {},
   "outputs": [],
   "source": [
    "# Insights\n",
    "\n",
    "# -The data is given from the period '2018-09-12 00:00:16' to '2018-10-08 03:00:24'.\n",
    "# -Most common route type is Carting.\n",
    "# -Most of the data is for testing than for training\n",
    "# -The majority trips are initiated in early morning then reduce by noon and again increases by night.\n",
    "# -The source and destination for majority orders are Maharashtra, karnataka, Haryana and Tamil Nadu respectively\n",
    "# -Least orders are from pondicherry followed by Himachal Pradesh\n",
    "# -Majority order flow in from Bengaluru, Mumbai, Gurgaon respec and major deliveries are in Bengaluru, Mumbai and Delhi respec.\n",
    "# -There are huge amount of outliers laying on the upper side of the whiskers in numercial features\n",
    "# -There are orders taking unsually long time to get delivered, hence huge number of outliers\n",
    "# -The average minutes for order deliver is 530 minutes.\n",
    "# -The average difference of time between total order time and start-to-end-scan is 0.98 minutes\n",
    "# -At 5% significance- \n",
    "#    -There is no significant difference between the total order time and start to end scan time.\n",
    "#    -There is significant difference between the actual_time and osrm_time\n",
    "#    -There is no significant difference between the actual_time and segment_actual_time\n",
    "#    -There is significant difference between the osrm_distance and segment_osrm_distance\n",
    "#    -There is significant difference between the osrm_time and segment_osrm_time"
   ]
  },
  {
   "cell_type": "code",
   "execution_count": 98,
   "id": "eb0a54d4",
   "metadata": {},
   "outputs": [],
   "source": [
    "# Recommendations\n",
    "\n",
    "# -The overall time for delivery needs to be improved as there is a signicant difference with OSMR time. Root cause analysis to be done to identify where the actual time is exceeding the OSMR time.\n",
    "# -Since there is difference between OSRM distance/time and segment OSMR distance/time, the engine has to be checked for any discrepancies.\n",
    "# -Majority orders are following in and out of Maharastra, Karanataka etc..So more pan power and improved logitics can support for faster deliveries and better service.\n",
    "# -The no of orders reduce by afternoon- a Root cause analysis can be done to understand why this unsuall trend is happening.\n",
    "# -Categorizing the orders by type, size etc can be utilized fpr better carting since majority orders are carting. This will optimize space and help in reducing cost."
   ]
  }
 ],
 "metadata": {
  "kernelspec": {
   "display_name": "Python 3 (ipykernel)",
   "language": "python",
   "name": "python3"
  },
  "language_info": {
   "codemirror_mode": {
    "name": "ipython",
    "version": 3
   },
   "file_extension": ".py",
   "mimetype": "text/x-python",
   "name": "python",
   "nbconvert_exporter": "python",
   "pygments_lexer": "ipython3",
   "version": "3.9.13"
  }
 },
 "nbformat": 4,
 "nbformat_minor": 5
}
