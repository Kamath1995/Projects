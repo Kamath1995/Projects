{
 "cells": [
  {
   "cell_type": "markdown",
   "id": "4cae9660",
   "metadata": {},
   "source": [
    "#Netflix Case Study- Lakshmidas Kamath"
   ]
  },
  {
   "cell_type": "markdown",
   "id": "2296ae0a",
   "metadata": {},
   "source": [
    "# Problem Statement\n",
    "### Analyzing the given Netflix Dataset to understand and generate insights on the types of movies and TV Shows present in the database. Categorizing the  content based on Country, Actors, Directors etc.  Also understand how the movies and TV Shows have changed/progressed over the years."
   ]
  },
  {
   "cell_type": "markdown",
   "id": "22192125",
   "metadata": {},
   "source": [
    "#### 1. Basic Analysis and Information about the Dataset\n",
    "#### 2. Data cleaning- filling missing values, removing outliers, converting categorical to numerical data, creating bins"
   ]
  },
  {
   "cell_type": "code",
   "execution_count": 712,
   "id": "4be3a348",
   "metadata": {},
   "outputs": [],
   "source": [
    "import numpy as np\n",
    "import pandas as pd\n",
    "import seaborn as sns\n",
    "import matplotlib.pyplot as plt"
   ]
  },
  {
   "cell_type": "code",
   "execution_count": 713,
   "id": "e0f534ec",
   "metadata": {},
   "outputs": [
    {
     "data": {
      "text/html": [
       "<div>\n",
       "<style scoped>\n",
       "    .dataframe tbody tr th:only-of-type {\n",
       "        vertical-align: middle;\n",
       "    }\n",
       "\n",
       "    .dataframe tbody tr th {\n",
       "        vertical-align: top;\n",
       "    }\n",
       "\n",
       "    .dataframe thead th {\n",
       "        text-align: right;\n",
       "    }\n",
       "</style>\n",
       "<table border=\"1\" class=\"dataframe\">\n",
       "  <thead>\n",
       "    <tr style=\"text-align: right;\">\n",
       "      <th></th>\n",
       "      <th>show_id</th>\n",
       "      <th>type</th>\n",
       "      <th>title</th>\n",
       "      <th>director</th>\n",
       "      <th>cast</th>\n",
       "      <th>country</th>\n",
       "      <th>date_added</th>\n",
       "      <th>release_year</th>\n",
       "      <th>rating</th>\n",
       "      <th>duration</th>\n",
       "      <th>listed_in</th>\n",
       "      <th>description</th>\n",
       "    </tr>\n",
       "  </thead>\n",
       "  <tbody>\n",
       "    <tr>\n",
       "      <th>0</th>\n",
       "      <td>s1</td>\n",
       "      <td>Movie</td>\n",
       "      <td>Dick Johnson Is Dead</td>\n",
       "      <td>Kirsten Johnson</td>\n",
       "      <td>NaN</td>\n",
       "      <td>United States</td>\n",
       "      <td>September 25, 2021</td>\n",
       "      <td>2020</td>\n",
       "      <td>PG-13</td>\n",
       "      <td>90 min</td>\n",
       "      <td>Documentaries</td>\n",
       "      <td>As her father nears the end of his life, filmmaker Kirsten Johnson stages his death in inventive...</td>\n",
       "    </tr>\n",
       "    <tr>\n",
       "      <th>1</th>\n",
       "      <td>s2</td>\n",
       "      <td>TV Show</td>\n",
       "      <td>Blood &amp; Water</td>\n",
       "      <td>NaN</td>\n",
       "      <td>Ama Qamata, Khosi Ngema, Gail Mabalane, Thabang Molaba, Dillon Windvogel, Natasha Thahane, Arno ...</td>\n",
       "      <td>South Africa</td>\n",
       "      <td>September 24, 2021</td>\n",
       "      <td>2021</td>\n",
       "      <td>TV-MA</td>\n",
       "      <td>2 Seasons</td>\n",
       "      <td>International TV Shows, TV Dramas, TV Mysteries</td>\n",
       "      <td>After crossing paths at a party, a Cape Town teen sets out to prove whether a private-school swi...</td>\n",
       "    </tr>\n",
       "    <tr>\n",
       "      <th>2</th>\n",
       "      <td>s3</td>\n",
       "      <td>TV Show</td>\n",
       "      <td>Ganglands</td>\n",
       "      <td>Julien Leclercq</td>\n",
       "      <td>Sami Bouajila, Tracy Gotoas, Samuel Jouy, Nabiha Akkari, Sofia Lesaffre, Salim Kechiouche, Noure...</td>\n",
       "      <td>NaN</td>\n",
       "      <td>September 24, 2021</td>\n",
       "      <td>2021</td>\n",
       "      <td>TV-MA</td>\n",
       "      <td>1 Season</td>\n",
       "      <td>Crime TV Shows, International TV Shows, TV Action &amp; Adventure</td>\n",
       "      <td>To protect his family from a powerful drug lord, skilled thief Mehdi and his expert team of robb...</td>\n",
       "    </tr>\n",
       "    <tr>\n",
       "      <th>3</th>\n",
       "      <td>s4</td>\n",
       "      <td>TV Show</td>\n",
       "      <td>Jailbirds New Orleans</td>\n",
       "      <td>NaN</td>\n",
       "      <td>NaN</td>\n",
       "      <td>NaN</td>\n",
       "      <td>September 24, 2021</td>\n",
       "      <td>2021</td>\n",
       "      <td>TV-MA</td>\n",
       "      <td>1 Season</td>\n",
       "      <td>Docuseries, Reality TV</td>\n",
       "      <td>Feuds, flirtations and toilet talk go down among the incarcerated women at the Orleans Justice C...</td>\n",
       "    </tr>\n",
       "    <tr>\n",
       "      <th>4</th>\n",
       "      <td>s5</td>\n",
       "      <td>TV Show</td>\n",
       "      <td>Kota Factory</td>\n",
       "      <td>NaN</td>\n",
       "      <td>Mayur More, Jitendra Kumar, Ranjan Raj, Alam Khan, Ahsaas Channa, Revathi Pillai, Urvi Singh, Ar...</td>\n",
       "      <td>India</td>\n",
       "      <td>September 24, 2021</td>\n",
       "      <td>2021</td>\n",
       "      <td>TV-MA</td>\n",
       "      <td>2 Seasons</td>\n",
       "      <td>International TV Shows, Romantic TV Shows, TV Comedies</td>\n",
       "      <td>In a city of coaching centers known to train India’s finest collegiate minds, an earnest but une...</td>\n",
       "    </tr>\n",
       "  </tbody>\n",
       "</table>\n",
       "</div>"
      ],
      "text/plain": [
       "  show_id     type                  title         director  \\\n",
       "0      s1    Movie   Dick Johnson Is Dead  Kirsten Johnson   \n",
       "1      s2  TV Show          Blood & Water              NaN   \n",
       "2      s3  TV Show              Ganglands  Julien Leclercq   \n",
       "3      s4  TV Show  Jailbirds New Orleans              NaN   \n",
       "4      s5  TV Show           Kota Factory              NaN   \n",
       "\n",
       "                                                                                                  cast  \\\n",
       "0                                                                                                  NaN   \n",
       "1  Ama Qamata, Khosi Ngema, Gail Mabalane, Thabang Molaba, Dillon Windvogel, Natasha Thahane, Arno ...   \n",
       "2  Sami Bouajila, Tracy Gotoas, Samuel Jouy, Nabiha Akkari, Sofia Lesaffre, Salim Kechiouche, Noure...   \n",
       "3                                                                                                  NaN   \n",
       "4  Mayur More, Jitendra Kumar, Ranjan Raj, Alam Khan, Ahsaas Channa, Revathi Pillai, Urvi Singh, Ar...   \n",
       "\n",
       "         country          date_added  release_year rating   duration  \\\n",
       "0  United States  September 25, 2021          2020  PG-13     90 min   \n",
       "1   South Africa  September 24, 2021          2021  TV-MA  2 Seasons   \n",
       "2            NaN  September 24, 2021          2021  TV-MA   1 Season   \n",
       "3            NaN  September 24, 2021          2021  TV-MA   1 Season   \n",
       "4          India  September 24, 2021          2021  TV-MA  2 Seasons   \n",
       "\n",
       "                                                       listed_in  \\\n",
       "0                                                  Documentaries   \n",
       "1                International TV Shows, TV Dramas, TV Mysteries   \n",
       "2  Crime TV Shows, International TV Shows, TV Action & Adventure   \n",
       "3                                         Docuseries, Reality TV   \n",
       "4         International TV Shows, Romantic TV Shows, TV Comedies   \n",
       "\n",
       "                                                                                           description  \n",
       "0  As her father nears the end of his life, filmmaker Kirsten Johnson stages his death in inventive...  \n",
       "1  After crossing paths at a party, a Cape Town teen sets out to prove whether a private-school swi...  \n",
       "2  To protect his family from a powerful drug lord, skilled thief Mehdi and his expert team of robb...  \n",
       "3  Feuds, flirtations and toilet talk go down among the incarcerated women at the Orleans Justice C...  \n",
       "4  In a city of coaching centers known to train India’s finest collegiate minds, an earnest but une...  "
      ]
     },
     "execution_count": 713,
     "metadata": {},
     "output_type": "execute_result"
    }
   ],
   "source": [
    "data=pd.read_csv('netflix.csv')\n",
    "data.head()"
   ]
  },
  {
   "cell_type": "markdown",
   "id": "9a88ab22",
   "metadata": {},
   "source": [
    "# Basic Analysis"
   ]
  },
  {
   "cell_type": "code",
   "execution_count": 714,
   "id": "40a2ebe6",
   "metadata": {},
   "outputs": [
    {
     "data": {
      "text/plain": [
       "(8807, 12)"
      ]
     },
     "execution_count": 714,
     "metadata": {},
     "output_type": "execute_result"
    }
   ],
   "source": [
    "data.shape  # total 8808 rows and 12 columns"
   ]
  },
  {
   "cell_type": "code",
   "execution_count": 715,
   "id": "7dc1877c",
   "metadata": {},
   "outputs": [
    {
     "name": "stdout",
     "output_type": "stream",
     "text": [
      "<class 'pandas.core.frame.DataFrame'>\n",
      "RangeIndex: 8807 entries, 0 to 8806\n",
      "Data columns (total 12 columns):\n",
      " #   Column        Non-Null Count  Dtype \n",
      "---  ------        --------------  ----- \n",
      " 0   show_id       8807 non-null   object\n",
      " 1   type          8807 non-null   object\n",
      " 2   title         8807 non-null   object\n",
      " 3   director      6173 non-null   object\n",
      " 4   cast          7982 non-null   object\n",
      " 5   country       7976 non-null   object\n",
      " 6   date_added    8797 non-null   object\n",
      " 7   release_year  8807 non-null   int64 \n",
      " 8   rating        8803 non-null   object\n",
      " 9   duration      8804 non-null   object\n",
      " 10  listed_in     8807 non-null   object\n",
      " 11  description   8807 non-null   object\n",
      "dtypes: int64(1), object(11)\n",
      "memory usage: 825.8+ KB\n"
     ]
    }
   ],
   "source": [
    "data.info()"
   ]
  },
  {
   "cell_type": "code",
   "execution_count": 716,
   "id": "2c7be6f9",
   "metadata": {},
   "outputs": [
    {
     "data": {
      "text/plain": [
       "show_id            0\n",
       "type               0\n",
       "title              0\n",
       "director        2634\n",
       "cast             825\n",
       "country          831\n",
       "date_added        10\n",
       "release_year       0\n",
       "rating             4\n",
       "duration           3\n",
       "listed_in          0\n",
       "description        0\n",
       "dtype: int64"
      ]
     },
     "execution_count": 716,
     "metadata": {},
     "output_type": "execute_result"
    }
   ],
   "source": [
    "data.isna().sum()"
   ]
  },
  {
   "cell_type": "code",
   "execution_count": 717,
   "id": "1401bc83",
   "metadata": {},
   "outputs": [
    {
     "data": {
      "text/plain": [
       "show_id         8807\n",
       "type               2\n",
       "title           8807\n",
       "director        4528\n",
       "cast            7692\n",
       "country          748\n",
       "date_added      1767\n",
       "release_year      74\n",
       "rating            17\n",
       "duration         220\n",
       "listed_in        514\n",
       "description     8775\n",
       "dtype: int64"
      ]
     },
     "execution_count": 717,
     "metadata": {},
     "output_type": "execute_result"
    }
   ],
   "source": [
    "data.nunique()"
   ]
  },
  {
   "cell_type": "code",
   "execution_count": 718,
   "id": "459e30ae",
   "metadata": {},
   "outputs": [
    {
     "data": {
      "text/plain": [
       "Index(['show_id', 'type', 'title', 'director', 'cast', 'country', 'date_added',\n",
       "       'release_year', 'rating', 'duration', 'listed_in', 'description'],\n",
       "      dtype='object')"
      ]
     },
     "execution_count": 718,
     "metadata": {},
     "output_type": "execute_result"
    }
   ],
   "source": [
    "data.keys()"
   ]
  },
  {
   "cell_type": "code",
   "execution_count": 719,
   "id": "de171794",
   "metadata": {},
   "outputs": [
    {
     "data": {
      "text/html": [
       "<div>\n",
       "<style scoped>\n",
       "    .dataframe tbody tr th:only-of-type {\n",
       "        vertical-align: middle;\n",
       "    }\n",
       "\n",
       "    .dataframe tbody tr th {\n",
       "        vertical-align: top;\n",
       "    }\n",
       "\n",
       "    .dataframe thead th {\n",
       "        text-align: right;\n",
       "    }\n",
       "</style>\n",
       "<table border=\"1\" class=\"dataframe\">\n",
       "  <thead>\n",
       "    <tr style=\"text-align: right;\">\n",
       "      <th></th>\n",
       "      <th>release_year</th>\n",
       "    </tr>\n",
       "  </thead>\n",
       "  <tbody>\n",
       "    <tr>\n",
       "      <th>count</th>\n",
       "      <td>8807.000000</td>\n",
       "    </tr>\n",
       "    <tr>\n",
       "      <th>mean</th>\n",
       "      <td>2014.180198</td>\n",
       "    </tr>\n",
       "    <tr>\n",
       "      <th>std</th>\n",
       "      <td>8.819312</td>\n",
       "    </tr>\n",
       "    <tr>\n",
       "      <th>min</th>\n",
       "      <td>1925.000000</td>\n",
       "    </tr>\n",
       "    <tr>\n",
       "      <th>25%</th>\n",
       "      <td>2013.000000</td>\n",
       "    </tr>\n",
       "    <tr>\n",
       "      <th>50%</th>\n",
       "      <td>2017.000000</td>\n",
       "    </tr>\n",
       "    <tr>\n",
       "      <th>75%</th>\n",
       "      <td>2019.000000</td>\n",
       "    </tr>\n",
       "    <tr>\n",
       "      <th>max</th>\n",
       "      <td>2021.000000</td>\n",
       "    </tr>\n",
       "  </tbody>\n",
       "</table>\n",
       "</div>"
      ],
      "text/plain": [
       "       release_year\n",
       "count   8807.000000\n",
       "mean    2014.180198\n",
       "std        8.819312\n",
       "min     1925.000000\n",
       "25%     2013.000000\n",
       "50%     2017.000000\n",
       "75%     2019.000000\n",
       "max     2021.000000"
      ]
     },
     "execution_count": 719,
     "metadata": {},
     "output_type": "execute_result"
    }
   ],
   "source": [
    "data.describe()"
   ]
  },
  {
   "cell_type": "code",
   "execution_count": 720,
   "id": "4e0983ee",
   "metadata": {},
   "outputs": [
    {
     "data": {
      "text/plain": [
       "Movie      6131\n",
       "TV Show    2676\n",
       "Name: type, dtype: int64"
      ]
     },
     "execution_count": 720,
     "metadata": {},
     "output_type": "execute_result"
    }
   ],
   "source": [
    "data['type'].value_counts()"
   ]
  },
  {
   "cell_type": "code",
   "execution_count": 721,
   "id": "0d0df4dd",
   "metadata": {},
   "outputs": [
    {
     "data": {
      "text/plain": [
       "Rajiv Chilaka                     19\n",
       "Raúl Campos, Jan Suter            18\n",
       "Marcus Raboy                      16\n",
       "Suhas Kadav                       16\n",
       "Jay Karas                         14\n",
       "                                  ..\n",
       "Raymie Muzquiz, Stu Livingston     1\n",
       "Joe Menendez                       1\n",
       "Eric Bross                         1\n",
       "Will Eisenberg                     1\n",
       "Mozez Singh                        1\n",
       "Name: director, Length: 4528, dtype: int64"
      ]
     },
     "execution_count": 721,
     "metadata": {},
     "output_type": "execute_result"
    }
   ],
   "source": [
    "data['director'].value_counts()"
   ]
  },
  {
   "cell_type": "code",
   "execution_count": 722,
   "id": "19f9e6a9",
   "metadata": {},
   "outputs": [
    {
     "data": {
      "text/plain": [
       "January 1, 2020      109\n",
       "November 1, 2019      89\n",
       "March 1, 2018         75\n",
       "December 31, 2019     74\n",
       "October 1, 2018       71\n",
       "                    ... \n",
       "December 4, 2016       1\n",
       "November 21, 2016      1\n",
       "November 19, 2016      1\n",
       "November 17, 2016      1\n",
       "January 11, 2020       1\n",
       "Name: date_added, Length: 1767, dtype: int64"
      ]
     },
     "execution_count": 722,
     "metadata": {},
     "output_type": "execute_result"
    }
   ],
   "source": [
    "data['date_added'].value_counts()  # most programs were added on Jan 1st 2020"
   ]
  },
  {
   "cell_type": "code",
   "execution_count": 723,
   "id": "6a46ddc1",
   "metadata": {},
   "outputs": [
    {
     "data": {
      "text/plain": [
       "2018    1147\n",
       "2017    1032\n",
       "2019    1030\n",
       "2020     953\n",
       "2016     902\n",
       "        ... \n",
       "1959       1\n",
       "1925       1\n",
       "1961       1\n",
       "1947       1\n",
       "1966       1\n",
       "Name: release_year, Length: 74, dtype: int64"
      ]
     },
     "execution_count": 723,
     "metadata": {},
     "output_type": "execute_result"
    }
   ],
   "source": [
    "data['release_year'].value_counts()"
   ]
  },
  {
   "cell_type": "code",
   "execution_count": 724,
   "id": "9105bd14",
   "metadata": {},
   "outputs": [
    {
     "data": {
      "text/plain": [
       "TV-MA       3207\n",
       "TV-14       2160\n",
       "TV-PG        863\n",
       "R            799\n",
       "PG-13        490\n",
       "TV-Y7        334\n",
       "TV-Y         307\n",
       "PG           287\n",
       "TV-G         220\n",
       "NR            80\n",
       "G             41\n",
       "TV-Y7-FV       6\n",
       "NC-17          3\n",
       "UR             3\n",
       "74 min         1\n",
       "84 min         1\n",
       "66 min         1\n",
       "Name: rating, dtype: int64"
      ]
     },
     "execution_count": 724,
     "metadata": {},
     "output_type": "execute_result"
    }
   ],
   "source": [
    "data['rating'].value_counts()"
   ]
  },
  {
   "cell_type": "code",
   "execution_count": 725,
   "id": "18c7df99",
   "metadata": {},
   "outputs": [
    {
     "data": {
      "text/plain": [
       "1 Season     1793\n",
       "2 Seasons     425\n",
       "3 Seasons     199\n",
       "90 min        152\n",
       "94 min        146\n",
       "             ... \n",
       "16 min          1\n",
       "186 min         1\n",
       "193 min         1\n",
       "189 min         1\n",
       "191 min         1\n",
       "Name: duration, Length: 220, dtype: int64"
      ]
     },
     "execution_count": 725,
     "metadata": {},
     "output_type": "execute_result"
    }
   ],
   "source": [
    "data['duration'].value_counts()"
   ]
  },
  {
   "cell_type": "code",
   "execution_count": 726,
   "id": "b46c7a3a",
   "metadata": {},
   "outputs": [],
   "source": [
    "### Observations\n",
    "\n",
    "# They are a total of 8808 rows and 12 columns before cleaning the data. \n",
    "# Out of 12 columns only one columns contains integer and rest contains objects\n",
    "# Directors has the higest no of null values followed by Cast and country"
   ]
  },
  {
   "cell_type": "markdown",
   "id": "f305279a",
   "metadata": {},
   "source": [
    "### Filling missing Values"
   ]
  },
  {
   "cell_type": "code",
   "execution_count": 727,
   "id": "f5318934",
   "metadata": {},
   "outputs": [],
   "source": [
    "values={'director':'unknown', 'cast':'unknown','country':'unknown', 'rating':'unknow', 'duration':0}\n",
    "data.fillna(value=values, inplace=True)"
   ]
  },
  {
   "cell_type": "code",
   "execution_count": 728,
   "id": "9e3c77c8",
   "metadata": {},
   "outputs": [
    {
     "data": {
      "text/plain": [
       "show_id          0\n",
       "type             0\n",
       "title            0\n",
       "director         0\n",
       "cast             0\n",
       "country          0\n",
       "date_added      10\n",
       "release_year     0\n",
       "rating           0\n",
       "duration         0\n",
       "listed_in        0\n",
       "description      0\n",
       "dtype: int64"
      ]
     },
     "execution_count": 728,
     "metadata": {},
     "output_type": "execute_result"
    }
   ],
   "source": [
    "data.isna().sum()"
   ]
  },
  {
   "cell_type": "markdown",
   "id": "8bac9efe",
   "metadata": {},
   "source": [
    "### Converting Duration from object to float"
   ]
  },
  {
   "cell_type": "code",
   "execution_count": 729,
   "id": "75baeb80",
   "metadata": {},
   "outputs": [],
   "source": [
    "data['dur']=data['duration'].str.replace(r'[^0-9,\\s]+','', regex=True).astype(float)"
   ]
  },
  {
   "cell_type": "markdown",
   "id": "4517eafa",
   "metadata": {},
   "source": [
    "### Converting the date_added from object to timestamp"
   ]
  },
  {
   "cell_type": "code",
   "execution_count": 730,
   "id": "a4bac0a9",
   "metadata": {},
   "outputs": [],
   "source": [
    "data['date_added']=pd.to_datetime(data['date_added'])"
   ]
  },
  {
   "cell_type": "markdown",
   "id": "b41e3a0c",
   "metadata": {},
   "source": [
    "### Removing Outliers"
   ]
  },
  {
   "cell_type": "code",
   "execution_count": 731,
   "id": "7af7cbe2",
   "metadata": {},
   "outputs": [],
   "source": [
    "### Removing only higher duration time-- 0.99 quantile\n",
    "### lower quartile includes the TV Show season- which majority is one."
   ]
  },
  {
   "cell_type": "code",
   "execution_count": 732,
   "id": "04850fea",
   "metadata": {},
   "outputs": [
    {
     "data": {
      "text/plain": [
       "(8795, 13)"
      ]
     },
     "execution_count": 732,
     "metadata": {},
     "output_type": "execute_result"
    }
   ],
   "source": [
    "q_high=data['dur'].quantile(0.999)\n",
    "data=data[(data['dur']<q_high)]\n",
    "data.shape"
   ]
  },
  {
   "cell_type": "code",
   "execution_count": 733,
   "id": "60b105a9",
   "metadata": {
    "scrolled": true
   },
   "outputs": [
    {
     "data": {
      "text/plain": [
       "4573    214.0\n",
       "807     212.0\n",
       "2731    209.0\n",
       "3227    209.0\n",
       "2632    208.0\n",
       "Name: dur, dtype: float64"
      ]
     },
     "execution_count": 733,
     "metadata": {},
     "output_type": "execute_result"
    }
   ],
   "source": [
    "data['dur'].sort_values(ascending=False).head()"
   ]
  },
  {
   "cell_type": "markdown",
   "id": "90de023a",
   "metadata": {},
   "source": [
    "### Creating Category/Bins"
   ]
  },
  {
   "cell_type": "code",
   "execution_count": 734,
   "id": "5c41b8b3",
   "metadata": {},
   "outputs": [
    {
     "data": {
      "text/html": [
       "<div>\n",
       "<style scoped>\n",
       "    .dataframe tbody tr th:only-of-type {\n",
       "        vertical-align: middle;\n",
       "    }\n",
       "\n",
       "    .dataframe tbody tr th {\n",
       "        vertical-align: top;\n",
       "    }\n",
       "\n",
       "    .dataframe thead th {\n",
       "        text-align: right;\n",
       "    }\n",
       "</style>\n",
       "<table border=\"1\" class=\"dataframe\">\n",
       "  <thead>\n",
       "    <tr style=\"text-align: right;\">\n",
       "      <th></th>\n",
       "      <th>show_id</th>\n",
       "      <th>type</th>\n",
       "      <th>title</th>\n",
       "      <th>director</th>\n",
       "      <th>cast</th>\n",
       "      <th>country</th>\n",
       "      <th>date_added</th>\n",
       "      <th>release_year</th>\n",
       "      <th>rating</th>\n",
       "      <th>duration</th>\n",
       "      <th>listed_in</th>\n",
       "      <th>description</th>\n",
       "      <th>dur</th>\n",
       "      <th>decade</th>\n",
       "    </tr>\n",
       "  </thead>\n",
       "  <tbody>\n",
       "    <tr>\n",
       "      <th>0</th>\n",
       "      <td>s1</td>\n",
       "      <td>Movie</td>\n",
       "      <td>Dick J...</td>\n",
       "      <td>Kirste...</td>\n",
       "      <td>unknown</td>\n",
       "      <td>United...</td>\n",
       "      <td>2021-09-25</td>\n",
       "      <td>2020</td>\n",
       "      <td>PG-13</td>\n",
       "      <td>90 min</td>\n",
       "      <td>Docume...</td>\n",
       "      <td>As her...</td>\n",
       "      <td>90.0</td>\n",
       "      <td>2010s</td>\n",
       "    </tr>\n",
       "    <tr>\n",
       "      <th>1</th>\n",
       "      <td>s2</td>\n",
       "      <td>TV Show</td>\n",
       "      <td>Blood ...</td>\n",
       "      <td>unknown</td>\n",
       "      <td>Ama Qa...</td>\n",
       "      <td>South ...</td>\n",
       "      <td>2021-09-24</td>\n",
       "      <td>2021</td>\n",
       "      <td>TV-MA</td>\n",
       "      <td>2 Seasons</td>\n",
       "      <td>Intern...</td>\n",
       "      <td>After ...</td>\n",
       "      <td>2.0</td>\n",
       "      <td>2020s</td>\n",
       "    </tr>\n",
       "    <tr>\n",
       "      <th>2</th>\n",
       "      <td>s3</td>\n",
       "      <td>TV Show</td>\n",
       "      <td>Ganglands</td>\n",
       "      <td>Julien...</td>\n",
       "      <td>Sami B...</td>\n",
       "      <td>unknown</td>\n",
       "      <td>2021-09-24</td>\n",
       "      <td>2021</td>\n",
       "      <td>TV-MA</td>\n",
       "      <td>1 Season</td>\n",
       "      <td>Crime ...</td>\n",
       "      <td>To pro...</td>\n",
       "      <td>1.0</td>\n",
       "      <td>2020s</td>\n",
       "    </tr>\n",
       "    <tr>\n",
       "      <th>3</th>\n",
       "      <td>s4</td>\n",
       "      <td>TV Show</td>\n",
       "      <td>Jailbi...</td>\n",
       "      <td>unknown</td>\n",
       "      <td>unknown</td>\n",
       "      <td>unknown</td>\n",
       "      <td>2021-09-24</td>\n",
       "      <td>2021</td>\n",
       "      <td>TV-MA</td>\n",
       "      <td>1 Season</td>\n",
       "      <td>Docuse...</td>\n",
       "      <td>Feuds,...</td>\n",
       "      <td>1.0</td>\n",
       "      <td>2020s</td>\n",
       "    </tr>\n",
       "    <tr>\n",
       "      <th>4</th>\n",
       "      <td>s5</td>\n",
       "      <td>TV Show</td>\n",
       "      <td>Kota F...</td>\n",
       "      <td>unknown</td>\n",
       "      <td>Mayur ...</td>\n",
       "      <td>India</td>\n",
       "      <td>2021-09-24</td>\n",
       "      <td>2021</td>\n",
       "      <td>TV-MA</td>\n",
       "      <td>2 Seasons</td>\n",
       "      <td>Intern...</td>\n",
       "      <td>In a c...</td>\n",
       "      <td>2.0</td>\n",
       "      <td>2020s</td>\n",
       "    </tr>\n",
       "  </tbody>\n",
       "</table>\n",
       "</div>"
      ],
      "text/plain": [
       "  show_id     type      title   director       cast    country date_added  \\\n",
       "0      s1    Movie  Dick J...  Kirste...    unknown  United... 2021-09-25   \n",
       "1      s2  TV Show  Blood ...    unknown  Ama Qa...  South ... 2021-09-24   \n",
       "2      s3  TV Show  Ganglands  Julien...  Sami B...    unknown 2021-09-24   \n",
       "3      s4  TV Show  Jailbi...    unknown    unknown    unknown 2021-09-24   \n",
       "4      s5  TV Show  Kota F...    unknown  Mayur ...      India 2021-09-24   \n",
       "\n",
       "   release_year rating   duration  listed_in description   dur decade  \n",
       "0       2020     PG-13     90 min  Docume...  As her...   90.0  2010s  \n",
       "1       2021     TV-MA  2 Seasons  Intern...  After ...    2.0  2020s  \n",
       "2       2021     TV-MA   1 Season  Crime ...  To pro...    1.0  2020s  \n",
       "3       2021     TV-MA   1 Season  Docuse...  Feuds,...    1.0  2020s  \n",
       "4       2021     TV-MA  2 Seasons  Intern...  In a c...    2.0  2020s  "
      ]
     },
     "execution_count": 734,
     "metadata": {},
     "output_type": "execute_result"
    }
   ],
   "source": [
    "# Creating Category/Bins--- DECADE from release year\n",
    "\n",
    "start_range=[1920,1930,1940,1950,1960,1970,1980,1990,2000,2010,2020,2030]\n",
    "cat_name=['20s','30s','40s','50s','60s','70s','80s','90s','2000s','2010s','2020s']\n",
    "data['decade']=pd.cut(data['release_year'], bins=start_range, labels=cat_name)\n",
    "pd.set_option('max_colwidth',10)\n",
    "data.head()"
   ]
  },
  {
   "cell_type": "markdown",
   "id": "f30fdc6c",
   "metadata": {},
   "source": [
    "### Seperating Movie and TV Show Data"
   ]
  },
  {
   "cell_type": "code",
   "execution_count": 735,
   "id": "01d43342",
   "metadata": {},
   "outputs": [],
   "source": [
    "movie_data=data.loc[(data['type']=='Movie')]\n",
    "tvshow_data=data.loc[(data['type']=='TV Show')]"
   ]
  },
  {
   "cell_type": "code",
   "execution_count": 736,
   "id": "c4ed207a",
   "metadata": {},
   "outputs": [
    {
     "data": {
      "text/plain": [
       "min    1942\n",
       "max    2021\n",
       "Name: release_year, dtype: int64"
      ]
     },
     "execution_count": 736,
     "metadata": {},
     "output_type": "execute_result"
    }
   ],
   "source": [
    "# year the first and last movie released\n",
    "\n",
    "movie_data['release_year'].aggregate(['min','max'])"
   ]
  },
  {
   "cell_type": "code",
   "execution_count": 737,
   "id": "f5fae2c0",
   "metadata": {},
   "outputs": [
    {
     "data": {
      "text/html": [
       "<div>\n",
       "<style scoped>\n",
       "    .dataframe tbody tr th:only-of-type {\n",
       "        vertical-align: middle;\n",
       "    }\n",
       "\n",
       "    .dataframe tbody tr th {\n",
       "        vertical-align: top;\n",
       "    }\n",
       "\n",
       "    .dataframe thead th {\n",
       "        text-align: right;\n",
       "    }\n",
       "</style>\n",
       "<table border=\"1\" class=\"dataframe\">\n",
       "  <thead>\n",
       "    <tr style=\"text-align: right;\">\n",
       "      <th></th>\n",
       "      <th>show_id</th>\n",
       "      <th>type</th>\n",
       "      <th>title</th>\n",
       "      <th>director</th>\n",
       "      <th>cast</th>\n",
       "      <th>country</th>\n",
       "      <th>date_added</th>\n",
       "      <th>release_year</th>\n",
       "      <th>rating</th>\n",
       "      <th>duration</th>\n",
       "      <th>listed_in</th>\n",
       "      <th>description</th>\n",
       "      <th>dur</th>\n",
       "      <th>decade</th>\n",
       "    </tr>\n",
       "  </thead>\n",
       "  <tbody>\n",
       "    <tr>\n",
       "      <th>7790</th>\n",
       "      <td>s7791</td>\n",
       "      <td>Movie</td>\n",
       "      <td>Prelud...</td>\n",
       "      <td>Frank ...</td>\n",
       "      <td>unknown</td>\n",
       "      <td>United...</td>\n",
       "      <td>2017-03-31</td>\n",
       "      <td>1942</td>\n",
       "      <td>TV-14</td>\n",
       "      <td>52 min</td>\n",
       "      <td>Classi...</td>\n",
       "      <td>Frank ...</td>\n",
       "      <td>52.0</td>\n",
       "      <td>40s</td>\n",
       "    </tr>\n",
       "    <tr>\n",
       "      <th>8205</th>\n",
       "      <td>s8206</td>\n",
       "      <td>Movie</td>\n",
       "      <td>The Ba...</td>\n",
       "      <td>John Ford</td>\n",
       "      <td>Henry ...</td>\n",
       "      <td>United...</td>\n",
       "      <td>2017-03-31</td>\n",
       "      <td>1942</td>\n",
       "      <td>TV-14</td>\n",
       "      <td>18 min</td>\n",
       "      <td>Classi...</td>\n",
       "      <td>Direct...</td>\n",
       "      <td>18.0</td>\n",
       "      <td>40s</td>\n",
       "    </tr>\n",
       "  </tbody>\n",
       "</table>\n",
       "</div>"
      ],
      "text/plain": [
       "     show_id   type      title   director       cast    country date_added  \\\n",
       "7790   s7791  Movie  Prelud...  Frank ...    unknown  United... 2017-03-31   \n",
       "8205   s8206  Movie  The Ba...  John Ford  Henry ...  United... 2017-03-31   \n",
       "\n",
       "      release_year rating duration  listed_in description   dur decade  \n",
       "7790       1942     TV-14   52 min  Classi...  Frank ...   52.0    40s  \n",
       "8205       1942     TV-14   18 min  Classi...  Direct...   18.0    40s  "
      ]
     },
     "execution_count": 737,
     "metadata": {},
     "output_type": "execute_result"
    }
   ],
   "source": [
    "movie_data.loc[movie_data['release_year']==1942]  # oldest movie on Netfix"
   ]
  },
  {
   "cell_type": "code",
   "execution_count": 738,
   "id": "6c227307",
   "metadata": {},
   "outputs": [
    {
     "data": {
      "text/plain": [
       "min      3.0\n",
       "max    214.0\n",
       "Name: dur, dtype: float64"
      ]
     },
     "execution_count": 738,
     "metadata": {},
     "output_type": "execute_result"
    }
   ],
   "source": [
    "#length of smallest and biggest movie in minutes\n",
    "\n",
    "movie_data['dur'].aggregate(['min','max'])"
   ]
  },
  {
   "cell_type": "code",
   "execution_count": 739,
   "id": "31ef7aa4",
   "metadata": {},
   "outputs": [
    {
     "data": {
      "text/html": [
       "<div>\n",
       "<style scoped>\n",
       "    .dataframe tbody tr th:only-of-type {\n",
       "        vertical-align: middle;\n",
       "    }\n",
       "\n",
       "    .dataframe tbody tr th {\n",
       "        vertical-align: top;\n",
       "    }\n",
       "\n",
       "    .dataframe thead th {\n",
       "        text-align: right;\n",
       "    }\n",
       "</style>\n",
       "<table border=\"1\" class=\"dataframe\">\n",
       "  <thead>\n",
       "    <tr style=\"text-align: right;\">\n",
       "      <th></th>\n",
       "      <th>show_id</th>\n",
       "      <th>type</th>\n",
       "      <th>title</th>\n",
       "      <th>director</th>\n",
       "      <th>cast</th>\n",
       "      <th>country</th>\n",
       "      <th>date_added</th>\n",
       "      <th>release_year</th>\n",
       "      <th>rating</th>\n",
       "      <th>duration</th>\n",
       "      <th>listed_in</th>\n",
       "      <th>description</th>\n",
       "      <th>dur</th>\n",
       "      <th>decade</th>\n",
       "    </tr>\n",
       "  </thead>\n",
       "  <tbody>\n",
       "  </tbody>\n",
       "</table>\n",
       "</div>"
      ],
      "text/plain": [
       "Empty DataFrame\n",
       "Columns: [show_id, type, title, director, cast, country, date_added, release_year, rating, duration, listed_in, description, dur, decade]\n",
       "Index: []"
      ]
     },
     "execution_count": 739,
     "metadata": {},
     "output_type": "execute_result"
    }
   ],
   "source": [
    "data.loc[data['duration']=='312 min']   ## longest movie"
   ]
  },
  {
   "cell_type": "code",
   "execution_count": 740,
   "id": "1009728f",
   "metadata": {},
   "outputs": [
    {
     "data": {
      "text/html": [
       "<div>\n",
       "<style scoped>\n",
       "    .dataframe tbody tr th:only-of-type {\n",
       "        vertical-align: middle;\n",
       "    }\n",
       "\n",
       "    .dataframe tbody tr th {\n",
       "        vertical-align: top;\n",
       "    }\n",
       "\n",
       "    .dataframe thead th {\n",
       "        text-align: right;\n",
       "    }\n",
       "</style>\n",
       "<table border=\"1\" class=\"dataframe\">\n",
       "  <thead>\n",
       "    <tr style=\"text-align: right;\">\n",
       "      <th></th>\n",
       "      <th>show_id</th>\n",
       "      <th>type</th>\n",
       "      <th>title</th>\n",
       "      <th>director</th>\n",
       "      <th>cast</th>\n",
       "      <th>country</th>\n",
       "      <th>date_added</th>\n",
       "      <th>release_year</th>\n",
       "      <th>rating</th>\n",
       "      <th>duration</th>\n",
       "      <th>listed_in</th>\n",
       "      <th>description</th>\n",
       "      <th>dur</th>\n",
       "      <th>decade</th>\n",
       "    </tr>\n",
       "  </thead>\n",
       "  <tbody>\n",
       "    <tr>\n",
       "      <th>3777</th>\n",
       "      <td>s3778</td>\n",
       "      <td>Movie</td>\n",
       "      <td>Silent</td>\n",
       "      <td>Limber...</td>\n",
       "      <td>unknown</td>\n",
       "      <td>United...</td>\n",
       "      <td>2019-06-04</td>\n",
       "      <td>2014</td>\n",
       "      <td>TV-Y</td>\n",
       "      <td>3 min</td>\n",
       "      <td>Childr...</td>\n",
       "      <td>\"Silen...</td>\n",
       "      <td>3.0</td>\n",
       "      <td>2010s</td>\n",
       "    </tr>\n",
       "  </tbody>\n",
       "</table>\n",
       "</div>"
      ],
      "text/plain": [
       "     show_id   type   title   director     cast    country date_added  \\\n",
       "3777   s3778  Movie  Silent  Limber...  unknown  United... 2019-06-04   \n",
       "\n",
       "      release_year rating duration  listed_in description  dur decade  \n",
       "3777       2014      TV-Y    3 min  Childr...  \"Silen...   3.0  2010s  "
      ]
     },
     "execution_count": 740,
     "metadata": {},
     "output_type": "execute_result"
    }
   ],
   "source": [
    "movie_data.loc[movie_data['dur']==3]   ## shortest movie"
   ]
  },
  {
   "cell_type": "code",
   "execution_count": 741,
   "id": "5115ddca",
   "metadata": {},
   "outputs": [
    {
     "data": {
      "text/plain": [
       "min     1.0\n",
       "max    17.0\n",
       "Name: dur, dtype: float64"
      ]
     },
     "execution_count": 741,
     "metadata": {},
     "output_type": "execute_result"
    }
   ],
   "source": [
    "# #length of smallest and biggest TV Show in seasons\n",
    "\n",
    "tvshow_data['dur'].aggregate(['min','max'])"
   ]
  },
  {
   "cell_type": "code",
   "execution_count": 742,
   "id": "7ec049cd",
   "metadata": {},
   "outputs": [
    {
     "data": {
      "text/html": [
       "<div>\n",
       "<style scoped>\n",
       "    .dataframe tbody tr th:only-of-type {\n",
       "        vertical-align: middle;\n",
       "    }\n",
       "\n",
       "    .dataframe tbody tr th {\n",
       "        vertical-align: top;\n",
       "    }\n",
       "\n",
       "    .dataframe thead th {\n",
       "        text-align: right;\n",
       "    }\n",
       "</style>\n",
       "<table border=\"1\" class=\"dataframe\">\n",
       "  <thead>\n",
       "    <tr style=\"text-align: right;\">\n",
       "      <th></th>\n",
       "      <th>show_id</th>\n",
       "      <th>type</th>\n",
       "      <th>title</th>\n",
       "      <th>director</th>\n",
       "      <th>cast</th>\n",
       "      <th>country</th>\n",
       "      <th>date_added</th>\n",
       "      <th>release_year</th>\n",
       "      <th>rating</th>\n",
       "      <th>duration</th>\n",
       "      <th>listed_in</th>\n",
       "      <th>description</th>\n",
       "      <th>dur</th>\n",
       "      <th>decade</th>\n",
       "    </tr>\n",
       "  </thead>\n",
       "  <tbody>\n",
       "    <tr>\n",
       "      <th>548</th>\n",
       "      <td>s549</td>\n",
       "      <td>TV Show</td>\n",
       "      <td>Grey's...</td>\n",
       "      <td>unknown</td>\n",
       "      <td>Ellen ...</td>\n",
       "      <td>United...</td>\n",
       "      <td>2021-07-03</td>\n",
       "      <td>2020</td>\n",
       "      <td>TV-14</td>\n",
       "      <td>17 Sea...</td>\n",
       "      <td>Romant...</td>\n",
       "      <td>Intern...</td>\n",
       "      <td>17.0</td>\n",
       "      <td>2010s</td>\n",
       "    </tr>\n",
       "  </tbody>\n",
       "</table>\n",
       "</div>"
      ],
      "text/plain": [
       "    show_id     type      title director       cast    country date_added  \\\n",
       "548    s549  TV Show  Grey's...  unknown  Ellen ...  United... 2021-07-03   \n",
       "\n",
       "     release_year rating   duration  listed_in description   dur decade  \n",
       "548       2020     TV-14  17 Sea...  Romant...  Intern...   17.0  2010s  "
      ]
     },
     "execution_count": 742,
     "metadata": {},
     "output_type": "execute_result"
    }
   ],
   "source": [
    "tvshow_data.loc[tvshow_data['dur']==17]  ## Longest running TV Show"
   ]
  },
  {
   "cell_type": "code",
   "execution_count": 743,
   "id": "a4b49dcb",
   "metadata": {},
   "outputs": [
    {
     "data": {
      "text/plain": [
       "min    1925\n",
       "max    2021\n",
       "Name: release_year, dtype: int64"
      ]
     },
     "execution_count": 743,
     "metadata": {},
     "output_type": "execute_result"
    }
   ],
   "source": [
    "tvshow_data['release_year'].aggregate(['min','max'])"
   ]
  },
  {
   "cell_type": "code",
   "execution_count": 744,
   "id": "ca3f4a58",
   "metadata": {},
   "outputs": [
    {
     "data": {
      "text/html": [
       "<div>\n",
       "<style scoped>\n",
       "    .dataframe tbody tr th:only-of-type {\n",
       "        vertical-align: middle;\n",
       "    }\n",
       "\n",
       "    .dataframe tbody tr th {\n",
       "        vertical-align: top;\n",
       "    }\n",
       "\n",
       "    .dataframe thead th {\n",
       "        text-align: right;\n",
       "    }\n",
       "</style>\n",
       "<table border=\"1\" class=\"dataframe\">\n",
       "  <thead>\n",
       "    <tr style=\"text-align: right;\">\n",
       "      <th></th>\n",
       "      <th>show_id</th>\n",
       "      <th>type</th>\n",
       "      <th>title</th>\n",
       "      <th>director</th>\n",
       "      <th>cast</th>\n",
       "      <th>country</th>\n",
       "      <th>date_added</th>\n",
       "      <th>release_year</th>\n",
       "      <th>rating</th>\n",
       "      <th>duration</th>\n",
       "      <th>listed_in</th>\n",
       "      <th>description</th>\n",
       "      <th>dur</th>\n",
       "      <th>decade</th>\n",
       "    </tr>\n",
       "  </thead>\n",
       "  <tbody>\n",
       "    <tr>\n",
       "      <th>4250</th>\n",
       "      <td>s4251</td>\n",
       "      <td>TV Show</td>\n",
       "      <td>Pionee...</td>\n",
       "      <td>unknown</td>\n",
       "      <td>unknown</td>\n",
       "      <td>unknown</td>\n",
       "      <td>2018-12-30</td>\n",
       "      <td>1925</td>\n",
       "      <td>TV-14</td>\n",
       "      <td>1 Season</td>\n",
       "      <td>TV Shows</td>\n",
       "      <td>This c...</td>\n",
       "      <td>1.0</td>\n",
       "      <td>20s</td>\n",
       "    </tr>\n",
       "  </tbody>\n",
       "</table>\n",
       "</div>"
      ],
      "text/plain": [
       "     show_id     type      title director     cast  country date_added  \\\n",
       "4250   s4251  TV Show  Pionee...  unknown  unknown  unknown 2018-12-30   \n",
       "\n",
       "      release_year rating  duration listed_in description  dur decade  \n",
       "4250       1925     TV-14  1 Season  TV Shows  This c...   1.0    20s  "
      ]
     },
     "execution_count": 744,
     "metadata": {},
     "output_type": "execute_result"
    }
   ],
   "source": [
    "tvshow_data.loc[tvshow_data['release_year']==1925]  # oldest TV Show"
   ]
  },
  {
   "cell_type": "code",
   "execution_count": 745,
   "id": "70dfb3eb",
   "metadata": {},
   "outputs": [
    {
     "data": {
      "text/plain": [
       "99.36100670044125"
      ]
     },
     "execution_count": 745,
     "metadata": {},
     "output_type": "execute_result"
    }
   ],
   "source": [
    "movie_data['dur'].mean()  # avg duration of movies"
   ]
  },
  {
   "cell_type": "code",
   "execution_count": 746,
   "id": "54cc5483",
   "metadata": {},
   "outputs": [
    {
     "data": {
      "text/plain": [
       "1.764947683109118"
      ]
     },
     "execution_count": 746,
     "metadata": {},
     "output_type": "execute_result"
    }
   ],
   "source": [
    "tvshow_data['dur'].mean() # avg duration of TV Shows"
   ]
  },
  {
   "cell_type": "markdown",
   "id": "89430e99",
   "metadata": {},
   "source": [
    "### Analysis of movies"
   ]
  },
  {
   "cell_type": "code",
   "execution_count": 747,
   "id": "46456b66",
   "metadata": {},
   "outputs": [
    {
     "data": {
      "text/html": [
       "<div>\n",
       "<style scoped>\n",
       "    .dataframe tbody tr th:only-of-type {\n",
       "        vertical-align: middle;\n",
       "    }\n",
       "\n",
       "    .dataframe tbody tr th {\n",
       "        vertical-align: top;\n",
       "    }\n",
       "\n",
       "    .dataframe thead th {\n",
       "        text-align: right;\n",
       "    }\n",
       "</style>\n",
       "<table border=\"1\" class=\"dataframe\">\n",
       "  <thead>\n",
       "    <tr style=\"text-align: right;\">\n",
       "      <th></th>\n",
       "      <th>index</th>\n",
       "      <th>release_year</th>\n",
       "    </tr>\n",
       "  </thead>\n",
       "  <tbody>\n",
       "    <tr>\n",
       "      <th>6</th>\n",
       "      <td>2021</td>\n",
       "      <td>276</td>\n",
       "    </tr>\n",
       "    <tr>\n",
       "      <th>4</th>\n",
       "      <td>2020</td>\n",
       "      <td>517</td>\n",
       "    </tr>\n",
       "    <tr>\n",
       "      <th>3</th>\n",
       "      <td>2019</td>\n",
       "      <td>633</td>\n",
       "    </tr>\n",
       "    <tr>\n",
       "      <th>1</th>\n",
       "      <td>2018</td>\n",
       "      <td>766</td>\n",
       "    </tr>\n",
       "    <tr>\n",
       "      <th>0</th>\n",
       "      <td>2017</td>\n",
       "      <td>766</td>\n",
       "    </tr>\n",
       "    <tr>\n",
       "      <th>2</th>\n",
       "      <td>2016</td>\n",
       "      <td>658</td>\n",
       "    </tr>\n",
       "    <tr>\n",
       "      <th>5</th>\n",
       "      <td>2015</td>\n",
       "      <td>397</td>\n",
       "    </tr>\n",
       "    <tr>\n",
       "      <th>7</th>\n",
       "      <td>2014</td>\n",
       "      <td>264</td>\n",
       "    </tr>\n",
       "    <tr>\n",
       "      <th>8</th>\n",
       "      <td>2013</td>\n",
       "      <td>225</td>\n",
       "    </tr>\n",
       "    <tr>\n",
       "      <th>9</th>\n",
       "      <td>2012</td>\n",
       "      <td>173</td>\n",
       "    </tr>\n",
       "  </tbody>\n",
       "</table>\n",
       "</div>"
      ],
      "text/plain": [
       "   index  release_year\n",
       "6   2021        276   \n",
       "4   2020        517   \n",
       "3   2019        633   \n",
       "1   2018        766   \n",
       "0   2017        766   \n",
       "2   2016        658   \n",
       "5   2015        397   \n",
       "7   2014        264   \n",
       "8   2013        225   \n",
       "9   2012        173   "
      ]
     },
     "execution_count": 747,
     "metadata": {},
     "output_type": "execute_result"
    }
   ],
   "source": [
    "# movies released each year\n",
    "\n",
    "movie_data['release_year'].value_counts().reset_index().head(10).sort_values('index', ascending=False)"
   ]
  },
  {
   "cell_type": "code",
   "execution_count": 748,
   "id": "08ce94b2",
   "metadata": {},
   "outputs": [
    {
     "data": {
      "text/html": [
       "<div>\n",
       "<style scoped>\n",
       "    .dataframe tbody tr th:only-of-type {\n",
       "        vertical-align: middle;\n",
       "    }\n",
       "\n",
       "    .dataframe tbody tr th {\n",
       "        vertical-align: top;\n",
       "    }\n",
       "\n",
       "    .dataframe thead th {\n",
       "        text-align: right;\n",
       "    }\n",
       "</style>\n",
       "<table border=\"1\" class=\"dataframe\">\n",
       "  <thead>\n",
       "    <tr style=\"text-align: right;\">\n",
       "      <th></th>\n",
       "      <th>index</th>\n",
       "      <th>decade</th>\n",
       "    </tr>\n",
       "  </thead>\n",
       "  <tbody>\n",
       "    <tr>\n",
       "      <th>2</th>\n",
       "      <td>2020s</td>\n",
       "      <td>276</td>\n",
       "    </tr>\n",
       "    <tr>\n",
       "      <th>0</th>\n",
       "      <td>2010s</td>\n",
       "      <td>4544</td>\n",
       "    </tr>\n",
       "    <tr>\n",
       "      <th>1</th>\n",
       "      <td>2000s</td>\n",
       "      <td>796</td>\n",
       "    </tr>\n",
       "    <tr>\n",
       "      <th>3</th>\n",
       "      <td>90s</td>\n",
       "      <td>255</td>\n",
       "    </tr>\n",
       "    <tr>\n",
       "      <th>4</th>\n",
       "      <td>80s</td>\n",
       "      <td>127</td>\n",
       "    </tr>\n",
       "    <tr>\n",
       "      <th>5</th>\n",
       "      <td>70s</td>\n",
       "      <td>73</td>\n",
       "    </tr>\n",
       "    <tr>\n",
       "      <th>6</th>\n",
       "      <td>60s</td>\n",
       "      <td>20</td>\n",
       "    </tr>\n",
       "    <tr>\n",
       "      <th>7</th>\n",
       "      <td>50s</td>\n",
       "      <td>15</td>\n",
       "    </tr>\n",
       "    <tr>\n",
       "      <th>8</th>\n",
       "      <td>40s</td>\n",
       "      <td>13</td>\n",
       "    </tr>\n",
       "    <tr>\n",
       "      <th>10</th>\n",
       "      <td>30s</td>\n",
       "      <td>0</td>\n",
       "    </tr>\n",
       "    <tr>\n",
       "      <th>9</th>\n",
       "      <td>20s</td>\n",
       "      <td>0</td>\n",
       "    </tr>\n",
       "  </tbody>\n",
       "</table>\n",
       "</div>"
      ],
      "text/plain": [
       "    index  decade\n",
       "2   2020s     276\n",
       "0   2010s    4544\n",
       "1   2000s     796\n",
       "3     90s     255\n",
       "4     80s     127\n",
       "5     70s      73\n",
       "6     60s      20\n",
       "7     50s      15\n",
       "8     40s      13\n",
       "10    30s       0\n",
       "9     20s       0"
      ]
     },
     "execution_count": 748,
     "metadata": {},
     "output_type": "execute_result"
    }
   ],
   "source": [
    "# no of movies in each decade\n",
    "\n",
    "movie_data['decade'].value_counts().reset_index().sort_values('index', ascending=False)"
   ]
  },
  {
   "cell_type": "code",
   "execution_count": 749,
   "id": "b53492b6",
   "metadata": {},
   "outputs": [
    {
     "data": {
      "text/plain": [
       "<AxesSubplot:xlabel='decade', ylabel='Count'>"
      ]
     },
     "execution_count": 749,
     "metadata": {},
     "output_type": "execute_result"
    },
    {
     "data": {
      "image/png": "[encoded data removed]",
      "text/plain": [
       "<Figure size 2000x800 with 2 Axes>"
      ]
     },
     "metadata": {},
     "output_type": "display_data"
    }
   ],
   "source": [
    "# Movies in Last 30 years- 1990 to present\n",
    "\n",
    "last30y_movie=movie_data.loc[movie_data['release_year']>=1991]\n",
    "plt.figure(figsize=(20,8))\n",
    "plt.subplot(1,2,1)\n",
    "sns.histplot(last30y_movie['release_year'])\n",
    "plt.subplot(1,2,2)\n",
    "sns.histplot(last30y_movie['decade'])   "
   ]
  },
  {
   "cell_type": "code",
   "execution_count": 750,
   "id": "4f87d809",
   "metadata": {},
   "outputs": [
    {
     "data": {
      "text/plain": [
       "<AxesSubplot:xlabel='decade', ylabel='Count'>"
      ]
     },
     "execution_count": 750,
     "metadata": {},
     "output_type": "execute_result"
    },
    {
     "data": {
      "image/png": "[encoded data removed]",
      "text/plain": [
       "<Figure size 2000x800 with 2 Axes>"
      ]
     },
     "metadata": {},
     "output_type": "display_data"
    }
   ],
   "source": [
    "# Complete movies analysis\n",
    "\n",
    "plt.figure(figsize=(20,8))\n",
    "plt.subplot(1,2,1)\n",
    "sns.histplot(movie_data['release_year'])  # left skewed distribution\n",
    "plt.subplot(1,2,2)\n",
    "sns.histplot(x=movie_data['decade'])    # left skewed distribution"
   ]
  },
  {
   "cell_type": "code",
   "execution_count": 751,
   "id": "1ddf34ba",
   "metadata": {},
   "outputs": [],
   "source": [
    "movie_30y=movie_data.loc[movie_data['release_year']>=1990]\n",
    "movie_20y=movie_data.loc[movie_data['release_year']>=2000]\n",
    "avg_dur_30y=movie_30y['dur'].mean()\n",
    "avg_dur_20y=movie_20y['dur'].mean()"
   ]
  },
  {
   "cell_type": "code",
   "execution_count": 752,
   "id": "b3dc61b2",
   "metadata": {},
   "outputs": [
    {
     "data": {
      "text/plain": [
       "0.6404598557191719"
      ]
     },
     "execution_count": 752,
     "metadata": {},
     "output_type": "execute_result"
    }
   ],
   "source": [
    "# average difference in run time of movies releases in last 30 year and last 20 years\n",
    "\n",
    "dur_diff=avg_dur_30y-avg_dur_20y\n",
    "dur_diff"
   ]
  },
  {
   "cell_type": "code",
   "execution_count": 753,
   "id": "25dc3d2e",
   "metadata": {},
   "outputs": [
    {
     "data": {
      "text/html": [
       "<div>\n",
       "<style scoped>\n",
       "    .dataframe tbody tr th:only-of-type {\n",
       "        vertical-align: middle;\n",
       "    }\n",
       "\n",
       "    .dataframe tbody tr th {\n",
       "        vertical-align: top;\n",
       "    }\n",
       "\n",
       "    .dataframe thead th {\n",
       "        text-align: right;\n",
       "    }\n",
       "</style>\n",
       "<table border=\"1\" class=\"dataframe\">\n",
       "  <thead>\n",
       "    <tr style=\"text-align: right;\">\n",
       "      <th></th>\n",
       "      <th>decade</th>\n",
       "      <th>dur</th>\n",
       "    </tr>\n",
       "  </thead>\n",
       "  <tbody>\n",
       "    <tr>\n",
       "      <th>2</th>\n",
       "      <td>40s</td>\n",
       "      <td>51.384615</td>\n",
       "    </tr>\n",
       "    <tr>\n",
       "      <th>3</th>\n",
       "      <td>50s</td>\n",
       "      <td>116.80...</td>\n",
       "    </tr>\n",
       "    <tr>\n",
       "      <th>4</th>\n",
       "      <td>60s</td>\n",
       "      <td>139.45...</td>\n",
       "    </tr>\n",
       "    <tr>\n",
       "      <th>5</th>\n",
       "      <td>70s</td>\n",
       "      <td>116.43...</td>\n",
       "    </tr>\n",
       "    <tr>\n",
       "      <th>6</th>\n",
       "      <td>80s</td>\n",
       "      <td>113.29...</td>\n",
       "    </tr>\n",
       "    <tr>\n",
       "      <th>7</th>\n",
       "      <td>90s</td>\n",
       "      <td>113.27...</td>\n",
       "    </tr>\n",
       "    <tr>\n",
       "      <th>8</th>\n",
       "      <td>2000s</td>\n",
       "      <td>110.54...</td>\n",
       "    </tr>\n",
       "    <tr>\n",
       "      <th>9</th>\n",
       "      <td>2010s</td>\n",
       "      <td>96.077025</td>\n",
       "    </tr>\n",
       "    <tr>\n",
       "      <th>10</th>\n",
       "      <td>2020s</td>\n",
       "      <td>95.804348</td>\n",
       "    </tr>\n",
       "  </tbody>\n",
       "</table>\n",
       "</div>"
      ],
      "text/plain": [
       "   decade        dur\n",
       "2     40s  51.384615\n",
       "3     50s  116.80...\n",
       "4     60s  139.45...\n",
       "5     70s  116.43...\n",
       "6     80s  113.29...\n",
       "7     90s  113.27...\n",
       "8   2000s  110.54...\n",
       "9   2010s  96.077025\n",
       "10  2020s  95.804348"
      ]
     },
     "execution_count": 753,
     "metadata": {},
     "output_type": "execute_result"
    }
   ],
   "source": [
    "# average duration of movies by decade\n",
    "\n",
    "a=movie_data.groupby('decade')['dur'].mean().reset_index().dropna()\n",
    "a"
   ]
  },
  {
   "cell_type": "code",
   "execution_count": 754,
   "id": "2e318176",
   "metadata": {},
   "outputs": [
    {
     "data": {
      "text/plain": [
       "<AxesSubplot:xlabel='decade', ylabel='dur'>"
      ]
     },
     "execution_count": 754,
     "metadata": {},
     "output_type": "execute_result"
    },
    {
     "data": {
      "image/png": "[encoded data removed]",
      "text/plain": [
       "<Figure size 640x480 with 1 Axes>"
      ]
     },
     "metadata": {},
     "output_type": "display_data"
    }
   ],
   "source": [
    "sns.barplot(y=a['dur'], x=a['decade'])"
   ]
  },
  {
   "cell_type": "code",
   "execution_count": 755,
   "id": "f844f82e",
   "metadata": {},
   "outputs": [
    {
     "data": {
      "text/plain": [
       "8205    75\n",
       "7790    75\n",
       "8763    74\n",
       "8660    74\n",
       "8739    74\n",
       "        ..\n",
       "5733     0\n",
       "5734     0\n",
       "5736     0\n",
       "7063    -1\n",
       "5394    -1\n",
       "Length: 6119, dtype: int64"
      ]
     },
     "execution_count": 755,
     "metadata": {},
     "output_type": "execute_result"
    }
   ],
   "source": [
    "### year difference between actual release and Netflix release\n",
    "\n",
    "year_diff=movie_data['date_added'].dt.year-movie_data['release_year']\n",
    "year_diff=year_diff.sort_values(ascending=False)\n",
    "year_diff"
   ]
  },
  {
   "cell_type": "code",
   "execution_count": 756,
   "id": "1f306467",
   "metadata": {},
   "outputs": [
    {
     "data": {
      "text/plain": [
       "<AxesSubplot:ylabel='Count'>"
      ]
     },
     "execution_count": 756,
     "metadata": {},
     "output_type": "execute_result"
    },
    {
     "data": {
      "image/png": "[encoded data removed]",
      "text/plain": [
       "<Figure size 640x480 with 1 Axes>"
      ]
     },
     "metadata": {},
     "output_type": "display_data"
    }
   ],
   "source": [
    "sns.histplot(year_diff)   # - Mojority of the movies on Netflix where added the same year they were released.-2021"
   ]
  },
  {
   "cell_type": "code",
   "execution_count": 757,
   "id": "82c473f9",
   "metadata": {},
   "outputs": [],
   "source": [
    "#Insights\n",
    "\n",
    "# -oldest Movie on Netflix are Prelude to War & The Battle of Midway from year 1942\n",
    "# - Shortest movie and Longest Movies are Silent(3 mins) and Black Mirror: Bandersnatch(312 mins)\n",
    "\n",
    "# -The numnber of movies released each year had increased very much over the decades.\n",
    "# - Almost 2/3rd of the movies on Netflix are from 2010s decade.\n",
    "# - There are less than 200 movies on Netflix which are older than 1970s.\n",
    "# - When compared to 90s and 2000s, there are almost 3 times more movies from 2000s than 90s \n",
    "# - ANd bewteen 90s and 2010s, there are 17 times more movies from 2010s compared to 90s.\n",
    "# - Mojority of the movies on Netflix where added the same year they were released.\n",
    "\n",
    "# - The average duration of recent movies on Netflix is lesser compared to the order movies."
   ]
  },
  {
   "cell_type": "markdown",
   "id": "66d372d1",
   "metadata": {},
   "source": [
    "### Comparison of TV Shows and Movies"
   ]
  },
  {
   "cell_type": "code",
   "execution_count": 758,
   "id": "8762619c",
   "metadata": {},
   "outputs": [
    {
     "data": {
      "text/plain": [
       "Movie      6119\n",
       "TV Show    2676\n",
       "Name: type, dtype: int64"
      ]
     },
     "execution_count": 758,
     "metadata": {},
     "output_type": "execute_result"
    }
   ],
   "source": [
    "data['type'].value_counts()"
   ]
  },
  {
   "cell_type": "markdown",
   "id": "9520f106",
   "metadata": {},
   "source": [
    "### Day on which most TV Shows were released"
   ]
  },
  {
   "cell_type": "code",
   "execution_count": 759,
   "id": "851d8e78",
   "metadata": {},
   "outputs": [
    {
     "data": {
      "text/plain": [
       "Friday    932\n",
       "Name: date_added, dtype: int64"
      ]
     },
     "execution_count": 759,
     "metadata": {},
     "output_type": "execute_result"
    }
   ],
   "source": [
    "tv_day=tvshow_data['date_added'].dt.day_name()\n",
    "tv_day.value_counts().head(1)                   ## On Netflix most TV Shows were released on Friday"
   ]
  },
  {
   "cell_type": "code",
   "execution_count": 760,
   "id": "c72ff90c",
   "metadata": {},
   "outputs": [
    {
     "data": {
      "text/plain": [
       "Friday    1564\n",
       "Name: date_added, dtype: int64"
      ]
     },
     "execution_count": 760,
     "metadata": {},
     "output_type": "execute_result"
    }
   ],
   "source": [
    "m_day=movie_data['date_added'].dt.day_name()\n",
    "m_day.value_counts().head(1)                     ## On Netflix most movies were released on Friday"
   ]
  },
  {
   "cell_type": "code",
   "execution_count": 761,
   "id": "babba1b4",
   "metadata": {},
   "outputs": [],
   "source": [
    "m_count=movie_data['release_year'].value_counts()\n",
    "x1=m_count.index\n",
    "y1=m_count\n",
    "tv_count=tvshow_data['release_year'].value_counts()\n",
    "x2=tv_count.index\n",
    "y2=tv_count"
   ]
  },
  {
   "cell_type": "code",
   "execution_count": 2,
   "id": "5f84596e",
   "metadata": {},
   "outputs": [
    {
     "ename": "NameError",
     "evalue": "name 'plt' is not defined",
     "output_type": "error",
     "traceback": [
      "\u001b[1;31m---------------------------------------------------------------------------\u001b[0m",
      "\u001b[1;31mNameError\u001b[0m                                 Traceback (most recent call last)",
      "\u001b[1;32m~\\AppData\\Local\\Temp\\ipykernel_18496\\3258566942.py\u001b[0m in \u001b[0;36m<module>\u001b[1;34m\u001b[0m\n\u001b[1;32m----> 1\u001b[1;33m \u001b[0mplt\u001b[0m\u001b[1;33m.\u001b[0m\u001b[0mfigure\u001b[0m\u001b[1;33m(\u001b[0m\u001b[0mfigsize\u001b[0m\u001b[1;33m=\u001b[0m\u001b[1;33m(\u001b[0m\u001b[1;36m25\u001b[0m\u001b[1;33m,\u001b[0m\u001b[1;36m12\u001b[0m\u001b[1;33m)\u001b[0m\u001b[1;33m)\u001b[0m\u001b[1;33m\u001b[0m\u001b[1;33m\u001b[0m\u001b[0m\n\u001b[0m\u001b[0;32m      2\u001b[0m \u001b[0mplt\u001b[0m\u001b[1;33m.\u001b[0m\u001b[0msubplot\u001b[0m\u001b[1;33m(\u001b[0m\u001b[1;36m2\u001b[0m\u001b[1;33m,\u001b[0m\u001b[1;36m3\u001b[0m\u001b[1;33m,\u001b[0m\u001b[1;36m2\u001b[0m\u001b[1;33m)\u001b[0m\u001b[1;33m\u001b[0m\u001b[1;33m\u001b[0m\u001b[0m\n\u001b[0;32m      3\u001b[0m \u001b[0msns\u001b[0m\u001b[1;33m.\u001b[0m\u001b[0mcountplot\u001b[0m\u001b[1;33m(\u001b[0m\u001b[0mdata\u001b[0m\u001b[1;33m[\u001b[0m\u001b[1;34m'type'\u001b[0m\u001b[1;33m]\u001b[0m\u001b[1;33m)\u001b[0m\u001b[1;33m\u001b[0m\u001b[1;33m\u001b[0m\u001b[0m\n\u001b[0;32m      4\u001b[0m \u001b[0mplt\u001b[0m\u001b[1;33m.\u001b[0m\u001b[0msubplot\u001b[0m\u001b[1;33m(\u001b[0m\u001b[1;36m2\u001b[0m\u001b[1;33m,\u001b[0m\u001b[1;36m3\u001b[0m\u001b[1;33m,\u001b[0m\u001b[1;36m1\u001b[0m\u001b[1;33m)\u001b[0m\u001b[1;33m\u001b[0m\u001b[1;33m\u001b[0m\u001b[0m\n\u001b[0;32m      5\u001b[0m \u001b[0msns\u001b[0m\u001b[1;33m.\u001b[0m\u001b[0mlineplot\u001b[0m\u001b[1;33m(\u001b[0m\u001b[0mx\u001b[0m\u001b[1;33m=\u001b[0m\u001b[0mx1\u001b[0m\u001b[1;33m,\u001b[0m \u001b[0my\u001b[0m\u001b[1;33m=\u001b[0m\u001b[0my1\u001b[0m\u001b[1;33m,\u001b[0m \u001b[0mcolor\u001b[0m\u001b[1;33m=\u001b[0m\u001b[1;34m'blue'\u001b[0m\u001b[1;33m)\u001b[0m\u001b[1;33m\u001b[0m\u001b[1;33m\u001b[0m\u001b[0m\n",
      "\u001b[1;31mNameError\u001b[0m: name 'plt' is not defined"
     ]
    }
   ],
   "source": [
    "plt.figure(figsize=(25,12))\n",
    "plt.subplot(2,3,2)\n",
    "sns.countplot(data['type'])\n",
    "plt.subplot(2,3,1)\n",
    "sns.lineplot(x=x1, y=y1, color='blue')\n",
    "sns.lineplot(x=x2,y=y2, color='orange')                                           \n",
    "plt.subplot(2,3,3)\n",
    "sns.countplot(data=data,x='country',hue='type', order=data['country'].value_counts().head(5).index)                                                     \n",
    "plt.subplot(2,3,4)\n",
    "sns.boxplot(data=movie_data, x='decade', y='dur', color='blue')                                                   \n",
    "plt.subplot(2,3,5)\n",
    "sns.boxplot(data=tvshow_data, x='decade', y='dur', color='orange')        \n",
    "plt.subplot(2,3,6)\n",
    "sns.countplot(data=data, x='decade', hue='type')"
   ]
  },
  {
   "cell_type": "code",
   "execution_count": 763,
   "id": "29755d36",
   "metadata": {},
   "outputs": [],
   "source": [
    "# Insight\n",
    "\n",
    "# - Netflix Clearly has more no of movies than TV Shows- more than twice\n",
    "# - The mojority of TV Shows and Movies on Netflix are from 20th Century, specifically 2010s.\n",
    "# - Among the top countries only japan and UK are having more TV Shows on Netflix compared to Movies.\n",
    "# - The average of duration for movies on Netflix is around 100 mins where for TV Shows its 1-2 seasons.\n",
    "# - There are a lot of ouliers for each deacde in terms of duration, expecially in movies from 2000s, 2010s.\n",
    "# - On Netflix, most of TV Shows and Movies were released on Friday"
   ]
  },
  {
   "cell_type": "markdown",
   "id": "b9a3b7f6",
   "metadata": {},
   "source": [
    "## Analysis of different genres against Directors"
   ]
  },
  {
   "cell_type": "markdown",
   "id": "290981a2",
   "metadata": {},
   "source": [
    "### Top 10 directors with most movies"
   ]
  },
  {
   "cell_type": "code",
   "execution_count": 764,
   "id": "66db1e33",
   "metadata": {},
   "outputs": [
    {
     "data": {
      "text/html": [
       "<div>\n",
       "<style scoped>\n",
       "    .dataframe tbody tr th:only-of-type {\n",
       "        vertical-align: middle;\n",
       "    }\n",
       "\n",
       "    .dataframe tbody tr th {\n",
       "        vertical-align: top;\n",
       "    }\n",
       "\n",
       "    .dataframe thead th {\n",
       "        text-align: right;\n",
       "    }\n",
       "</style>\n",
       "<table border=\"1\" class=\"dataframe\">\n",
       "  <thead>\n",
       "    <tr style=\"text-align: right;\">\n",
       "      <th></th>\n",
       "      <th>index</th>\n",
       "      <th>director</th>\n",
       "    </tr>\n",
       "  </thead>\n",
       "  <tbody>\n",
       "    <tr>\n",
       "      <th>0</th>\n",
       "      <td>Rajiv ...</td>\n",
       "      <td>19</td>\n",
       "    </tr>\n",
       "    <tr>\n",
       "      <th>1</th>\n",
       "      <td>Raúl C...</td>\n",
       "      <td>18</td>\n",
       "    </tr>\n",
       "    <tr>\n",
       "      <th>2</th>\n",
       "      <td>Marcus...</td>\n",
       "      <td>16</td>\n",
       "    </tr>\n",
       "    <tr>\n",
       "      <th>3</th>\n",
       "      <td>Suhas ...</td>\n",
       "      <td>16</td>\n",
       "    </tr>\n",
       "    <tr>\n",
       "      <th>4</th>\n",
       "      <td>Jay Karas</td>\n",
       "      <td>14</td>\n",
       "    </tr>\n",
       "    <tr>\n",
       "      <th>5</th>\n",
       "      <td>Cathy ...</td>\n",
       "      <td>13</td>\n",
       "    </tr>\n",
       "    <tr>\n",
       "      <th>6</th>\n",
       "      <td>Jay Ch...</td>\n",
       "      <td>12</td>\n",
       "    </tr>\n",
       "    <tr>\n",
       "      <th>7</th>\n",
       "      <td>Yousse...</td>\n",
       "      <td>12</td>\n",
       "    </tr>\n",
       "    <tr>\n",
       "      <th>8</th>\n",
       "      <td>Martin...</td>\n",
       "      <td>12</td>\n",
       "    </tr>\n",
       "    <tr>\n",
       "      <th>9</th>\n",
       "      <td>Steven...</td>\n",
       "      <td>11</td>\n",
       "    </tr>\n",
       "  </tbody>\n",
       "</table>\n",
       "</div>"
      ],
      "text/plain": [
       "       index  director\n",
       "0  Rajiv ...        19\n",
       "1  Raúl C...        18\n",
       "2  Marcus...        16\n",
       "3  Suhas ...        16\n",
       "4  Jay Karas        14\n",
       "5  Cathy ...        13\n",
       "6  Jay Ch...        12\n",
       "7  Yousse...        12\n",
       "8  Martin...        12\n",
       "9  Steven...        11"
      ]
     },
     "execution_count": 764,
     "metadata": {},
     "output_type": "execute_result"
    }
   ],
   "source": [
    "director=data.loc[data['director']!='unknown']\n",
    "director['director'].value_counts().reset_index()[:10]"
   ]
  },
  {
   "cell_type": "markdown",
   "id": "78648c49",
   "metadata": {},
   "source": [
    "### Each directors year of first and last movie"
   ]
  },
  {
   "cell_type": "code",
   "execution_count": 765,
   "id": "153ca316",
   "metadata": {},
   "outputs": [
    {
     "data": {
      "text/html": [
       "<div>\n",
       "<style scoped>\n",
       "    .dataframe tbody tr th:only-of-type {\n",
       "        vertical-align: middle;\n",
       "    }\n",
       "\n",
       "    .dataframe tbody tr th {\n",
       "        vertical-align: top;\n",
       "    }\n",
       "\n",
       "    .dataframe thead th {\n",
       "        text-align: right;\n",
       "    }\n",
       "</style>\n",
       "<table border=\"1\" class=\"dataframe\">\n",
       "  <thead>\n",
       "    <tr style=\"text-align: right;\">\n",
       "      <th></th>\n",
       "      <th>director</th>\n",
       "      <th>min</th>\n",
       "      <th>max</th>\n",
       "    </tr>\n",
       "  </thead>\n",
       "  <tbody>\n",
       "    <tr>\n",
       "      <th>0</th>\n",
       "      <td>A. L. ...</td>\n",
       "      <td>2016</td>\n",
       "      <td>2019</td>\n",
       "    </tr>\n",
       "    <tr>\n",
       "      <th>1</th>\n",
       "      <td>A. Raa...</td>\n",
       "      <td>2020</td>\n",
       "      <td>2020</td>\n",
       "    </tr>\n",
       "    <tr>\n",
       "      <th>2</th>\n",
       "      <td>A. Salaam</td>\n",
       "      <td>1975</td>\n",
       "      <td>1975</td>\n",
       "    </tr>\n",
       "    <tr>\n",
       "      <th>3</th>\n",
       "      <td>A.R. M...</td>\n",
       "      <td>2017</td>\n",
       "      <td>2018</td>\n",
       "    </tr>\n",
       "    <tr>\n",
       "      <th>4</th>\n",
       "      <td>Aadish...</td>\n",
       "      <td>2018</td>\n",
       "      <td>2018</td>\n",
       "    </tr>\n",
       "    <tr>\n",
       "      <th>...</th>\n",
       "      <td>...</td>\n",
       "      <td>...</td>\n",
       "      <td>...</td>\n",
       "    </tr>\n",
       "    <tr>\n",
       "      <th>4519</th>\n",
       "      <td>Çagan ...</td>\n",
       "      <td>2005</td>\n",
       "      <td>2005</td>\n",
       "    </tr>\n",
       "    <tr>\n",
       "      <th>4520</th>\n",
       "      <td>Ísold ...</td>\n",
       "      <td>2018</td>\n",
       "      <td>2018</td>\n",
       "    </tr>\n",
       "    <tr>\n",
       "      <th>4521</th>\n",
       "      <td>Óskar ...</td>\n",
       "      <td>2017</td>\n",
       "      <td>2017</td>\n",
       "    </tr>\n",
       "    <tr>\n",
       "      <th>4522</th>\n",
       "      <td>Ömer F...</td>\n",
       "      <td>2004</td>\n",
       "      <td>2011</td>\n",
       "    </tr>\n",
       "    <tr>\n",
       "      <th>4523</th>\n",
       "      <td>Şenol ...</td>\n",
       "      <td>2015</td>\n",
       "      <td>2019</td>\n",
       "    </tr>\n",
       "  </tbody>\n",
       "</table>\n",
       "<p>4524 rows × 3 columns</p>\n",
       "</div>"
      ],
      "text/plain": [
       "       director   min   max\n",
       "0     A. L. ...  2016  2019\n",
       "1     A. Raa...  2020  2020\n",
       "2     A. Salaam  1975  1975\n",
       "3     A.R. M...  2017  2018\n",
       "4     Aadish...  2018  2018\n",
       "...         ...   ...   ...\n",
       "4519  Çagan ...  2005  2005\n",
       "4520  Ísold ...  2018  2018\n",
       "4521  Óskar ...  2017  2017\n",
       "4522  Ömer F...  2004  2011\n",
       "4523  Şenol ...  2015  2019\n",
       "\n",
       "[4524 rows x 3 columns]"
      ]
     },
     "execution_count": 765,
     "metadata": {},
     "output_type": "execute_result"
    }
   ],
   "source": [
    "director.groupby('director')['release_year'].agg({'min','max'}).reset_index()"
   ]
  },
  {
   "cell_type": "code",
   "execution_count": 766,
   "id": "7545c750",
   "metadata": {},
   "outputs": [
    {
     "data": {
      "text/plain": [
       "Dramas, International Movies                             362\n",
       "Documentaries                                            358\n",
       "Stand-Up Comedy                                          334\n",
       "Comedies, Dramas, International Movies                   271\n",
       "Dramas, Independent Movies, International Movies         252\n",
       "                                                        ... \n",
       "Crime TV Shows, Kids' TV                                   1\n",
       "Horror Movies, International Movies, Sci-Fi & Fantasy      1\n",
       "TV Comedies, TV Mysteries                                  1\n",
       "British TV Shows, Docuseries, TV Comedies                  1\n",
       "Cult Movies, Dramas, Thrillers                             1\n",
       "Name: listed_in, Length: 514, dtype: int64"
      ]
     },
     "execution_count": 766,
     "metadata": {},
     "output_type": "execute_result"
    }
   ],
   "source": [
    "data['listed_in'].value_counts()"
   ]
  },
  {
   "cell_type": "code",
   "execution_count": 767,
   "id": "0b366d7a",
   "metadata": {},
   "outputs": [
    {
     "data": {
      "text/html": [
       "<div>\n",
       "<style scoped>\n",
       "    .dataframe tbody tr th:only-of-type {\n",
       "        vertical-align: middle;\n",
       "    }\n",
       "\n",
       "    .dataframe tbody tr th {\n",
       "        vertical-align: top;\n",
       "    }\n",
       "\n",
       "    .dataframe thead th {\n",
       "        text-align: right;\n",
       "    }\n",
       "</style>\n",
       "<table border=\"1\" class=\"dataframe\">\n",
       "  <thead>\n",
       "    <tr style=\"text-align: right;\">\n",
       "      <th></th>\n",
       "      <th>show_id</th>\n",
       "      <th>type</th>\n",
       "      <th>title</th>\n",
       "      <th>director</th>\n",
       "      <th>cast</th>\n",
       "      <th>country</th>\n",
       "      <th>date_added</th>\n",
       "      <th>release_year</th>\n",
       "      <th>rating</th>\n",
       "      <th>duration</th>\n",
       "      <th>listed_in</th>\n",
       "      <th>description</th>\n",
       "      <th>dur</th>\n",
       "      <th>decade</th>\n",
       "    </tr>\n",
       "  </thead>\n",
       "  <tbody>\n",
       "    <tr>\n",
       "      <th>0</th>\n",
       "      <td>s1</td>\n",
       "      <td>Movie</td>\n",
       "      <td>Dick Johnson Is Dead</td>\n",
       "      <td>Kirsten Johnson</td>\n",
       "      <td>unknown</td>\n",
       "      <td>United States</td>\n",
       "      <td>2021-09-25</td>\n",
       "      <td>2020</td>\n",
       "      <td>PG-13</td>\n",
       "      <td>90 min</td>\n",
       "      <td>Documentaries</td>\n",
       "      <td>As her father nears the en...</td>\n",
       "      <td>90.0</td>\n",
       "      <td>2010s</td>\n",
       "    </tr>\n",
       "    <tr>\n",
       "      <th>1</th>\n",
       "      <td>s2</td>\n",
       "      <td>TV Show</td>\n",
       "      <td>Blood &amp; Water</td>\n",
       "      <td>unknown</td>\n",
       "      <td>Ama Qamata, Khosi Ngema, G...</td>\n",
       "      <td>South Africa</td>\n",
       "      <td>2021-09-24</td>\n",
       "      <td>2021</td>\n",
       "      <td>TV-MA</td>\n",
       "      <td>2 Seasons</td>\n",
       "      <td>International TV Shows</td>\n",
       "      <td>After crossing paths at a ...</td>\n",
       "      <td>2.0</td>\n",
       "      <td>2020s</td>\n",
       "    </tr>\n",
       "    <tr>\n",
       "      <th>1</th>\n",
       "      <td>s2</td>\n",
       "      <td>TV Show</td>\n",
       "      <td>Blood &amp; Water</td>\n",
       "      <td>unknown</td>\n",
       "      <td>Ama Qamata, Khosi Ngema, G...</td>\n",
       "      <td>South Africa</td>\n",
       "      <td>2021-09-24</td>\n",
       "      <td>2021</td>\n",
       "      <td>TV-MA</td>\n",
       "      <td>2 Seasons</td>\n",
       "      <td>TV Dramas</td>\n",
       "      <td>After crossing paths at a ...</td>\n",
       "      <td>2.0</td>\n",
       "      <td>2020s</td>\n",
       "    </tr>\n",
       "    <tr>\n",
       "      <th>1</th>\n",
       "      <td>s2</td>\n",
       "      <td>TV Show</td>\n",
       "      <td>Blood &amp; Water</td>\n",
       "      <td>unknown</td>\n",
       "      <td>Ama Qamata, Khosi Ngema, G...</td>\n",
       "      <td>South Africa</td>\n",
       "      <td>2021-09-24</td>\n",
       "      <td>2021</td>\n",
       "      <td>TV-MA</td>\n",
       "      <td>2 Seasons</td>\n",
       "      <td>TV Mysteries</td>\n",
       "      <td>After crossing paths at a ...</td>\n",
       "      <td>2.0</td>\n",
       "      <td>2020s</td>\n",
       "    </tr>\n",
       "    <tr>\n",
       "      <th>2</th>\n",
       "      <td>s3</td>\n",
       "      <td>TV Show</td>\n",
       "      <td>Ganglands</td>\n",
       "      <td>Julien Leclercq</td>\n",
       "      <td>Sami Bouajila, Tracy Gotoa...</td>\n",
       "      <td>unknown</td>\n",
       "      <td>2021-09-24</td>\n",
       "      <td>2021</td>\n",
       "      <td>TV-MA</td>\n",
       "      <td>1 Season</td>\n",
       "      <td>Crime TV Shows</td>\n",
       "      <td>To protect his family from...</td>\n",
       "      <td>1.0</td>\n",
       "      <td>2020s</td>\n",
       "    </tr>\n",
       "  </tbody>\n",
       "</table>\n",
       "</div>"
      ],
      "text/plain": [
       "  show_id     type                 title         director  \\\n",
       "0      s1    Movie  Dick Johnson Is Dead  Kirsten Johnson   \n",
       "1      s2  TV Show         Blood & Water          unknown   \n",
       "1      s2  TV Show         Blood & Water          unknown   \n",
       "1      s2  TV Show         Blood & Water          unknown   \n",
       "2      s3  TV Show             Ganglands  Julien Leclercq   \n",
       "\n",
       "                            cast        country date_added  release_year  \\\n",
       "0                        unknown  United States 2021-09-25          2020   \n",
       "1  Ama Qamata, Khosi Ngema, G...   South Africa 2021-09-24          2021   \n",
       "1  Ama Qamata, Khosi Ngema, G...   South Africa 2021-09-24          2021   \n",
       "1  Ama Qamata, Khosi Ngema, G...   South Africa 2021-09-24          2021   \n",
       "2  Sami Bouajila, Tracy Gotoa...        unknown 2021-09-24          2021   \n",
       "\n",
       "  rating   duration               listed_in                    description  \\\n",
       "0  PG-13     90 min           Documentaries  As her father nears the en...   \n",
       "1  TV-MA  2 Seasons  International TV Shows  After crossing paths at a ...   \n",
       "1  TV-MA  2 Seasons               TV Dramas  After crossing paths at a ...   \n",
       "1  TV-MA  2 Seasons            TV Mysteries  After crossing paths at a ...   \n",
       "2  TV-MA   1 Season          Crime TV Shows  To protect his family from...   \n",
       "\n",
       "    dur decade  \n",
       "0  90.0  2010s  \n",
       "1   2.0  2020s  \n",
       "1   2.0  2020s  \n",
       "1   2.0  2020s  \n",
       "2   1.0  2020s  "
      ]
     },
     "execution_count": 767,
     "metadata": {},
     "output_type": "execute_result"
    }
   ],
   "source": [
    "# Unnesting of the columns listed_in\n",
    "\n",
    "\n",
    "listed_data=data.assign(listed_in=data['listed_in'].str.split(','))\n",
    "listed_data=listed_data.explode('listed_in')\n",
    "pd.set_option('max_colwidth',30)\n",
    "listed_data.head()"
   ]
  },
  {
   "cell_type": "code",
   "execution_count": 768,
   "id": "b44f177c",
   "metadata": {},
   "outputs": [],
   "source": [
    "### Top 10 popular Geners"
   ]
  },
  {
   "cell_type": "code",
   "execution_count": 769,
   "id": "fc19ebef",
   "metadata": {},
   "outputs": [
    {
     "data": {
      "text/html": [
       "<div>\n",
       "<style scoped>\n",
       "    .dataframe tbody tr th:only-of-type {\n",
       "        vertical-align: middle;\n",
       "    }\n",
       "\n",
       "    .dataframe tbody tr th {\n",
       "        vertical-align: top;\n",
       "    }\n",
       "\n",
       "    .dataframe thead th {\n",
       "        text-align: right;\n",
       "    }\n",
       "</style>\n",
       "<table border=\"1\" class=\"dataframe\">\n",
       "  <thead>\n",
       "    <tr style=\"text-align: right;\">\n",
       "      <th></th>\n",
       "      <th>index</th>\n",
       "      <th>listed_in</th>\n",
       "    </tr>\n",
       "  </thead>\n",
       "  <tbody>\n",
       "    <tr>\n",
       "      <th>0</th>\n",
       "      <td>International Movies</td>\n",
       "      <td>2617</td>\n",
       "    </tr>\n",
       "    <tr>\n",
       "      <th>1</th>\n",
       "      <td>Dramas</td>\n",
       "      <td>1598</td>\n",
       "    </tr>\n",
       "    <tr>\n",
       "      <th>2</th>\n",
       "      <td>Comedies</td>\n",
       "      <td>1206</td>\n",
       "    </tr>\n",
       "    <tr>\n",
       "      <th>3</th>\n",
       "      <td>Action &amp; Adventure</td>\n",
       "      <td>859</td>\n",
       "    </tr>\n",
       "    <tr>\n",
       "      <th>4</th>\n",
       "      <td>Documentaries</td>\n",
       "      <td>828</td>\n",
       "    </tr>\n",
       "    <tr>\n",
       "      <th>5</th>\n",
       "      <td>Dramas</td>\n",
       "      <td>822</td>\n",
       "    </tr>\n",
       "    <tr>\n",
       "      <th>6</th>\n",
       "      <td>International TV Shows</td>\n",
       "      <td>774</td>\n",
       "    </tr>\n",
       "    <tr>\n",
       "      <th>7</th>\n",
       "      <td>Independent Movies</td>\n",
       "      <td>736</td>\n",
       "    </tr>\n",
       "    <tr>\n",
       "      <th>8</th>\n",
       "      <td>TV Dramas</td>\n",
       "      <td>696</td>\n",
       "    </tr>\n",
       "    <tr>\n",
       "      <th>9</th>\n",
       "      <td>Romantic Movies</td>\n",
       "      <td>612</td>\n",
       "    </tr>\n",
       "  </tbody>\n",
       "</table>\n",
       "</div>"
      ],
      "text/plain": [
       "                    index  listed_in\n",
       "0    International Movies       2617\n",
       "1                  Dramas       1598\n",
       "2                Comedies       1206\n",
       "3      Action & Adventure        859\n",
       "4           Documentaries        828\n",
       "5                  Dramas        822\n",
       "6  International TV Shows        774\n",
       "7      Independent Movies        736\n",
       "8               TV Dramas        696\n",
       "9         Romantic Movies        612"
      ]
     },
     "execution_count": 769,
     "metadata": {},
     "output_type": "execute_result"
    }
   ],
   "source": [
    "listed_data['listed_in'].value_counts().reset_index()[:10]"
   ]
  },
  {
   "cell_type": "code",
   "execution_count": 770,
   "id": "d23d42ef",
   "metadata": {},
   "outputs": [
    {
     "data": {
      "text/html": [
       "<div>\n",
       "<style scoped>\n",
       "    .dataframe tbody tr th:only-of-type {\n",
       "        vertical-align: middle;\n",
       "    }\n",
       "\n",
       "    .dataframe tbody tr th {\n",
       "        vertical-align: top;\n",
       "    }\n",
       "\n",
       "    .dataframe thead th {\n",
       "        text-align: right;\n",
       "    }\n",
       "</style>\n",
       "<table border=\"1\" class=\"dataframe\">\n",
       "  <thead>\n",
       "    <tr style=\"text-align: right;\">\n",
       "      <th></th>\n",
       "      <th>director</th>\n",
       "      <th>listed_in</th>\n",
       "    </tr>\n",
       "  </thead>\n",
       "  <tbody>\n",
       "    <tr>\n",
       "      <th>0</th>\n",
       "      <td>Kirsten Johnson</td>\n",
       "      <td>Documentaries</td>\n",
       "    </tr>\n",
       "    <tr>\n",
       "      <th>2</th>\n",
       "      <td>Julien Leclercq</td>\n",
       "      <td>Crime TV Shows</td>\n",
       "    </tr>\n",
       "    <tr>\n",
       "      <th>2</th>\n",
       "      <td>Julien Leclercq</td>\n",
       "      <td>International TV Shows</td>\n",
       "    </tr>\n",
       "    <tr>\n",
       "      <th>2</th>\n",
       "      <td>Julien Leclercq</td>\n",
       "      <td>TV Action &amp; Adventure</td>\n",
       "    </tr>\n",
       "    <tr>\n",
       "      <th>5</th>\n",
       "      <td>Mike Flanagan</td>\n",
       "      <td>TV Dramas</td>\n",
       "    </tr>\n",
       "    <tr>\n",
       "      <th>...</th>\n",
       "      <td>...</td>\n",
       "      <td>...</td>\n",
       "    </tr>\n",
       "    <tr>\n",
       "      <th>8805</th>\n",
       "      <td>Peter Hewitt</td>\n",
       "      <td>Children &amp; Family Movies</td>\n",
       "    </tr>\n",
       "    <tr>\n",
       "      <th>8805</th>\n",
       "      <td>Peter Hewitt</td>\n",
       "      <td>Comedies</td>\n",
       "    </tr>\n",
       "    <tr>\n",
       "      <th>8806</th>\n",
       "      <td>Mozez Singh</td>\n",
       "      <td>Dramas</td>\n",
       "    </tr>\n",
       "    <tr>\n",
       "      <th>8806</th>\n",
       "      <td>Mozez Singh</td>\n",
       "      <td>International Movies</td>\n",
       "    </tr>\n",
       "    <tr>\n",
       "      <th>8806</th>\n",
       "      <td>Mozez Singh</td>\n",
       "      <td>Music &amp; Musicals</td>\n",
       "    </tr>\n",
       "  </tbody>\n",
       "</table>\n",
       "<p>13416 rows × 2 columns</p>\n",
       "</div>"
      ],
      "text/plain": [
       "             director                 listed_in\n",
       "0     Kirsten Johnson             Documentaries\n",
       "2     Julien Leclercq            Crime TV Shows\n",
       "2     Julien Leclercq    International TV Shows\n",
       "2     Julien Leclercq     TV Action & Adventure\n",
       "5       Mike Flanagan                 TV Dramas\n",
       "...               ...                       ...\n",
       "8805     Peter Hewitt  Children & Family Movies\n",
       "8805     Peter Hewitt                  Comedies\n",
       "8806      Mozez Singh                    Dramas\n",
       "8806      Mozez Singh      International Movies\n",
       "8806      Mozez Singh          Music & Musicals\n",
       "\n",
       "[13416 rows x 2 columns]"
      ]
     },
     "execution_count": 770,
     "metadata": {},
     "output_type": "execute_result"
    }
   ],
   "source": [
    "director_type=listed_data[['director','listed_in']]\n",
    "director_type=director_type.loc[director_type['director']!='unknown']\n",
    "director_type     \n",
    "\n",
    "# Directors and the Geners they have directed"
   ]
  },
  {
   "cell_type": "markdown",
   "id": "d25729f2",
   "metadata": {},
   "source": [
    "### Directors and the list of Geners they have directed movies"
   ]
  },
  {
   "cell_type": "code",
   "execution_count": 771,
   "id": "43e1beef",
   "metadata": {},
   "outputs": [
    {
     "data": {
      "text/html": [
       "<div>\n",
       "<style scoped>\n",
       "    .dataframe tbody tr th:only-of-type {\n",
       "        vertical-align: middle;\n",
       "    }\n",
       "\n",
       "    .dataframe tbody tr th {\n",
       "        vertical-align: top;\n",
       "    }\n",
       "\n",
       "    .dataframe thead th {\n",
       "        text-align: right;\n",
       "    }\n",
       "</style>\n",
       "<table border=\"1\" class=\"dataframe\">\n",
       "  <thead>\n",
       "    <tr style=\"text-align: right;\">\n",
       "      <th></th>\n",
       "      <th>director</th>\n",
       "      <th>listed_in</th>\n",
       "    </tr>\n",
       "  </thead>\n",
       "  <tbody>\n",
       "    <tr>\n",
       "      <th>0</th>\n",
       "      <td>A. L. Vijay</td>\n",
       "      <td>[Comedies,  Dramas,  International Movies,  Sci-Fi &amp; Fantasy]</td>\n",
       "    </tr>\n",
       "    <tr>\n",
       "      <th>1</th>\n",
       "      <td>A. Raajdheep</td>\n",
       "      <td>[Dramas,  International Movies]</td>\n",
       "    </tr>\n",
       "    <tr>\n",
       "      <th>2</th>\n",
       "      <td>A. Salaam</td>\n",
       "      <td>[Action &amp; Adventure,  International Movies,  Music &amp; Musicals]</td>\n",
       "    </tr>\n",
       "    <tr>\n",
       "      <th>3</th>\n",
       "      <td>A.R. Murugadoss</td>\n",
       "      <td>[Action &amp; Adventure,  Dramas,  International Movies]</td>\n",
       "    </tr>\n",
       "    <tr>\n",
       "      <th>4</th>\n",
       "      <td>Aadish Keluskar</td>\n",
       "      <td>[Dramas,  Independent Movies,  International Movies]</td>\n",
       "    </tr>\n",
       "    <tr>\n",
       "      <th>...</th>\n",
       "      <td>...</td>\n",
       "      <td>...</td>\n",
       "    </tr>\n",
       "    <tr>\n",
       "      <th>4519</th>\n",
       "      <td>Çagan Irmak</td>\n",
       "      <td>[Dramas,  International Movies]</td>\n",
       "    </tr>\n",
       "    <tr>\n",
       "      <th>4520</th>\n",
       "      <td>Ísold Uggadóttir</td>\n",
       "      <td>[Dramas,  Independent Movies,  International Movies]</td>\n",
       "    </tr>\n",
       "    <tr>\n",
       "      <th>4521</th>\n",
       "      <td>Óskar Thór Axelsson</td>\n",
       "      <td>[Horror Movies,  International Movies]</td>\n",
       "    </tr>\n",
       "    <tr>\n",
       "      <th>4522</th>\n",
       "      <td>Ömer Faruk Sorak</td>\n",
       "      <td>[Action &amp; Adventure,  Comedies,  International Movies, Dramas,  Romantic Movies]</td>\n",
       "    </tr>\n",
       "    <tr>\n",
       "      <th>4523</th>\n",
       "      <td>Şenol Sönmez</td>\n",
       "      <td>[Comedies,  Dramas,  International Movies,  Romantic Movies]</td>\n",
       "    </tr>\n",
       "  </tbody>\n",
       "</table>\n",
       "<p>4524 rows × 2 columns</p>\n",
       "</div>"
      ],
      "text/plain": [
       "                 director  \\\n",
       "0             A. L. Vijay   \n",
       "1            A. Raajdheep   \n",
       "2               A. Salaam   \n",
       "3         A.R. Murugadoss   \n",
       "4         Aadish Keluskar   \n",
       "...                   ...   \n",
       "4519          Çagan Irmak   \n",
       "4520     Ísold Uggadóttir   \n",
       "4521  Óskar Thór Axelsson   \n",
       "4522     Ömer Faruk Sorak   \n",
       "4523         Şenol Sönmez   \n",
       "\n",
       "                                                                             listed_in  \n",
       "0                        [Comedies,  Dramas,  International Movies,  Sci-Fi & Fantasy]  \n",
       "1                                                      [Dramas,  International Movies]  \n",
       "2                       [Action & Adventure,  International Movies,  Music & Musicals]  \n",
       "3                                 [Action & Adventure,  Dramas,  International Movies]  \n",
       "4                                 [Dramas,  Independent Movies,  International Movies]  \n",
       "...                                                                                ...  \n",
       "4519                                                   [Dramas,  International Movies]  \n",
       "4520                              [Dramas,  Independent Movies,  International Movies]  \n",
       "4521                                            [Horror Movies,  International Movies]  \n",
       "4522  [Action & Adventure,  Comedies,  International Movies, Dramas,  Romantic Movies]  \n",
       "4523                      [Comedies,  Dramas,  International Movies,  Romantic Movies]  \n",
       "\n",
       "[4524 rows x 2 columns]"
      ]
     },
     "execution_count": 771,
     "metadata": {},
     "output_type": "execute_result"
    }
   ],
   "source": [
    "pd.set_option('max_colwidth',100)\n",
    "director_type=director_type.drop_duplicates()     # removing duplicates\n",
    "directors_type_list=director_type.groupby('director').agg({'listed_in':list}).reset_index()\n",
    "directors_type_list"
   ]
  },
  {
   "cell_type": "markdown",
   "id": "68e135cf",
   "metadata": {},
   "source": [
    "### count of movies listed in each type of categories"
   ]
  },
  {
   "cell_type": "code",
   "execution_count": 772,
   "id": "9aed8e15",
   "metadata": {},
   "outputs": [
    {
     "data": {
      "text/html": [
       "<div>\n",
       "<style scoped>\n",
       "    .dataframe tbody tr th:only-of-type {\n",
       "        vertical-align: middle;\n",
       "    }\n",
       "\n",
       "    .dataframe tbody tr th {\n",
       "        vertical-align: top;\n",
       "    }\n",
       "\n",
       "    .dataframe thead th {\n",
       "        text-align: right;\n",
       "    }\n",
       "</style>\n",
       "<table border=\"1\" class=\"dataframe\">\n",
       "  <thead>\n",
       "    <tr style=\"text-align: right;\">\n",
       "      <th></th>\n",
       "      <th>index</th>\n",
       "      <th>listed_in</th>\n",
       "    </tr>\n",
       "  </thead>\n",
       "  <tbody>\n",
       "    <tr>\n",
       "      <th>0</th>\n",
       "      <td>International Movies</td>\n",
       "      <td>2617</td>\n",
       "    </tr>\n",
       "    <tr>\n",
       "      <th>1</th>\n",
       "      <td>Dramas</td>\n",
       "      <td>1598</td>\n",
       "    </tr>\n",
       "    <tr>\n",
       "      <th>2</th>\n",
       "      <td>Comedies</td>\n",
       "      <td>1206</td>\n",
       "    </tr>\n",
       "    <tr>\n",
       "      <th>3</th>\n",
       "      <td>Action &amp; Adventure</td>\n",
       "      <td>859</td>\n",
       "    </tr>\n",
       "    <tr>\n",
       "      <th>4</th>\n",
       "      <td>Documentaries</td>\n",
       "      <td>828</td>\n",
       "    </tr>\n",
       "    <tr>\n",
       "      <th>...</th>\n",
       "      <td>...</td>\n",
       "      <td>...</td>\n",
       "    </tr>\n",
       "    <tr>\n",
       "      <th>68</th>\n",
       "      <td>Romantic Movies</td>\n",
       "      <td>3</td>\n",
       "    </tr>\n",
       "    <tr>\n",
       "      <th>69</th>\n",
       "      <td>Spanish-Language TV Shows</td>\n",
       "      <td>2</td>\n",
       "    </tr>\n",
       "    <tr>\n",
       "      <th>70</th>\n",
       "      <td>LGBTQ Movies</td>\n",
       "      <td>1</td>\n",
       "    </tr>\n",
       "    <tr>\n",
       "      <th>71</th>\n",
       "      <td>TV Sci-Fi &amp; Fantasy</td>\n",
       "      <td>1</td>\n",
       "    </tr>\n",
       "    <tr>\n",
       "      <th>72</th>\n",
       "      <td>Sports Movies</td>\n",
       "      <td>1</td>\n",
       "    </tr>\n",
       "  </tbody>\n",
       "</table>\n",
       "<p>73 rows × 2 columns</p>\n",
       "</div>"
      ],
      "text/plain": [
       "                        index  listed_in\n",
       "0        International Movies       2617\n",
       "1                      Dramas       1598\n",
       "2                    Comedies       1206\n",
       "3          Action & Adventure        859\n",
       "4               Documentaries        828\n",
       "..                        ...        ...\n",
       "68            Romantic Movies          3\n",
       "69  Spanish-Language TV Shows          2\n",
       "70               LGBTQ Movies          1\n",
       "71        TV Sci-Fi & Fantasy          1\n",
       "72              Sports Movies          1\n",
       "\n",
       "[73 rows x 2 columns]"
      ]
     },
     "execution_count": 772,
     "metadata": {},
     "output_type": "execute_result"
    }
   ],
   "source": [
    "a=listed_data['listed_in'].value_counts().reset_index()\n",
    "a"
   ]
  },
  {
   "cell_type": "code",
   "execution_count": 773,
   "id": "1c2160c6",
   "metadata": {},
   "outputs": [
    {
     "data": {
      "text/plain": [
       "<AxesSubplot:xlabel='index', ylabel='listed_in'>"
      ]
     },
     "execution_count": 773,
     "metadata": {},
     "output_type": "execute_result"
    },
    {
     "data": {
      "image/png": "[encoded data removed]",
      "text/plain": [
       "<Figure size 1500x1000 with 1 Axes>"
      ]
     },
     "metadata": {},
     "output_type": "display_data"
    }
   ],
   "source": [
    "plt.figure(figsize=(15,10))\n",
    "sns.barplot(data=a[:10], x='index', y='listed_in')"
   ]
  },
  {
   "cell_type": "code",
   "execution_count": 774,
   "id": "83ec7c10",
   "metadata": {},
   "outputs": [],
   "source": [
    "# Insight\n",
    "\n",
    "# - There are a total of 4524 directors and 73 different genres in the dataset\n",
    "# - Most of the movies are listed in 'International Movies' followed by Dramas and comdey.\n",
    "# - Rajiv Chilaka has directed most movies in the dataset-19 movies.\n",
    "# - Very few programs from MoviesLGBTQ, Sci-Fi and Fantasy, Sports Movies categories."
   ]
  },
  {
   "cell_type": "markdown",
   "id": "2644a5c5",
   "metadata": {},
   "source": [
    "## Analysis of Cast"
   ]
  },
  {
   "cell_type": "code",
   "execution_count": 775,
   "id": "a10f01b4",
   "metadata": {
    "scrolled": true
   },
   "outputs": [
    {
     "data": {
      "text/html": [
       "<div>\n",
       "<style scoped>\n",
       "    .dataframe tbody tr th:only-of-type {\n",
       "        vertical-align: middle;\n",
       "    }\n",
       "\n",
       "    .dataframe tbody tr th {\n",
       "        vertical-align: top;\n",
       "    }\n",
       "\n",
       "    .dataframe thead th {\n",
       "        text-align: right;\n",
       "    }\n",
       "</style>\n",
       "<table border=\"1\" class=\"dataframe\">\n",
       "  <thead>\n",
       "    <tr style=\"text-align: right;\">\n",
       "      <th></th>\n",
       "      <th>show_id</th>\n",
       "      <th>type</th>\n",
       "      <th>title</th>\n",
       "      <th>director</th>\n",
       "      <th>cast</th>\n",
       "      <th>country</th>\n",
       "      <th>date_added</th>\n",
       "      <th>release_year</th>\n",
       "      <th>rating</th>\n",
       "      <th>duration</th>\n",
       "      <th>listed_in</th>\n",
       "      <th>description</th>\n",
       "      <th>dur</th>\n",
       "      <th>decade</th>\n",
       "    </tr>\n",
       "  </thead>\n",
       "  <tbody>\n",
       "    <tr>\n",
       "      <th>0</th>\n",
       "      <td>s1</td>\n",
       "      <td>Movie</td>\n",
       "      <td>Dick Johnson Is Dead</td>\n",
       "      <td>Kirsten Johnson</td>\n",
       "      <td>unknown</td>\n",
       "      <td>United States</td>\n",
       "      <td>2021-09-25</td>\n",
       "      <td>2020</td>\n",
       "      <td>PG-13</td>\n",
       "      <td>90 min</td>\n",
       "      <td>Documentaries</td>\n",
       "      <td>As her father nears the en...</td>\n",
       "      <td>90.0</td>\n",
       "      <td>2010s</td>\n",
       "    </tr>\n",
       "    <tr>\n",
       "      <th>1</th>\n",
       "      <td>s2</td>\n",
       "      <td>TV Show</td>\n",
       "      <td>Blood &amp; Water</td>\n",
       "      <td>unknown</td>\n",
       "      <td>Ama Qamata</td>\n",
       "      <td>South Africa</td>\n",
       "      <td>2021-09-24</td>\n",
       "      <td>2021</td>\n",
       "      <td>TV-MA</td>\n",
       "      <td>2 Seasons</td>\n",
       "      <td>International TV Shows, TV...</td>\n",
       "      <td>After crossing paths at a ...</td>\n",
       "      <td>2.0</td>\n",
       "      <td>2020s</td>\n",
       "    </tr>\n",
       "    <tr>\n",
       "      <th>1</th>\n",
       "      <td>s2</td>\n",
       "      <td>TV Show</td>\n",
       "      <td>Blood &amp; Water</td>\n",
       "      <td>unknown</td>\n",
       "      <td>Khosi Ngema</td>\n",
       "      <td>South Africa</td>\n",
       "      <td>2021-09-24</td>\n",
       "      <td>2021</td>\n",
       "      <td>TV-MA</td>\n",
       "      <td>2 Seasons</td>\n",
       "      <td>International TV Shows, TV...</td>\n",
       "      <td>After crossing paths at a ...</td>\n",
       "      <td>2.0</td>\n",
       "      <td>2020s</td>\n",
       "    </tr>\n",
       "    <tr>\n",
       "      <th>1</th>\n",
       "      <td>s2</td>\n",
       "      <td>TV Show</td>\n",
       "      <td>Blood &amp; Water</td>\n",
       "      <td>unknown</td>\n",
       "      <td>Gail Mabalane</td>\n",
       "      <td>South Africa</td>\n",
       "      <td>2021-09-24</td>\n",
       "      <td>2021</td>\n",
       "      <td>TV-MA</td>\n",
       "      <td>2 Seasons</td>\n",
       "      <td>International TV Shows, TV...</td>\n",
       "      <td>After crossing paths at a ...</td>\n",
       "      <td>2.0</td>\n",
       "      <td>2020s</td>\n",
       "    </tr>\n",
       "    <tr>\n",
       "      <th>1</th>\n",
       "      <td>s2</td>\n",
       "      <td>TV Show</td>\n",
       "      <td>Blood &amp; Water</td>\n",
       "      <td>unknown</td>\n",
       "      <td>Thabang Molaba</td>\n",
       "      <td>South Africa</td>\n",
       "      <td>2021-09-24</td>\n",
       "      <td>2021</td>\n",
       "      <td>TV-MA</td>\n",
       "      <td>2 Seasons</td>\n",
       "      <td>International TV Shows, TV...</td>\n",
       "      <td>After crossing paths at a ...</td>\n",
       "      <td>2.0</td>\n",
       "      <td>2020s</td>\n",
       "    </tr>\n",
       "  </tbody>\n",
       "</table>\n",
       "</div>"
      ],
      "text/plain": [
       "  show_id     type                 title         director             cast  \\\n",
       "0      s1    Movie  Dick Johnson Is Dead  Kirsten Johnson          unknown   \n",
       "1      s2  TV Show         Blood & Water          unknown       Ama Qamata   \n",
       "1      s2  TV Show         Blood & Water          unknown      Khosi Ngema   \n",
       "1      s2  TV Show         Blood & Water          unknown    Gail Mabalane   \n",
       "1      s2  TV Show         Blood & Water          unknown   Thabang Molaba   \n",
       "\n",
       "         country date_added  release_year rating   duration  \\\n",
       "0  United States 2021-09-25          2020  PG-13     90 min   \n",
       "1   South Africa 2021-09-24          2021  TV-MA  2 Seasons   \n",
       "1   South Africa 2021-09-24          2021  TV-MA  2 Seasons   \n",
       "1   South Africa 2021-09-24          2021  TV-MA  2 Seasons   \n",
       "1   South Africa 2021-09-24          2021  TV-MA  2 Seasons   \n",
       "\n",
       "                       listed_in                    description   dur decade  \n",
       "0                  Documentaries  As her father nears the en...  90.0  2010s  \n",
       "1  International TV Shows, TV...  After crossing paths at a ...   2.0  2020s  \n",
       "1  International TV Shows, TV...  After crossing paths at a ...   2.0  2020s  \n",
       "1  International TV Shows, TV...  After crossing paths at a ...   2.0  2020s  \n",
       "1  International TV Shows, TV...  After crossing paths at a ...   2.0  2020s  "
      ]
     },
     "execution_count": 775,
     "metadata": {},
     "output_type": "execute_result"
    }
   ],
   "source": [
    "# unnesting of cast of each movie\n",
    "\n",
    "d1=data.assign(cast=data['cast'].str.split(','))\n",
    "d1=d1.explode('cast')\n",
    "pd.set_option('max_colwidth',30)\n",
    "d1.head()"
   ]
  },
  {
   "cell_type": "markdown",
   "id": "f6e17edb",
   "metadata": {},
   "source": [
    "### Top 10 actors with highest Movies/TV Shows"
   ]
  },
  {
   "cell_type": "code",
   "execution_count": 776,
   "id": "87314f17",
   "metadata": {},
   "outputs": [
    {
     "data": {
      "text/html": [
       "<div>\n",
       "<style scoped>\n",
       "    .dataframe tbody tr th:only-of-type {\n",
       "        vertical-align: middle;\n",
       "    }\n",
       "\n",
       "    .dataframe tbody tr th {\n",
       "        vertical-align: top;\n",
       "    }\n",
       "\n",
       "    .dataframe thead th {\n",
       "        text-align: right;\n",
       "    }\n",
       "</style>\n",
       "<table border=\"1\" class=\"dataframe\">\n",
       "  <thead>\n",
       "    <tr style=\"text-align: right;\">\n",
       "      <th></th>\n",
       "      <th>index</th>\n",
       "      <th>cast</th>\n",
       "    </tr>\n",
       "  </thead>\n",
       "  <tbody>\n",
       "    <tr>\n",
       "      <th>0</th>\n",
       "      <td>Anupam Kher</td>\n",
       "      <td>39</td>\n",
       "    </tr>\n",
       "    <tr>\n",
       "      <th>1</th>\n",
       "      <td>Rupa Bhimani</td>\n",
       "      <td>31</td>\n",
       "    </tr>\n",
       "    <tr>\n",
       "      <th>2</th>\n",
       "      <td>Takahiro Sakurai</td>\n",
       "      <td>30</td>\n",
       "    </tr>\n",
       "    <tr>\n",
       "      <th>3</th>\n",
       "      <td>Julie Tejwani</td>\n",
       "      <td>28</td>\n",
       "    </tr>\n",
       "    <tr>\n",
       "      <th>4</th>\n",
       "      <td>Om Puri</td>\n",
       "      <td>27</td>\n",
       "    </tr>\n",
       "    <tr>\n",
       "      <th>5</th>\n",
       "      <td>Shah Rukh Khan</td>\n",
       "      <td>26</td>\n",
       "    </tr>\n",
       "    <tr>\n",
       "      <th>6</th>\n",
       "      <td>Rajesh Kava</td>\n",
       "      <td>26</td>\n",
       "    </tr>\n",
       "    <tr>\n",
       "      <th>7</th>\n",
       "      <td>Boman Irani</td>\n",
       "      <td>25</td>\n",
       "    </tr>\n",
       "    <tr>\n",
       "      <th>8</th>\n",
       "      <td>Paresh Rawal</td>\n",
       "      <td>25</td>\n",
       "    </tr>\n",
       "    <tr>\n",
       "      <th>9</th>\n",
       "      <td>Yuki Kaji</td>\n",
       "      <td>25</td>\n",
       "    </tr>\n",
       "  </tbody>\n",
       "</table>\n",
       "</div>"
      ],
      "text/plain": [
       "               index  cast\n",
       "0        Anupam Kher    39\n",
       "1       Rupa Bhimani    31\n",
       "2   Takahiro Sakurai    30\n",
       "3      Julie Tejwani    28\n",
       "4            Om Puri    27\n",
       "5     Shah Rukh Khan    26\n",
       "6        Rajesh Kava    26\n",
       "7        Boman Irani    25\n",
       "8       Paresh Rawal    25\n",
       "9          Yuki Kaji    25"
      ]
     },
     "execution_count": 776,
     "metadata": {},
     "output_type": "execute_result"
    }
   ],
   "source": [
    "d1=d1.loc[d1['cast']!='unknown']\n",
    "\n",
    "cast=d1['cast'].value_counts().reset_index()\n",
    "cast[:10]"
   ]
  },
  {
   "cell_type": "code",
   "execution_count": 777,
   "id": "aaba6995",
   "metadata": {},
   "outputs": [
    {
     "data": {
      "text/plain": [
       "39267"
      ]
     },
     "execution_count": 777,
     "metadata": {},
     "output_type": "execute_result"
    }
   ],
   "source": [
    "d1.groupby('cast').ngroups"
   ]
  },
  {
   "cell_type": "markdown",
   "id": "4beb21f2",
   "metadata": {},
   "source": [
    "### Each actors year of first and last movie/tv show"
   ]
  },
  {
   "cell_type": "code",
   "execution_count": 778,
   "id": "4c47be86",
   "metadata": {},
   "outputs": [
    {
     "data": {
      "text/html": [
       "<div>\n",
       "<style scoped>\n",
       "    .dataframe tbody tr th:only-of-type {\n",
       "        vertical-align: middle;\n",
       "    }\n",
       "\n",
       "    .dataframe tbody tr th {\n",
       "        vertical-align: top;\n",
       "    }\n",
       "\n",
       "    .dataframe thead th {\n",
       "        text-align: right;\n",
       "    }\n",
       "</style>\n",
       "<table border=\"1\" class=\"dataframe\">\n",
       "  <thead>\n",
       "    <tr style=\"text-align: right;\">\n",
       "      <th></th>\n",
       "      <th>cast</th>\n",
       "      <th>min</th>\n",
       "      <th>max</th>\n",
       "    </tr>\n",
       "  </thead>\n",
       "  <tbody>\n",
       "    <tr>\n",
       "      <th>0</th>\n",
       "      <td>Jr.</td>\n",
       "      <td>2017</td>\n",
       "      <td>2020</td>\n",
       "    </tr>\n",
       "    <tr>\n",
       "      <th>1</th>\n",
       "      <td>\"Riley\" Lakdhar Dridi</td>\n",
       "      <td>2019</td>\n",
       "      <td>2019</td>\n",
       "    </tr>\n",
       "    <tr>\n",
       "      <th>2</th>\n",
       "      <td>'Najite Dede</td>\n",
       "      <td>2016</td>\n",
       "      <td>2016</td>\n",
       "    </tr>\n",
       "    <tr>\n",
       "      <th>3</th>\n",
       "      <td>2 Chainz</td>\n",
       "      <td>2018</td>\n",
       "      <td>2018</td>\n",
       "    </tr>\n",
       "    <tr>\n",
       "      <th>4</th>\n",
       "      <td>2Mex</td>\n",
       "      <td>2008</td>\n",
       "      <td>2008</td>\n",
       "    </tr>\n",
       "    <tr>\n",
       "      <th>...</th>\n",
       "      <td>...</td>\n",
       "      <td>...</td>\n",
       "      <td>...</td>\n",
       "    </tr>\n",
       "    <tr>\n",
       "      <th>39262</th>\n",
       "      <td>İbrahim Büyükak</td>\n",
       "      <td>2016</td>\n",
       "      <td>2016</td>\n",
       "    </tr>\n",
       "    <tr>\n",
       "      <th>39263</th>\n",
       "      <td>İbrahim Çelikkol</td>\n",
       "      <td>2016</td>\n",
       "      <td>2016</td>\n",
       "    </tr>\n",
       "    <tr>\n",
       "      <th>39264</th>\n",
       "      <td>Şahin Irmak</td>\n",
       "      <td>2018</td>\n",
       "      <td>2018</td>\n",
       "    </tr>\n",
       "    <tr>\n",
       "      <th>39265</th>\n",
       "      <td>Şükrü Özyıldız</td>\n",
       "      <td>2014</td>\n",
       "      <td>2014</td>\n",
       "    </tr>\n",
       "    <tr>\n",
       "      <th>39266</th>\n",
       "      <td>Ṣọpẹ́ Dìrísù</td>\n",
       "      <td>2020</td>\n",
       "      <td>2020</td>\n",
       "    </tr>\n",
       "  </tbody>\n",
       "</table>\n",
       "<p>39267 rows × 3 columns</p>\n",
       "</div>"
      ],
      "text/plain": [
       "                         cast   min   max\n",
       "0                         Jr.  2017  2020\n",
       "1       \"Riley\" Lakdhar Dridi  2019  2019\n",
       "2                'Najite Dede  2016  2016\n",
       "3                    2 Chainz  2018  2018\n",
       "4                        2Mex  2008  2008\n",
       "...                       ...   ...   ...\n",
       "39262         İbrahim Büyükak  2016  2016\n",
       "39263        İbrahim Çelikkol  2016  2016\n",
       "39264             Şahin Irmak  2018  2018\n",
       "39265          Şükrü Özyıldız  2014  2014\n",
       "39266            Ṣọpẹ́ Dìrísù  2020  2020\n",
       "\n",
       "[39267 rows x 3 columns]"
      ]
     },
     "execution_count": 778,
     "metadata": {},
     "output_type": "execute_result"
    }
   ],
   "source": [
    "d1.groupby('cast')['release_year'].agg({'min','max'}).reset_index()"
   ]
  },
  {
   "cell_type": "code",
   "execution_count": 779,
   "id": "afc8011a",
   "metadata": {},
   "outputs": [],
   "source": [
    "movie_d1=d1.loc[d1['type']=='Movie']    # movie data from Unnested cast data\n",
    "tv_d1=d1.loc[d1['type']=='TV Show']     # TV show data from unnested cast data"
   ]
  },
  {
   "cell_type": "code",
   "execution_count": 780,
   "id": "aaacba7f",
   "metadata": {},
   "outputs": [],
   "source": [
    "a=movie_d1['cast'].value_counts().reset_index()     \n",
    "b=tv_d1['cast'].value_counts().reset_index()"
   ]
  },
  {
   "cell_type": "markdown",
   "id": "2ee3ba8d",
   "metadata": {},
   "source": [
    "### actors who have done both Movies and TV shows"
   ]
  },
  {
   "cell_type": "code",
   "execution_count": 781,
   "id": "8382a6b3",
   "metadata": {},
   "outputs": [
    {
     "data": {
      "text/html": [
       "<div>\n",
       "<style scoped>\n",
       "    .dataframe tbody tr th:only-of-type {\n",
       "        vertical-align: middle;\n",
       "    }\n",
       "\n",
       "    .dataframe tbody tr th {\n",
       "        vertical-align: top;\n",
       "    }\n",
       "\n",
       "    .dataframe thead th {\n",
       "        text-align: right;\n",
       "    }\n",
       "</style>\n",
       "<table border=\"1\" class=\"dataframe\">\n",
       "  <thead>\n",
       "    <tr style=\"text-align: right;\">\n",
       "      <th></th>\n",
       "      <th>index</th>\n",
       "      <th>cast</th>\n",
       "    </tr>\n",
       "  </thead>\n",
       "  <tbody>\n",
       "    <tr>\n",
       "      <th>0</th>\n",
       "      <td>Brian Drummond</td>\n",
       "      <td>8</td>\n",
       "    </tr>\n",
       "    <tr>\n",
       "      <th>1</th>\n",
       "      <td>Michela Luci</td>\n",
       "      <td>7</td>\n",
       "    </tr>\n",
       "    <tr>\n",
       "      <th>2</th>\n",
       "      <td>Kazuhiko Inoue</td>\n",
       "      <td>7</td>\n",
       "    </tr>\n",
       "    <tr>\n",
       "      <th>3</th>\n",
       "      <td>Anna Claire Bartlam</td>\n",
       "      <td>6</td>\n",
       "    </tr>\n",
       "    <tr>\n",
       "      <th>4</th>\n",
       "      <td>Lena Headey</td>\n",
       "      <td>5</td>\n",
       "    </tr>\n",
       "    <tr>\n",
       "      <th>...</th>\n",
       "      <td>...</td>\n",
       "      <td>...</td>\n",
       "    </tr>\n",
       "    <tr>\n",
       "      <th>1829</th>\n",
       "      <td>Cameron J. Wright</td>\n",
       "      <td>1</td>\n",
       "    </tr>\n",
       "    <tr>\n",
       "      <th>1830</th>\n",
       "      <td>Talia Jackson</td>\n",
       "      <td>1</td>\n",
       "    </tr>\n",
       "    <tr>\n",
       "      <th>1831</th>\n",
       "      <td>César Mello</td>\n",
       "      <td>1</td>\n",
       "    </tr>\n",
       "    <tr>\n",
       "      <th>1832</th>\n",
       "      <td>Lynn</td>\n",
       "      <td>1</td>\n",
       "    </tr>\n",
       "    <tr>\n",
       "      <th>1833</th>\n",
       "      <td>Akah Nnani</td>\n",
       "      <td>1</td>\n",
       "    </tr>\n",
       "  </tbody>\n",
       "</table>\n",
       "<p>1834 rows × 2 columns</p>\n",
       "</div>"
      ],
      "text/plain": [
       "                     index  cast\n",
       "0           Brian Drummond     8\n",
       "1             Michela Luci     7\n",
       "2           Kazuhiko Inoue     7\n",
       "3      Anna Claire Bartlam     6\n",
       "4              Lena Headey     5\n",
       "...                    ...   ...\n",
       "1829     Cameron J. Wright     1\n",
       "1830         Talia Jackson     1\n",
       "1831           César Mello     1\n",
       "1832                  Lynn     1\n",
       "1833            Akah Nnani     1\n",
       "\n",
       "[1834 rows x 2 columns]"
      ]
     },
     "execution_count": 781,
     "metadata": {},
     "output_type": "execute_result"
    }
   ],
   "source": [
    "merge_d=a.merge(b,how='inner')\n",
    "merge_d"
   ]
  },
  {
   "cell_type": "code",
   "execution_count": 782,
   "id": "3cab192f",
   "metadata": {},
   "outputs": [
    {
     "data": {
      "text/html": [
       "<div>\n",
       "<style scoped>\n",
       "    .dataframe tbody tr th:only-of-type {\n",
       "        vertical-align: middle;\n",
       "    }\n",
       "\n",
       "    .dataframe tbody tr th {\n",
       "        vertical-align: top;\n",
       "    }\n",
       "\n",
       "    .dataframe thead th {\n",
       "        text-align: right;\n",
       "    }\n",
       "</style>\n",
       "<table border=\"1\" class=\"dataframe\">\n",
       "  <thead>\n",
       "    <tr style=\"text-align: right;\">\n",
       "      <th></th>\n",
       "      <th>show_id</th>\n",
       "      <th>type</th>\n",
       "      <th>title</th>\n",
       "      <th>director</th>\n",
       "      <th>cast</th>\n",
       "      <th>country</th>\n",
       "      <th>date_added</th>\n",
       "      <th>release_year</th>\n",
       "      <th>rating</th>\n",
       "      <th>duration</th>\n",
       "      <th>listed_in</th>\n",
       "      <th>description</th>\n",
       "      <th>dur</th>\n",
       "      <th>decade</th>\n",
       "    </tr>\n",
       "  </thead>\n",
       "  <tbody>\n",
       "    <tr>\n",
       "      <th>1</th>\n",
       "      <td>s2</td>\n",
       "      <td>TV Show</td>\n",
       "      <td>Blood &amp; Water</td>\n",
       "      <td>unknown</td>\n",
       "      <td>Ama Qamata</td>\n",
       "      <td>South Africa</td>\n",
       "      <td>2021-09-24</td>\n",
       "      <td>2021</td>\n",
       "      <td>TV-MA</td>\n",
       "      <td>2 Seasons</td>\n",
       "      <td>International TV Shows</td>\n",
       "      <td>After crossing paths at a ...</td>\n",
       "      <td>2.0</td>\n",
       "      <td>2020s</td>\n",
       "    </tr>\n",
       "    <tr>\n",
       "      <th>1</th>\n",
       "      <td>s2</td>\n",
       "      <td>TV Show</td>\n",
       "      <td>Blood &amp; Water</td>\n",
       "      <td>unknown</td>\n",
       "      <td>Ama Qamata</td>\n",
       "      <td>South Africa</td>\n",
       "      <td>2021-09-24</td>\n",
       "      <td>2021</td>\n",
       "      <td>TV-MA</td>\n",
       "      <td>2 Seasons</td>\n",
       "      <td>TV Dramas</td>\n",
       "      <td>After crossing paths at a ...</td>\n",
       "      <td>2.0</td>\n",
       "      <td>2020s</td>\n",
       "    </tr>\n",
       "    <tr>\n",
       "      <th>1</th>\n",
       "      <td>s2</td>\n",
       "      <td>TV Show</td>\n",
       "      <td>Blood &amp; Water</td>\n",
       "      <td>unknown</td>\n",
       "      <td>Ama Qamata</td>\n",
       "      <td>South Africa</td>\n",
       "      <td>2021-09-24</td>\n",
       "      <td>2021</td>\n",
       "      <td>TV-MA</td>\n",
       "      <td>2 Seasons</td>\n",
       "      <td>TV Mysteries</td>\n",
       "      <td>After crossing paths at a ...</td>\n",
       "      <td>2.0</td>\n",
       "      <td>2020s</td>\n",
       "    </tr>\n",
       "    <tr>\n",
       "      <th>1</th>\n",
       "      <td>s2</td>\n",
       "      <td>TV Show</td>\n",
       "      <td>Blood &amp; Water</td>\n",
       "      <td>unknown</td>\n",
       "      <td>Khosi Ngema</td>\n",
       "      <td>South Africa</td>\n",
       "      <td>2021-09-24</td>\n",
       "      <td>2021</td>\n",
       "      <td>TV-MA</td>\n",
       "      <td>2 Seasons</td>\n",
       "      <td>International TV Shows</td>\n",
       "      <td>After crossing paths at a ...</td>\n",
       "      <td>2.0</td>\n",
       "      <td>2020s</td>\n",
       "    </tr>\n",
       "    <tr>\n",
       "      <th>1</th>\n",
       "      <td>s2</td>\n",
       "      <td>TV Show</td>\n",
       "      <td>Blood &amp; Water</td>\n",
       "      <td>unknown</td>\n",
       "      <td>Khosi Ngema</td>\n",
       "      <td>South Africa</td>\n",
       "      <td>2021-09-24</td>\n",
       "      <td>2021</td>\n",
       "      <td>TV-MA</td>\n",
       "      <td>2 Seasons</td>\n",
       "      <td>TV Dramas</td>\n",
       "      <td>After crossing paths at a ...</td>\n",
       "      <td>2.0</td>\n",
       "      <td>2020s</td>\n",
       "    </tr>\n",
       "  </tbody>\n",
       "</table>\n",
       "</div>"
      ],
      "text/plain": [
       "  show_id     type          title director          cast       country  \\\n",
       "1      s2  TV Show  Blood & Water  unknown    Ama Qamata  South Africa   \n",
       "1      s2  TV Show  Blood & Water  unknown    Ama Qamata  South Africa   \n",
       "1      s2  TV Show  Blood & Water  unknown    Ama Qamata  South Africa   \n",
       "1      s2  TV Show  Blood & Water  unknown   Khosi Ngema  South Africa   \n",
       "1      s2  TV Show  Blood & Water  unknown   Khosi Ngema  South Africa   \n",
       "\n",
       "  date_added  release_year rating   duration               listed_in  \\\n",
       "1 2021-09-24          2021  TV-MA  2 Seasons  International TV Shows   \n",
       "1 2021-09-24          2021  TV-MA  2 Seasons               TV Dramas   \n",
       "1 2021-09-24          2021  TV-MA  2 Seasons            TV Mysteries   \n",
       "1 2021-09-24          2021  TV-MA  2 Seasons  International TV Shows   \n",
       "1 2021-09-24          2021  TV-MA  2 Seasons               TV Dramas   \n",
       "\n",
       "                     description  dur decade  \n",
       "1  After crossing paths at a ...  2.0  2020s  \n",
       "1  After crossing paths at a ...  2.0  2020s  \n",
       "1  After crossing paths at a ...  2.0  2020s  \n",
       "1  After crossing paths at a ...  2.0  2020s  \n",
       "1  After crossing paths at a ...  2.0  2020s  "
      ]
     },
     "execution_count": 782,
     "metadata": {},
     "output_type": "execute_result"
    }
   ],
   "source": [
    "#unnesting of cast and listed_in columns\n",
    "\n",
    "new_d1=d1.assign(listed_in=d1['listed_in'].str.split(','))\n",
    "new_d1=new_d1.explode('listed_in')\n",
    "pd.set_option('max_colwidth',30)\n",
    "new_d1.head()"
   ]
  },
  {
   "cell_type": "code",
   "execution_count": 783,
   "id": "314ba0a7",
   "metadata": {},
   "outputs": [
    {
     "data": {
      "text/html": [
       "<div>\n",
       "<style scoped>\n",
       "    .dataframe tbody tr th:only-of-type {\n",
       "        vertical-align: middle;\n",
       "    }\n",
       "\n",
       "    .dataframe tbody tr th {\n",
       "        vertical-align: top;\n",
       "    }\n",
       "\n",
       "    .dataframe thead th {\n",
       "        text-align: right;\n",
       "    }\n",
       "</style>\n",
       "<table border=\"1\" class=\"dataframe\">\n",
       "  <thead>\n",
       "    <tr style=\"text-align: right;\">\n",
       "      <th></th>\n",
       "      <th>cast</th>\n",
       "      <th>listed_in</th>\n",
       "    </tr>\n",
       "  </thead>\n",
       "  <tbody>\n",
       "    <tr>\n",
       "      <th>1</th>\n",
       "      <td>Ama Qamata</td>\n",
       "      <td>International TV Shows</td>\n",
       "    </tr>\n",
       "    <tr>\n",
       "      <th>1</th>\n",
       "      <td>Ama Qamata</td>\n",
       "      <td>TV Dramas</td>\n",
       "    </tr>\n",
       "    <tr>\n",
       "      <th>1</th>\n",
       "      <td>Ama Qamata</td>\n",
       "      <td>TV Mysteries</td>\n",
       "    </tr>\n",
       "    <tr>\n",
       "      <th>1</th>\n",
       "      <td>Khosi Ngema</td>\n",
       "      <td>International TV Shows</td>\n",
       "    </tr>\n",
       "    <tr>\n",
       "      <th>1</th>\n",
       "      <td>Khosi Ngema</td>\n",
       "      <td>TV Dramas</td>\n",
       "    </tr>\n",
       "    <tr>\n",
       "      <th>...</th>\n",
       "      <td>...</td>\n",
       "      <td>...</td>\n",
       "    </tr>\n",
       "    <tr>\n",
       "      <th>8806</th>\n",
       "      <td>Anita Shabdish</td>\n",
       "      <td>International Movies</td>\n",
       "    </tr>\n",
       "    <tr>\n",
       "      <th>8806</th>\n",
       "      <td>Anita Shabdish</td>\n",
       "      <td>Music &amp; Musicals</td>\n",
       "    </tr>\n",
       "    <tr>\n",
       "      <th>8806</th>\n",
       "      <td>Chittaranjan Tripathy</td>\n",
       "      <td>Dramas</td>\n",
       "    </tr>\n",
       "    <tr>\n",
       "      <th>8806</th>\n",
       "      <td>Chittaranjan Tripathy</td>\n",
       "      <td>International Movies</td>\n",
       "    </tr>\n",
       "    <tr>\n",
       "      <th>8806</th>\n",
       "      <td>Chittaranjan Tripathy</td>\n",
       "      <td>Music &amp; Musicals</td>\n",
       "    </tr>\n",
       "  </tbody>\n",
       "</table>\n",
       "<p>147679 rows × 2 columns</p>\n",
       "</div>"
      ],
      "text/plain": [
       "                        cast               listed_in\n",
       "1                 Ama Qamata  International TV Shows\n",
       "1                 Ama Qamata               TV Dramas\n",
       "1                 Ama Qamata            TV Mysteries\n",
       "1                Khosi Ngema  International TV Shows\n",
       "1                Khosi Ngema               TV Dramas\n",
       "...                      ...                     ...\n",
       "8806          Anita Shabdish    International Movies\n",
       "8806          Anita Shabdish        Music & Musicals\n",
       "8806   Chittaranjan Tripathy                  Dramas\n",
       "8806   Chittaranjan Tripathy    International Movies\n",
       "8806   Chittaranjan Tripathy        Music & Musicals\n",
       "\n",
       "[147679 rows x 2 columns]"
      ]
     },
     "execution_count": 783,
     "metadata": {},
     "output_type": "execute_result"
    }
   ],
   "source": [
    "new_d1=new_d1.dropna()\n",
    "new_d1=new_d1.drop_duplicates()\n",
    "cast_listed_data=new_d1[['cast','listed_in']]\n",
    "pd.set_option('max_colwidth',30)\n",
    "cast_listed_data"
   ]
  },
  {
   "cell_type": "markdown",
   "id": "93447a8d",
   "metadata": {},
   "source": [
    "### Cast and the geners they have acted in"
   ]
  },
  {
   "cell_type": "code",
   "execution_count": 784,
   "id": "d7a15d1a",
   "metadata": {},
   "outputs": [
    {
     "data": {
      "text/html": [
       "<div>\n",
       "<style scoped>\n",
       "    .dataframe tbody tr th:only-of-type {\n",
       "        vertical-align: middle;\n",
       "    }\n",
       "\n",
       "    .dataframe tbody tr th {\n",
       "        vertical-align: top;\n",
       "    }\n",
       "\n",
       "    .dataframe thead th {\n",
       "        text-align: right;\n",
       "    }\n",
       "</style>\n",
       "<table border=\"1\" class=\"dataframe\">\n",
       "  <thead>\n",
       "    <tr style=\"text-align: right;\">\n",
       "      <th></th>\n",
       "      <th>listed_in</th>\n",
       "    </tr>\n",
       "    <tr>\n",
       "      <th>cast</th>\n",
       "      <th></th>\n",
       "    </tr>\n",
       "  </thead>\n",
       "  <tbody>\n",
       "    <tr>\n",
       "      <th>Jr.</th>\n",
       "      <td>[Comedies, TV Dramas]</td>\n",
       "    </tr>\n",
       "    <tr>\n",
       "      <th>\"Riley\" Lakdhar Dridi</th>\n",
       "      <td>[Comedies,  Dramas,  International Movies]</td>\n",
       "    </tr>\n",
       "    <tr>\n",
       "      <th>'Najite Dede</th>\n",
       "      <td>[Comedies,  International Movies,  Romantic Movies]</td>\n",
       "    </tr>\n",
       "    <tr>\n",
       "      <th>2 Chainz</th>\n",
       "      <td>[Docuseries]</td>\n",
       "    </tr>\n",
       "    <tr>\n",
       "      <th>2Mex</th>\n",
       "      <td>[Documentaries,  Music &amp; Musicals]</td>\n",
       "    </tr>\n",
       "    <tr>\n",
       "      <th>...</th>\n",
       "      <td>...</td>\n",
       "    </tr>\n",
       "    <tr>\n",
       "      <th>İbrahim Büyükak</th>\n",
       "      <td>[Comedies,  International Movies]</td>\n",
       "    </tr>\n",
       "    <tr>\n",
       "      <th>İbrahim Çelikkol</th>\n",
       "      <td>[International TV Shows,  Romantic TV Shows,  TV Dramas]</td>\n",
       "    </tr>\n",
       "    <tr>\n",
       "      <th>Şahin Irmak</th>\n",
       "      <td>[Comedies,  International Movies,  Romantic Movies]</td>\n",
       "    </tr>\n",
       "    <tr>\n",
       "      <th>Şükrü Özyıldız</th>\n",
       "      <td>[International TV Shows,  TV Dramas,  TV Thrillers]</td>\n",
       "    </tr>\n",
       "    <tr>\n",
       "      <th>Ṣọpẹ́ Dìrísù</th>\n",
       "      <td>[Horror Movies,  Independent Movies]</td>\n",
       "    </tr>\n",
       "  </tbody>\n",
       "</table>\n",
       "<p>39231 rows × 1 columns</p>\n",
       "</div>"
      ],
      "text/plain": [
       "                                                                       listed_in\n",
       "cast                                                                            \n",
       "  Jr.                                                      [Comedies, TV Dramas]\n",
       " \"Riley\" Lakdhar Dridi                [Comedies,  Dramas,  International Movies]\n",
       " 'Najite Dede                [Comedies,  International Movies,  Romantic Movies]\n",
       " 2 Chainz                                                           [Docuseries]\n",
       " 2Mex                                         [Documentaries,  Music & Musicals]\n",
       "...                                                                          ...\n",
       "İbrahim Büyükak                                [Comedies,  International Movies]\n",
       "İbrahim Çelikkol        [International TV Shows,  Romantic TV Shows,  TV Dramas]\n",
       "Şahin Irmak                  [Comedies,  International Movies,  Romantic Movies]\n",
       "Şükrü Özyıldız               [International TV Shows,  TV Dramas,  TV Thrillers]\n",
       "Ṣọpẹ́ Dìrísù                                [Horror Movies,  Independent Movies]\n",
       "\n",
       "[39231 rows x 1 columns]"
      ]
     },
     "execution_count": 784,
     "metadata": {},
     "output_type": "execute_result"
    }
   ],
   "source": [
    "listed_in_of_cast=cast_listed_data.groupby('cast').agg({'listed_in':list})\n",
    "pd.set_option('max_colwidth',100)\n",
    "listed_in_of_cast"
   ]
  },
  {
   "cell_type": "code",
   "execution_count": 785,
   "id": "8ab337d9",
   "metadata": {},
   "outputs": [
    {
     "data": {
      "text/plain": [
       "<seaborn.axisgrid.PairGrid at 0x1c6a78c0940>"
      ]
     },
     "execution_count": 785,
     "metadata": {},
     "output_type": "execute_result"
    },
    {
     "data": {
      "image/png": "[encoded data removed]",
      "text/plain": [
       "<Figure size 500x500 with 6 Axes>"
      ]
     },
     "metadata": {},
     "output_type": "display_data"
    }
   ],
   "source": [
    "sns.pairplot(data=data)"
   ]
  },
  {
   "cell_type": "code",
   "execution_count": 786,
   "id": "ae159360",
   "metadata": {},
   "outputs": [
    {
     "data": {
      "text/plain": [
       "<seaborn.axisgrid.JointGrid at 0x1c6a58dd4c0>"
      ]
     },
     "execution_count": 786,
     "metadata": {},
     "output_type": "execute_result"
    },
    {
     "data": {
      "image/png": "[encoded data removed]",
      "text/plain": [
       "<Figure size 600x600 with 3 Axes>"
      ]
     },
     "metadata": {},
     "output_type": "display_data"
    }
   ],
   "source": [
    "sns.jointplot(data=data, x='dur', y='release_year', hue='type')"
   ]
  },
  {
   "cell_type": "code",
   "execution_count": 787,
   "id": "cfc2857a",
   "metadata": {},
   "outputs": [],
   "source": [
    "#Insight\n",
    "\n",
    "# - Anupam Kher has the highest number movies on netflix as a cast- 39 movies\n",
    "# - There are a total of 39267 different actors in the dataset\n",
    "# - Out of total 1834 actors have worked in both Movies and TV Shows\n",
    "#- From scatterplot it is clearl that the no of programs released in years before 1980s is very few compared to recent years."
   ]
  },
  {
   "cell_type": "markdown",
   "id": "e630f680",
   "metadata": {},
   "source": [
    "## Analysis of country vs Genre"
   ]
  },
  {
   "cell_type": "code",
   "execution_count": 788,
   "id": "aaba2efe",
   "metadata": {},
   "outputs": [],
   "source": [
    "# Unnesting of country and listed_in, removing duplicates and NAn\n",
    "\n",
    "country=listed_data.assign(country=data['country'].str.split(','))\n",
    "country=country.explode('country')\n",
    "country_type=country[['country', 'listed_in']]\n",
    "country_type=country_type.loc[country_type['country']!='unknown']\n",
    "country_type=country_type.drop_duplicates()"
   ]
  },
  {
   "cell_type": "code",
   "execution_count": 789,
   "id": "b6a02d2f",
   "metadata": {},
   "outputs": [
    {
     "data": {
      "text/html": [
       "<div>\n",
       "<style scoped>\n",
       "    .dataframe tbody tr th:only-of-type {\n",
       "        vertical-align: middle;\n",
       "    }\n",
       "\n",
       "    .dataframe tbody tr th {\n",
       "        vertical-align: top;\n",
       "    }\n",
       "\n",
       "    .dataframe thead th {\n",
       "        text-align: right;\n",
       "    }\n",
       "</style>\n",
       "<table border=\"1\" class=\"dataframe\">\n",
       "  <thead>\n",
       "    <tr style=\"text-align: right;\">\n",
       "      <th></th>\n",
       "      <th>country</th>\n",
       "      <th>listed_in</th>\n",
       "    </tr>\n",
       "  </thead>\n",
       "  <tbody>\n",
       "    <tr>\n",
       "      <th>0</th>\n",
       "      <td></td>\n",
       "      <td>[International TV Shows,  TV Dramas, Dramas,  Independent Movies,  International Movies, Documen...</td>\n",
       "    </tr>\n",
       "    <tr>\n",
       "      <th>1</th>\n",
       "      <td>Afghanistan</td>\n",
       "      <td>[Documentaries,  International Movies]</td>\n",
       "    </tr>\n",
       "    <tr>\n",
       "      <th>2</th>\n",
       "      <td>Albania</td>\n",
       "      <td>[Dramas,  International Movies]</td>\n",
       "    </tr>\n",
       "    <tr>\n",
       "      <th>3</th>\n",
       "      <td>Algeria</td>\n",
       "      <td>[Dramas,  Independent Movies,  International Movies, Classic Movies,  Dramas]</td>\n",
       "    </tr>\n",
       "    <tr>\n",
       "      <th>4</th>\n",
       "      <td>Angola</td>\n",
       "      <td>[Action &amp; Adventure,  International Movies]</td>\n",
       "    </tr>\n",
       "    <tr>\n",
       "      <th>...</th>\n",
       "      <td>...</td>\n",
       "      <td>...</td>\n",
       "    </tr>\n",
       "    <tr>\n",
       "      <th>192</th>\n",
       "      <td>Uruguay</td>\n",
       "      <td>[Docuseries,  International TV Shows,  Science &amp; Nature TV, Documentaries,  International Movies...</td>\n",
       "    </tr>\n",
       "    <tr>\n",
       "      <th>193</th>\n",
       "      <td>Venezuela</td>\n",
       "      <td>[Documentaries,  International Movies]</td>\n",
       "    </tr>\n",
       "    <tr>\n",
       "      <th>194</th>\n",
       "      <td>Vietnam</td>\n",
       "      <td>[Dramas,  International Movies,  Romantic Movies, Documentaries,  Music &amp; Musicals, Action &amp; Adv...</td>\n",
       "    </tr>\n",
       "    <tr>\n",
       "      <th>195</th>\n",
       "      <td>West Germany</td>\n",
       "      <td>[Documentaries,  International Movies]</td>\n",
       "    </tr>\n",
       "    <tr>\n",
       "      <th>196</th>\n",
       "      <td>Zimbabwe</td>\n",
       "      <td>[Comedies,  International Movies,  Romantic Movies]</td>\n",
       "    </tr>\n",
       "  </tbody>\n",
       "</table>\n",
       "<p>197 rows × 2 columns</p>\n",
       "</div>"
      ],
      "text/plain": [
       "          country  \\\n",
       "0                   \n",
       "1     Afghanistan   \n",
       "2         Albania   \n",
       "3         Algeria   \n",
       "4          Angola   \n",
       "..            ...   \n",
       "192       Uruguay   \n",
       "193     Venezuela   \n",
       "194       Vietnam   \n",
       "195  West Germany   \n",
       "196      Zimbabwe   \n",
       "\n",
       "                                                                                               listed_in  \n",
       "0    [International TV Shows,  TV Dramas, Dramas,  Independent Movies,  International Movies, Documen...  \n",
       "1                                                                 [Documentaries,  International Movies]  \n",
       "2                                                                        [Dramas,  International Movies]  \n",
       "3                          [Dramas,  Independent Movies,  International Movies, Classic Movies,  Dramas]  \n",
       "4                                                            [Action & Adventure,  International Movies]  \n",
       "..                                                                                                   ...  \n",
       "192  [Docuseries,  International TV Shows,  Science & Nature TV, Documentaries,  International Movies...  \n",
       "193                                                               [Documentaries,  International Movies]  \n",
       "194  [Dramas,  International Movies,  Romantic Movies, Documentaries,  Music & Musicals, Action & Adv...  \n",
       "195                                                               [Documentaries,  International Movies]  \n",
       "196                                                  [Comedies,  International Movies,  Romantic Movies]  \n",
       "\n",
       "[197 rows x 2 columns]"
      ]
     },
     "execution_count": 789,
     "metadata": {},
     "output_type": "execute_result"
    }
   ],
   "source": [
    "pd.set_option('max_colwidth',100)\n",
    "country_type.groupby('country').agg({'listed_in':list}).reset_index()"
   ]
  },
  {
   "cell_type": "markdown",
   "id": "a5ee5439",
   "metadata": {},
   "source": [
    "## Checking Correlation"
   ]
  },
  {
   "cell_type": "code",
   "execution_count": 790,
   "id": "625e4cb3",
   "metadata": {},
   "outputs": [
    {
     "data": {
      "text/html": [
       "<div>\n",
       "<style scoped>\n",
       "    .dataframe tbody tr th:only-of-type {\n",
       "        vertical-align: middle;\n",
       "    }\n",
       "\n",
       "    .dataframe tbody tr th {\n",
       "        vertical-align: top;\n",
       "    }\n",
       "\n",
       "    .dataframe thead th {\n",
       "        text-align: right;\n",
       "    }\n",
       "</style>\n",
       "<table border=\"1\" class=\"dataframe\">\n",
       "  <thead>\n",
       "    <tr style=\"text-align: right;\">\n",
       "      <th></th>\n",
       "      <th>release_year</th>\n",
       "      <th>dur</th>\n",
       "    </tr>\n",
       "  </thead>\n",
       "  <tbody>\n",
       "    <tr>\n",
       "      <th>release_year</th>\n",
       "      <td>1.000000</td>\n",
       "      <td>-0.243113</td>\n",
       "    </tr>\n",
       "    <tr>\n",
       "      <th>dur</th>\n",
       "      <td>-0.243113</td>\n",
       "      <td>1.000000</td>\n",
       "    </tr>\n",
       "  </tbody>\n",
       "</table>\n",
       "</div>"
      ],
      "text/plain": [
       "              release_year       dur\n",
       "release_year      1.000000 -0.243113\n",
       "dur              -0.243113  1.000000"
      ]
     },
     "execution_count": 790,
     "metadata": {},
     "output_type": "execute_result"
    }
   ],
   "source": [
    "data.corr()"
   ]
  },
  {
   "cell_type": "code",
   "execution_count": 791,
   "id": "8cb9f51d",
   "metadata": {},
   "outputs": [
    {
     "data": {
      "text/plain": [
       "<AxesSubplot:>"
      ]
     },
     "execution_count": 791,
     "metadata": {},
     "output_type": "execute_result"
    },
    {
     "data": {
      "image/png": "[encoded data removed]",
      "text/plain": [
       "<Figure size 640x480 with 2 Axes>"
      ]
     },
     "metadata": {},
     "output_type": "display_data"
    }
   ],
   "source": [
    "sns.heatmap(data.corr(), annot=True)"
   ]
  },
  {
   "cell_type": "code",
   "execution_count": 792,
   "id": "b4422eb1",
   "metadata": {},
   "outputs": [],
   "source": [
    "# Insight\n",
    "\n",
    "# - Highly negative correlation b/w release_year and duration of the movie/ tv show"
   ]
  },
  {
   "cell_type": "markdown",
   "id": "6fb2a1cb",
   "metadata": {},
   "source": [
    "### Summary"
   ]
  },
  {
   "cell_type": "code",
   "execution_count": 793,
   "id": "6ddac79d",
   "metadata": {},
   "outputs": [],
   "source": [
    "# Final Insights\n",
    "\n",
    "# - Almost 2/3rd of the movies on Netflix are from 2010s decade.\n",
    "# - There are less than 200 movies on Netflix which are older than 1970s.\n",
    "# - Netflix has more no of movies than TV Shows- more than twice, even though numbers have increased in recent years.\n",
    "# - Among the top countries only japan and UK are having more TV Shows on Netflix compared to Movies.\n",
    "# - The average of duration for movies on Netflix is around 100 mins where for TV Shows its 1-2 seasons.\n",
    "# - There are a lot of ouliers for each deacde in terms of duration, expecially in movies from 2000s, 2010s.\n",
    "# - On Netflix, most of TV Shows and Movies were released on Friday\n",
    "# - There are a total of 4524 directors and 73 different genres in the dataset\n",
    "# - Most of the movies are listed in 'International Movies' followed by Dramas and comdey.\n",
    "# - Very few programs from MoviesLGBTQ, Sci-Fi and Fantasy, Sports Movies categories.\n",
    "# - There are a total of 39267 different actors in the dataset and 1834 actors have worked in both Movies and TV Shows\n"
   ]
  },
  {
   "cell_type": "code",
   "execution_count": 794,
   "id": "689db539",
   "metadata": {},
   "outputs": [],
   "source": [
    "# Recommendation\n",
    "\n",
    "#- Majority of Movies and Shows are from 21st century. Should increase the number of programs from previous century as well for regular streaming.\n",
    "#- The number of TV Shows compared to Movies on Netflix is very low. Increasing TV Shows may attract more audience and may increase viewers visit frequency.\n",
    "#- Most of the TV Shows are having 1 or 2 seasons. This might be due the drop in viwership or ratings. Should have a deeper study why this is happening.\n",
    "#- US and India contributes to almost half of their Dataset. Should increase programs from other country and languages.\n",
    "#- More number of movies in MoviesLGBTQ, Sci-Fi and Fantasy, Sports Movies and smaller categories should be added as there are only 1 from each category."
   ]
  },
  {
   "cell_type": "code",
   "execution_count": null,
   "id": "f89da4eb",
   "metadata": {},
   "outputs": [],
   "source": []
  }
 ],
 "metadata": {
  "kernelspec": {
   "display_name": "Python 3 (ipykernel)",
   "language": "python",
   "name": "python3"
  },
  "language_info": {
   "codemirror_mode": {
    "name": "ipython",
    "version": 3
   },
   "file_extension": ".py",
   "mimetype": "text/x-python",
   "name": "python",
   "nbconvert_exporter": "python",
   "pygments_lexer": "ipython3",
   "version": "3.9.13"
  }
 },
 "nbformat": 4,
 "nbformat_minor": 5
}
